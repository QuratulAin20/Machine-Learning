{
 "cells": [
  {
   "cell_type": "code",
   "execution_count": 1,
   "id": "6263df40",
   "metadata": {
    "_cell_guid": "b1076dfc-b9ad-4769-8c92-a6c4dae69d19",
    "_uuid": "8f2839f25d086af736a60e9eeb907d3b93b6e0e5",
    "execution": {
     "iopub.execute_input": "2024-08-29T08:11:54.008767Z",
     "iopub.status.busy": "2024-08-29T08:11:54.008331Z",
     "iopub.status.idle": "2024-08-29T08:11:54.448094Z",
     "shell.execute_reply": "2024-08-29T08:11:54.446663Z"
    },
    "papermill": {
     "duration": 0.456986,
     "end_time": "2024-08-29T08:11:54.450821",
     "exception": false,
     "start_time": "2024-08-29T08:11:53.993835",
     "status": "completed"
    },
    "tags": []
   },
   "outputs": [
    {
     "name": "stdout",
     "output_type": "stream",
     "text": [
      "/kaggle/input/human-genetic-data/genetic_data_train.csv\n",
      "/kaggle/input/human-genetic-data/genetic_data_test.csv\n"
     ]
    }
   ],
   "source": [
    "# This Python 3 environment comes with many helpful analytics libraries installed\n",
    "# It is defined by the kaggle/python Docker image: https://github.com/kaggle/docker-python\n",
    "# For example, here's several helpful packages to load\n",
    "\n",
    "import numpy as np # linear algebra\n",
    "import pandas as pd # data processing, CSV file I/O (e.g. pd.read_csv)\n",
    "\n",
    "# Input data files are available in the read-only \"../input/\" directory\n",
    "# For example, running this (by clicking run or pressing Shift+Enter) will list all files under the input directory\n",
    "\n",
    "import os\n",
    "for dirname, _, filenames in os.walk('/kaggle/input'):\n",
    "    for filename in filenames:\n",
    "        print(os.path.join(dirname, filename))\n",
    "\n",
    "# You can write up to 20GB to the current directory (/kaggle/working/) that gets preserved as output when you create a version using \"Save & Run All\" \n",
    "# You can also write temporary files to /kaggle/temp/, but they won't be saved outside of the current session"
   ]
  },
  {
   "cell_type": "code",
   "execution_count": 2,
   "id": "6fd3b8f4",
   "metadata": {
    "execution": {
     "iopub.execute_input": "2024-08-29T08:11:54.476826Z",
     "iopub.status.busy": "2024-08-29T08:11:54.476276Z",
     "iopub.status.idle": "2024-08-29T08:11:56.305809Z",
     "shell.execute_reply": "2024-08-29T08:11:56.304773Z"
    },
    "papermill": {
     "duration": 1.845387,
     "end_time": "2024-08-29T08:11:56.308371",
     "exception": false,
     "start_time": "2024-08-29T08:11:54.462984",
     "status": "completed"
    },
    "tags": []
   },
   "outputs": [],
   "source": [
    "import pandas as pd\n",
    "import numpy as np\n",
    "import seaborn as sns\n",
    "import matplotlib.pyplot as plt\n",
    "import warnings\n",
    "\n",
    "# Suppress all warnings\n",
    "warnings.filterwarnings('ignore')\n"
   ]
  },
  {
   "cell_type": "code",
   "execution_count": 3,
   "id": "5fdf3657",
   "metadata": {
    "execution": {
     "iopub.execute_input": "2024-08-29T08:11:56.334698Z",
     "iopub.status.busy": "2024-08-29T08:11:56.334113Z",
     "iopub.status.idle": "2024-08-29T08:11:56.355730Z",
     "shell.execute_reply": "2024-08-29T08:11:56.354403Z"
    },
    "papermill": {
     "duration": 0.037577,
     "end_time": "2024-08-29T08:11:56.358490",
     "exception": false,
     "start_time": "2024-08-29T08:11:56.320913",
     "status": "completed"
    },
    "tags": []
   },
   "outputs": [],
   "source": [
    "df = pd.read_csv(\"/kaggle/input/human-genetic-data/genetic_data_train.csv\")"
   ]
  },
  {
   "cell_type": "code",
   "execution_count": 4,
   "id": "6d8ab7cc",
   "metadata": {
    "execution": {
     "iopub.execute_input": "2024-08-29T08:11:56.384913Z",
     "iopub.status.busy": "2024-08-29T08:11:56.384364Z",
     "iopub.status.idle": "2024-08-29T08:11:56.394133Z",
     "shell.execute_reply": "2024-08-29T08:11:56.392560Z"
    },
    "papermill": {
     "duration": 0.026627,
     "end_time": "2024-08-29T08:11:56.397107",
     "exception": false,
     "start_time": "2024-08-29T08:11:56.370480",
     "status": "completed"
    },
    "tags": []
   },
   "outputs": [
    {
     "data": {
      "text/plain": [
       "(183, 11)"
      ]
     },
     "execution_count": 4,
     "metadata": {},
     "output_type": "execute_result"
    }
   ],
   "source": [
    "df.shape"
   ]
  },
  {
   "cell_type": "code",
   "execution_count": 5,
   "id": "d3a04725",
   "metadata": {
    "execution": {
     "iopub.execute_input": "2024-08-29T08:11:56.423560Z",
     "iopub.status.busy": "2024-08-29T08:11:56.423105Z",
     "iopub.status.idle": "2024-08-29T08:11:56.460526Z",
     "shell.execute_reply": "2024-08-29T08:11:56.459330Z"
    },
    "papermill": {
     "duration": 0.053588,
     "end_time": "2024-08-29T08:11:56.462879",
     "exception": false,
     "start_time": "2024-08-29T08:11:56.409291",
     "status": "completed"
    },
    "tags": []
   },
   "outputs": [
    {
     "name": "stdout",
     "output_type": "stream",
     "text": [
      "<class 'pandas.core.frame.DataFrame'>\n",
      "RangeIndex: 183 entries, 0 to 182\n",
      "Data columns (total 11 columns):\n",
      " #   Column    Non-Null Count  Dtype  \n",
      "---  ------    --------------  -----  \n",
      " 0   PC1       183 non-null    float64\n",
      " 1   PC2       183 non-null    float64\n",
      " 2   PC3       183 non-null    float64\n",
      " 3   PC4       183 non-null    float64\n",
      " 4   PC5       183 non-null    float64\n",
      " 5   PC6       183 non-null    float64\n",
      " 6   PC7       183 non-null    float64\n",
      " 7   PC8       183 non-null    float64\n",
      " 8   PC9       183 non-null    float64\n",
      " 9   PC10      183 non-null    float64\n",
      " 10  Ancestry  183 non-null    object \n",
      "dtypes: float64(10), object(1)\n",
      "memory usage: 15.9+ KB\n"
     ]
    }
   ],
   "source": [
    "df.info()"
   ]
  },
  {
   "cell_type": "code",
   "execution_count": 6,
   "id": "05d4db72",
   "metadata": {
    "execution": {
     "iopub.execute_input": "2024-08-29T08:11:56.492762Z",
     "iopub.status.busy": "2024-08-29T08:11:56.492311Z",
     "iopub.status.idle": "2024-08-29T08:11:56.502011Z",
     "shell.execute_reply": "2024-08-29T08:11:56.500824Z"
    },
    "papermill": {
     "duration": 0.028382,
     "end_time": "2024-08-29T08:11:56.504477",
     "exception": false,
     "start_time": "2024-08-29T08:11:56.476095",
     "status": "completed"
    },
    "tags": []
   },
   "outputs": [
    {
     "data": {
      "text/plain": [
       "PC1         0\n",
       "PC2         0\n",
       "PC3         0\n",
       "PC4         0\n",
       "PC5         0\n",
       "PC6         0\n",
       "PC7         0\n",
       "PC8         0\n",
       "PC9         0\n",
       "PC10        0\n",
       "Ancestry    0\n",
       "dtype: int64"
      ]
     },
     "execution_count": 6,
     "metadata": {},
     "output_type": "execute_result"
    }
   ],
   "source": [
    "df.isnull().sum()"
   ]
  },
  {
   "cell_type": "code",
   "execution_count": 7,
   "id": "02838eec",
   "metadata": {
    "execution": {
     "iopub.execute_input": "2024-08-29T08:11:56.531219Z",
     "iopub.status.busy": "2024-08-29T08:11:56.530527Z",
     "iopub.status.idle": "2024-08-29T08:11:56.539741Z",
     "shell.execute_reply": "2024-08-29T08:11:56.538545Z"
    },
    "papermill": {
     "duration": 0.025032,
     "end_time": "2024-08-29T08:11:56.542104",
     "exception": false,
     "start_time": "2024-08-29T08:11:56.517072",
     "status": "completed"
    },
    "tags": []
   },
   "outputs": [
    {
     "data": {
      "text/plain": [
       "0"
      ]
     },
     "execution_count": 7,
     "metadata": {},
     "output_type": "execute_result"
    }
   ],
   "source": [
    "df.duplicated().sum()"
   ]
  },
  {
   "cell_type": "code",
   "execution_count": 8,
   "id": "009e799b",
   "metadata": {
    "execution": {
     "iopub.execute_input": "2024-08-29T08:11:56.568348Z",
     "iopub.status.busy": "2024-08-29T08:11:56.567966Z",
     "iopub.status.idle": "2024-08-29T08:11:56.575821Z",
     "shell.execute_reply": "2024-08-29T08:11:56.574365Z"
    },
    "papermill": {
     "duration": 0.025453,
     "end_time": "2024-08-29T08:11:56.579916",
     "exception": false,
     "start_time": "2024-08-29T08:11:56.554463",
     "status": "completed"
    },
    "tags": []
   },
   "outputs": [
    {
     "data": {
      "text/plain": [
       "array(['African', 'European', 'EastAsian', 'Oceanian', 'NativeAmerican'],\n",
       "      dtype=object)"
      ]
     },
     "execution_count": 8,
     "metadata": {},
     "output_type": "execute_result"
    }
   ],
   "source": [
    "df['Ancestry'].unique()"
   ]
  },
  {
   "cell_type": "code",
   "execution_count": 9,
   "id": "d8e70877",
   "metadata": {
    "execution": {
     "iopub.execute_input": "2024-08-29T08:11:56.607779Z",
     "iopub.status.busy": "2024-08-29T08:11:56.607324Z",
     "iopub.status.idle": "2024-08-29T08:11:56.800167Z",
     "shell.execute_reply": "2024-08-29T08:11:56.799000Z"
    },
    "papermill": {
     "duration": 0.209943,
     "end_time": "2024-08-29T08:11:56.803027",
     "exception": false,
     "start_time": "2024-08-29T08:11:56.593084",
     "status": "completed"
    },
    "tags": []
   },
   "outputs": [],
   "source": [
    "from sklearn.preprocessing import LabelEncoder\n",
    "le = LabelEncoder()"
   ]
  },
  {
   "cell_type": "code",
   "execution_count": 10,
   "id": "126d51d2",
   "metadata": {
    "execution": {
     "iopub.execute_input": "2024-08-29T08:11:56.831053Z",
     "iopub.status.busy": "2024-08-29T08:11:56.830616Z",
     "iopub.status.idle": "2024-08-29T08:11:56.836717Z",
     "shell.execute_reply": "2024-08-29T08:11:56.835548Z"
    },
    "papermill": {
     "duration": 0.022924,
     "end_time": "2024-08-29T08:11:56.839084",
     "exception": false,
     "start_time": "2024-08-29T08:11:56.816160",
     "status": "completed"
    },
    "tags": []
   },
   "outputs": [],
   "source": [
    "df['Ancestry'] =  le.fit_transform(df['Ancestry'])"
   ]
  },
  {
   "cell_type": "code",
   "execution_count": 11,
   "id": "3c5e9b71",
   "metadata": {
    "execution": {
     "iopub.execute_input": "2024-08-29T08:11:56.867560Z",
     "iopub.status.busy": "2024-08-29T08:11:56.867142Z",
     "iopub.status.idle": "2024-08-29T08:11:56.879281Z",
     "shell.execute_reply": "2024-08-29T08:11:56.877236Z"
    },
    "papermill": {
     "duration": 0.029653,
     "end_time": "2024-08-29T08:11:56.882151",
     "exception": false,
     "start_time": "2024-08-29T08:11:56.852498",
     "status": "completed"
    },
    "tags": []
   },
   "outputs": [
    {
     "data": {
      "text/plain": [
       "array([0, 2, 1, 4, 3])"
      ]
     },
     "execution_count": 11,
     "metadata": {},
     "output_type": "execute_result"
    }
   ],
   "source": [
    "df['Ancestry'].unique()"
   ]
  },
  {
   "cell_type": "code",
   "execution_count": 12,
   "id": "a8932d49",
   "metadata": {
    "execution": {
     "iopub.execute_input": "2024-08-29T08:11:56.913049Z",
     "iopub.status.busy": "2024-08-29T08:11:56.912594Z",
     "iopub.status.idle": "2024-08-29T08:11:56.920183Z",
     "shell.execute_reply": "2024-08-29T08:11:56.918996Z"
    },
    "papermill": {
     "duration": 0.026807,
     "end_time": "2024-08-29T08:11:56.924131",
     "exception": false,
     "start_time": "2024-08-29T08:11:56.897324",
     "status": "completed"
    },
    "tags": []
   },
   "outputs": [],
   "source": [
    "X = df.drop(columns=['Ancestry'])  \n",
    "y = df['Ancestry']"
   ]
  },
  {
   "cell_type": "code",
   "execution_count": 13,
   "id": "04697aa3",
   "metadata": {
    "execution": {
     "iopub.execute_input": "2024-08-29T08:11:56.951314Z",
     "iopub.status.busy": "2024-08-29T08:11:56.950925Z",
     "iopub.status.idle": "2024-08-29T08:11:56.958664Z",
     "shell.execute_reply": "2024-08-29T08:11:56.957205Z"
    },
    "papermill": {
     "duration": 0.024198,
     "end_time": "2024-08-29T08:11:56.960967",
     "exception": false,
     "start_time": "2024-08-29T08:11:56.936769",
     "status": "completed"
    },
    "tags": []
   },
   "outputs": [
    {
     "data": {
      "text/plain": [
       "((183, 10), (183,))"
      ]
     },
     "execution_count": 13,
     "metadata": {},
     "output_type": "execute_result"
    }
   ],
   "source": [
    "X.shape , y.shape"
   ]
  },
  {
   "cell_type": "code",
   "execution_count": 14,
   "id": "b96038a2",
   "metadata": {
    "execution": {
     "iopub.execute_input": "2024-08-29T08:11:56.991081Z",
     "iopub.status.busy": "2024-08-29T08:11:56.990679Z",
     "iopub.status.idle": "2024-08-29T08:11:57.224009Z",
     "shell.execute_reply": "2024-08-29T08:11:57.222994Z"
    },
    "papermill": {
     "duration": 0.252534,
     "end_time": "2024-08-29T08:11:57.226535",
     "exception": false,
     "start_time": "2024-08-29T08:11:56.974001",
     "status": "completed"
    },
    "tags": []
   },
   "outputs": [],
   "source": [
    "from sklearn.linear_model import LogisticRegression\n",
    "lr = LogisticRegression(multi_class = 'ovr')"
   ]
  },
  {
   "cell_type": "code",
   "execution_count": 15,
   "id": "706ad75e",
   "metadata": {
    "execution": {
     "iopub.execute_input": "2024-08-29T08:11:57.253932Z",
     "iopub.status.busy": "2024-08-29T08:11:57.253517Z",
     "iopub.status.idle": "2024-08-29T08:11:57.299820Z",
     "shell.execute_reply": "2024-08-29T08:11:57.298514Z"
    },
    "papermill": {
     "duration": 0.063162,
     "end_time": "2024-08-29T08:11:57.302309",
     "exception": false,
     "start_time": "2024-08-29T08:11:57.239147",
     "status": "completed"
    },
    "tags": []
   },
   "outputs": [
    {
     "data": {
      "text/html": [
       "<style>#sk-container-id-1 {color: black;background-color: white;}#sk-container-id-1 pre{padding: 0;}#sk-container-id-1 div.sk-toggleable {background-color: white;}#sk-container-id-1 label.sk-toggleable__label {cursor: pointer;display: block;width: 100%;margin-bottom: 0;padding: 0.3em;box-sizing: border-box;text-align: center;}#sk-container-id-1 label.sk-toggleable__label-arrow:before {content: \"▸\";float: left;margin-right: 0.25em;color: #696969;}#sk-container-id-1 label.sk-toggleable__label-arrow:hover:before {color: black;}#sk-container-id-1 div.sk-estimator:hover label.sk-toggleable__label-arrow:before {color: black;}#sk-container-id-1 div.sk-toggleable__content {max-height: 0;max-width: 0;overflow: hidden;text-align: left;background-color: #f0f8ff;}#sk-container-id-1 div.sk-toggleable__content pre {margin: 0.2em;color: black;border-radius: 0.25em;background-color: #f0f8ff;}#sk-container-id-1 input.sk-toggleable__control:checked~div.sk-toggleable__content {max-height: 200px;max-width: 100%;overflow: auto;}#sk-container-id-1 input.sk-toggleable__control:checked~label.sk-toggleable__label-arrow:before {content: \"▾\";}#sk-container-id-1 div.sk-estimator input.sk-toggleable__control:checked~label.sk-toggleable__label {background-color: #d4ebff;}#sk-container-id-1 div.sk-label input.sk-toggleable__control:checked~label.sk-toggleable__label {background-color: #d4ebff;}#sk-container-id-1 input.sk-hidden--visually {border: 0;clip: rect(1px 1px 1px 1px);clip: rect(1px, 1px, 1px, 1px);height: 1px;margin: -1px;overflow: hidden;padding: 0;position: absolute;width: 1px;}#sk-container-id-1 div.sk-estimator {font-family: monospace;background-color: #f0f8ff;border: 1px dotted black;border-radius: 0.25em;box-sizing: border-box;margin-bottom: 0.5em;}#sk-container-id-1 div.sk-estimator:hover {background-color: #d4ebff;}#sk-container-id-1 div.sk-parallel-item::after {content: \"\";width: 100%;border-bottom: 1px solid gray;flex-grow: 1;}#sk-container-id-1 div.sk-label:hover label.sk-toggleable__label {background-color: #d4ebff;}#sk-container-id-1 div.sk-serial::before {content: \"\";position: absolute;border-left: 1px solid gray;box-sizing: border-box;top: 0;bottom: 0;left: 50%;z-index: 0;}#sk-container-id-1 div.sk-serial {display: flex;flex-direction: column;align-items: center;background-color: white;padding-right: 0.2em;padding-left: 0.2em;position: relative;}#sk-container-id-1 div.sk-item {position: relative;z-index: 1;}#sk-container-id-1 div.sk-parallel {display: flex;align-items: stretch;justify-content: center;background-color: white;position: relative;}#sk-container-id-1 div.sk-item::before, #sk-container-id-1 div.sk-parallel-item::before {content: \"\";position: absolute;border-left: 1px solid gray;box-sizing: border-box;top: 0;bottom: 0;left: 50%;z-index: -1;}#sk-container-id-1 div.sk-parallel-item {display: flex;flex-direction: column;z-index: 1;position: relative;background-color: white;}#sk-container-id-1 div.sk-parallel-item:first-child::after {align-self: flex-end;width: 50%;}#sk-container-id-1 div.sk-parallel-item:last-child::after {align-self: flex-start;width: 50%;}#sk-container-id-1 div.sk-parallel-item:only-child::after {width: 0;}#sk-container-id-1 div.sk-dashed-wrapped {border: 1px dashed gray;margin: 0 0.4em 0.5em 0.4em;box-sizing: border-box;padding-bottom: 0.4em;background-color: white;}#sk-container-id-1 div.sk-label label {font-family: monospace;font-weight: bold;display: inline-block;line-height: 1.2em;}#sk-container-id-1 div.sk-label-container {text-align: center;}#sk-container-id-1 div.sk-container {/* jupyter's `normalize.less` sets `[hidden] { display: none; }` but bootstrap.min.css set `[hidden] { display: none !important; }` so we also need the `!important` here to be able to override the default hidden behavior on the sphinx rendered scikit-learn.org. See: https://github.com/scikit-learn/scikit-learn/issues/21755 */display: inline-block !important;position: relative;}#sk-container-id-1 div.sk-text-repr-fallback {display: none;}</style><div id=\"sk-container-id-1\" class=\"sk-top-container\"><div class=\"sk-text-repr-fallback\"><pre>LogisticRegression(multi_class=&#x27;ovr&#x27;)</pre><b>In a Jupyter environment, please rerun this cell to show the HTML representation or trust the notebook. <br />On GitHub, the HTML representation is unable to render, please try loading this page with nbviewer.org.</b></div><div class=\"sk-container\" hidden><div class=\"sk-item\"><div class=\"sk-estimator sk-toggleable\"><input class=\"sk-toggleable__control sk-hidden--visually\" id=\"sk-estimator-id-1\" type=\"checkbox\" checked><label for=\"sk-estimator-id-1\" class=\"sk-toggleable__label sk-toggleable__label-arrow\">LogisticRegression</label><div class=\"sk-toggleable__content\"><pre>LogisticRegression(multi_class=&#x27;ovr&#x27;)</pre></div></div></div></div></div>"
      ],
      "text/plain": [
       "LogisticRegression(multi_class='ovr')"
      ]
     },
     "execution_count": 15,
     "metadata": {},
     "output_type": "execute_result"
    }
   ],
   "source": [
    "lr.fit(X,y)"
   ]
  },
  {
   "cell_type": "code",
   "execution_count": 16,
   "id": "1b1e542d",
   "metadata": {
    "execution": {
     "iopub.execute_input": "2024-08-29T08:11:57.329674Z",
     "iopub.status.busy": "2024-08-29T08:11:57.329238Z",
     "iopub.status.idle": "2024-08-29T08:11:57.339968Z",
     "shell.execute_reply": "2024-08-29T08:11:57.338995Z"
    },
    "papermill": {
     "duration": 0.027318,
     "end_time": "2024-08-29T08:11:57.342481",
     "exception": false,
     "start_time": "2024-08-29T08:11:57.315163",
     "status": "completed"
    },
    "tags": []
   },
   "outputs": [],
   "source": [
    "test = pd.read_csv('/kaggle/input/human-genetic-data/genetic_data_test.csv')"
   ]
  },
  {
   "cell_type": "code",
   "execution_count": 17,
   "id": "d132565d",
   "metadata": {
    "execution": {
     "iopub.execute_input": "2024-08-29T08:11:57.370587Z",
     "iopub.status.busy": "2024-08-29T08:11:57.370124Z",
     "iopub.status.idle": "2024-08-29T08:11:57.378402Z",
     "shell.execute_reply": "2024-08-29T08:11:57.377052Z"
    },
    "papermill": {
     "duration": 0.025545,
     "end_time": "2024-08-29T08:11:57.381058",
     "exception": false,
     "start_time": "2024-08-29T08:11:57.355513",
     "status": "completed"
    },
    "tags": []
   },
   "outputs": [
    {
     "data": {
      "text/plain": [
       "(111, 11)"
      ]
     },
     "execution_count": 17,
     "metadata": {},
     "output_type": "execute_result"
    }
   ],
   "source": [
    "test.shape"
   ]
  },
  {
   "cell_type": "code",
   "execution_count": 18,
   "id": "44b2ad9a",
   "metadata": {
    "execution": {
     "iopub.execute_input": "2024-08-29T08:11:57.410033Z",
     "iopub.status.busy": "2024-08-29T08:11:57.409602Z",
     "iopub.status.idle": "2024-08-29T08:11:57.436051Z",
     "shell.execute_reply": "2024-08-29T08:11:57.434882Z"
    },
    "papermill": {
     "duration": 0.044415,
     "end_time": "2024-08-29T08:11:57.438706",
     "exception": false,
     "start_time": "2024-08-29T08:11:57.394291",
     "status": "completed"
    },
    "tags": []
   },
   "outputs": [
    {
     "data": {
      "text/html": [
       "<div>\n",
       "<style scoped>\n",
       "    .dataframe tbody tr th:only-of-type {\n",
       "        vertical-align: middle;\n",
       "    }\n",
       "\n",
       "    .dataframe tbody tr th {\n",
       "        vertical-align: top;\n",
       "    }\n",
       "\n",
       "    .dataframe thead th {\n",
       "        text-align: right;\n",
       "    }\n",
       "</style>\n",
       "<table border=\"1\" class=\"dataframe\">\n",
       "  <thead>\n",
       "    <tr style=\"text-align: right;\">\n",
       "      <th></th>\n",
       "      <th>PC1</th>\n",
       "      <th>PC2</th>\n",
       "      <th>PC3</th>\n",
       "      <th>PC4</th>\n",
       "      <th>PC5</th>\n",
       "      <th>PC6</th>\n",
       "      <th>PC7</th>\n",
       "      <th>PC8</th>\n",
       "      <th>PC9</th>\n",
       "      <th>PC10</th>\n",
       "      <th>Ancestry</th>\n",
       "    </tr>\n",
       "  </thead>\n",
       "  <tbody>\n",
       "    <tr>\n",
       "      <th>0</th>\n",
       "      <td>2.517683</td>\n",
       "      <td>5.464283</td>\n",
       "      <td>9.067873</td>\n",
       "      <td>-4.965928</td>\n",
       "      <td>-0.741937</td>\n",
       "      <td>0.039785</td>\n",
       "      <td>0.573279</td>\n",
       "      <td>-0.216918</td>\n",
       "      <td>2.454823</td>\n",
       "      <td>-0.671274</td>\n",
       "      <td>Unknown</td>\n",
       "    </tr>\n",
       "    <tr>\n",
       "      <th>1</th>\n",
       "      <td>6.077012</td>\n",
       "      <td>1.032867</td>\n",
       "      <td>-5.795883</td>\n",
       "      <td>-3.490064</td>\n",
       "      <td>-0.600204</td>\n",
       "      <td>-0.120803</td>\n",
       "      <td>1.243767</td>\n",
       "      <td>1.821390</td>\n",
       "      <td>-1.173053</td>\n",
       "      <td>2.442467</td>\n",
       "      <td>Unknown</td>\n",
       "    </tr>\n",
       "    <tr>\n",
       "      <th>2</th>\n",
       "      <td>1.016945</td>\n",
       "      <td>-2.913299</td>\n",
       "      <td>0.907702</td>\n",
       "      <td>1.233580</td>\n",
       "      <td>-1.983452</td>\n",
       "      <td>1.605964</td>\n",
       "      <td>2.674998</td>\n",
       "      <td>-0.732921</td>\n",
       "      <td>-2.157438</td>\n",
       "      <td>-0.671274</td>\n",
       "      <td>Unknown</td>\n",
       "    </tr>\n",
       "    <tr>\n",
       "      <th>3</th>\n",
       "      <td>-10.860926</td>\n",
       "      <td>2.545077</td>\n",
       "      <td>0.023950</td>\n",
       "      <td>-1.474450</td>\n",
       "      <td>0.372286</td>\n",
       "      <td>-2.609954</td>\n",
       "      <td>-2.794092</td>\n",
       "      <td>1.264747</td>\n",
       "      <td>-3.974644</td>\n",
       "      <td>-0.671274</td>\n",
       "      <td>Unknown</td>\n",
       "    </tr>\n",
       "    <tr>\n",
       "      <th>4</th>\n",
       "      <td>4.790262</td>\n",
       "      <td>3.621650</td>\n",
       "      <td>-1.442221</td>\n",
       "      <td>5.459907</td>\n",
       "      <td>-0.864235</td>\n",
       "      <td>-2.591185</td>\n",
       "      <td>-0.062762</td>\n",
       "      <td>0.515344</td>\n",
       "      <td>0.228729</td>\n",
       "      <td>-0.671274</td>\n",
       "      <td>Unknown</td>\n",
       "    </tr>\n",
       "    <tr>\n",
       "      <th>...</th>\n",
       "      <td>...</td>\n",
       "      <td>...</td>\n",
       "      <td>...</td>\n",
       "      <td>...</td>\n",
       "      <td>...</td>\n",
       "      <td>...</td>\n",
       "      <td>...</td>\n",
       "      <td>...</td>\n",
       "      <td>...</td>\n",
       "      <td>...</td>\n",
       "      <td>...</td>\n",
       "    </tr>\n",
       "    <tr>\n",
       "      <th>106</th>\n",
       "      <td>-11.030349</td>\n",
       "      <td>1.712786</td>\n",
       "      <td>-1.392893</td>\n",
       "      <td>-0.163989</td>\n",
       "      <td>3.623641</td>\n",
       "      <td>-0.263645</td>\n",
       "      <td>-3.337796</td>\n",
       "      <td>2.279226</td>\n",
       "      <td>-2.632659</td>\n",
       "      <td>-0.671274</td>\n",
       "      <td>AfricanAmerican</td>\n",
       "    </tr>\n",
       "    <tr>\n",
       "      <th>107</th>\n",
       "      <td>-7.994173</td>\n",
       "      <td>0.045333</td>\n",
       "      <td>-0.738547</td>\n",
       "      <td>0.189793</td>\n",
       "      <td>-2.545140</td>\n",
       "      <td>-0.332066</td>\n",
       "      <td>0.026289</td>\n",
       "      <td>-1.840944</td>\n",
       "      <td>-0.456438</td>\n",
       "      <td>-0.671274</td>\n",
       "      <td>AfricanAmerican</td>\n",
       "    </tr>\n",
       "    <tr>\n",
       "      <th>108</th>\n",
       "      <td>-8.874531</td>\n",
       "      <td>2.074620</td>\n",
       "      <td>-2.060999</td>\n",
       "      <td>-0.898143</td>\n",
       "      <td>-1.372896</td>\n",
       "      <td>-3.175091</td>\n",
       "      <td>2.325163</td>\n",
       "      <td>-1.256258</td>\n",
       "      <td>-0.133253</td>\n",
       "      <td>-0.671274</td>\n",
       "      <td>AfricanAmerican</td>\n",
       "    </tr>\n",
       "    <tr>\n",
       "      <th>109</th>\n",
       "      <td>-7.017063</td>\n",
       "      <td>-0.199721</td>\n",
       "      <td>-1.469538</td>\n",
       "      <td>-1.997714</td>\n",
       "      <td>1.892038</td>\n",
       "      <td>-1.880466</td>\n",
       "      <td>-3.278863</td>\n",
       "      <td>-0.336890</td>\n",
       "      <td>0.042410</td>\n",
       "      <td>-0.671274</td>\n",
       "      <td>AfricanAmerican</td>\n",
       "    </tr>\n",
       "    <tr>\n",
       "      <th>110</th>\n",
       "      <td>-5.488129</td>\n",
       "      <td>0.406477</td>\n",
       "      <td>-0.852392</td>\n",
       "      <td>2.299789</td>\n",
       "      <td>-1.219706</td>\n",
       "      <td>-0.260295</td>\n",
       "      <td>0.204571</td>\n",
       "      <td>0.262224</td>\n",
       "      <td>0.802251</td>\n",
       "      <td>-0.671274</td>\n",
       "      <td>AfricanAmerican</td>\n",
       "    </tr>\n",
       "  </tbody>\n",
       "</table>\n",
       "<p>111 rows × 11 columns</p>\n",
       "</div>"
      ],
      "text/plain": [
       "           PC1       PC2       PC3       PC4       PC5       PC6       PC7  \\\n",
       "0     2.517683  5.464283  9.067873 -4.965928 -0.741937  0.039785  0.573279   \n",
       "1     6.077012  1.032867 -5.795883 -3.490064 -0.600204 -0.120803  1.243767   \n",
       "2     1.016945 -2.913299  0.907702  1.233580 -1.983452  1.605964  2.674998   \n",
       "3   -10.860926  2.545077  0.023950 -1.474450  0.372286 -2.609954 -2.794092   \n",
       "4     4.790262  3.621650 -1.442221  5.459907 -0.864235 -2.591185 -0.062762   \n",
       "..         ...       ...       ...       ...       ...       ...       ...   \n",
       "106 -11.030349  1.712786 -1.392893 -0.163989  3.623641 -0.263645 -3.337796   \n",
       "107  -7.994173  0.045333 -0.738547  0.189793 -2.545140 -0.332066  0.026289   \n",
       "108  -8.874531  2.074620 -2.060999 -0.898143 -1.372896 -3.175091  2.325163   \n",
       "109  -7.017063 -0.199721 -1.469538 -1.997714  1.892038 -1.880466 -3.278863   \n",
       "110  -5.488129  0.406477 -0.852392  2.299789 -1.219706 -0.260295  0.204571   \n",
       "\n",
       "          PC8       PC9      PC10         Ancestry  \n",
       "0   -0.216918  2.454823 -0.671274          Unknown  \n",
       "1    1.821390 -1.173053  2.442467          Unknown  \n",
       "2   -0.732921 -2.157438 -0.671274          Unknown  \n",
       "3    1.264747 -3.974644 -0.671274          Unknown  \n",
       "4    0.515344  0.228729 -0.671274          Unknown  \n",
       "..        ...       ...       ...              ...  \n",
       "106  2.279226 -2.632659 -0.671274  AfricanAmerican  \n",
       "107 -1.840944 -0.456438 -0.671274  AfricanAmerican  \n",
       "108 -1.256258 -0.133253 -0.671274  AfricanAmerican  \n",
       "109 -0.336890  0.042410 -0.671274  AfricanAmerican  \n",
       "110  0.262224  0.802251 -0.671274  AfricanAmerican  \n",
       "\n",
       "[111 rows x 11 columns]"
      ]
     },
     "execution_count": 18,
     "metadata": {},
     "output_type": "execute_result"
    }
   ],
   "source": [
    "test"
   ]
  },
  {
   "cell_type": "code",
   "execution_count": 19,
   "id": "134a1b79",
   "metadata": {
    "execution": {
     "iopub.execute_input": "2024-08-29T08:11:57.467559Z",
     "iopub.status.busy": "2024-08-29T08:11:57.467123Z",
     "iopub.status.idle": "2024-08-29T08:11:57.473318Z",
     "shell.execute_reply": "2024-08-29T08:11:57.472108Z"
    },
    "papermill": {
     "duration": 0.024392,
     "end_time": "2024-08-29T08:11:57.476817",
     "exception": false,
     "start_time": "2024-08-29T08:11:57.452425",
     "status": "completed"
    },
    "tags": []
   },
   "outputs": [],
   "source": [
    "X_test = test.drop(columns=['Ancestry'])\n",
    "y_test = test['Ancestry']"
   ]
  },
  {
   "cell_type": "code",
   "execution_count": 20,
   "id": "03c5d253",
   "metadata": {
    "execution": {
     "iopub.execute_input": "2024-08-29T08:11:57.507861Z",
     "iopub.status.busy": "2024-08-29T08:11:57.507431Z",
     "iopub.status.idle": "2024-08-29T08:11:57.512844Z",
     "shell.execute_reply": "2024-08-29T08:11:57.511732Z"
    },
    "papermill": {
     "duration": 0.023419,
     "end_time": "2024-08-29T08:11:57.515082",
     "exception": false,
     "start_time": "2024-08-29T08:11:57.491663",
     "status": "completed"
    },
    "tags": []
   },
   "outputs": [],
   "source": [
    "y_test= le.fit_transform(y_test)"
   ]
  },
  {
   "cell_type": "code",
   "execution_count": 21,
   "id": "754b43de",
   "metadata": {
    "execution": {
     "iopub.execute_input": "2024-08-29T08:11:57.543870Z",
     "iopub.status.busy": "2024-08-29T08:11:57.542884Z",
     "iopub.status.idle": "2024-08-29T08:11:57.550108Z",
     "shell.execute_reply": "2024-08-29T08:11:57.548851Z"
    },
    "papermill": {
     "duration": 0.024114,
     "end_time": "2024-08-29T08:11:57.552427",
     "exception": false,
     "start_time": "2024-08-29T08:11:57.528313",
     "status": "completed"
    },
    "tags": []
   },
   "outputs": [
    {
     "data": {
      "text/plain": [
       "array([2, 2, 2, 2, 2, 1, 1, 1, 1, 1, 1, 1, 1, 1, 1, 1, 1, 1, 1, 1, 1, 1,\n",
       "       1, 1, 1, 1, 1, 1, 1, 1, 1, 1, 1, 1, 1, 1, 1, 1, 1, 1, 1, 1, 1, 1,\n",
       "       1, 1, 1, 1, 1, 1, 1, 1, 1, 1, 1, 1, 1, 1, 1, 0, 0, 0, 0, 0, 0, 0,\n",
       "       0, 0, 0, 0, 0, 0, 0, 0, 0, 0, 0, 0, 0, 0, 0, 0, 0, 0, 0, 0, 0, 0,\n",
       "       0, 0, 0, 0, 0, 0, 0, 0, 0, 0, 0, 0, 0, 0, 0, 0, 0, 0, 0, 0, 0, 0,\n",
       "       0])"
      ]
     },
     "execution_count": 21,
     "metadata": {},
     "output_type": "execute_result"
    }
   ],
   "source": [
    "y_test"
   ]
  },
  {
   "cell_type": "code",
   "execution_count": 22,
   "id": "31a13a5e",
   "metadata": {
    "execution": {
     "iopub.execute_input": "2024-08-29T08:11:57.582000Z",
     "iopub.status.busy": "2024-08-29T08:11:57.581551Z",
     "iopub.status.idle": "2024-08-29T08:11:57.590682Z",
     "shell.execute_reply": "2024-08-29T08:11:57.589427Z"
    },
    "papermill": {
     "duration": 0.027419,
     "end_time": "2024-08-29T08:11:57.593282",
     "exception": false,
     "start_time": "2024-08-29T08:11:57.565863",
     "status": "completed"
    },
    "tags": []
   },
   "outputs": [],
   "source": [
    "y_pred = lr.predict(X_test)"
   ]
  },
  {
   "cell_type": "code",
   "execution_count": 23,
   "id": "42605231",
   "metadata": {
    "execution": {
     "iopub.execute_input": "2024-08-29T08:11:57.623043Z",
     "iopub.status.busy": "2024-08-29T08:11:57.622643Z",
     "iopub.status.idle": "2024-08-29T08:11:57.627701Z",
     "shell.execute_reply": "2024-08-29T08:11:57.626528Z"
    },
    "papermill": {
     "duration": 0.021939,
     "end_time": "2024-08-29T08:11:57.629872",
     "exception": false,
     "start_time": "2024-08-29T08:11:57.607933",
     "status": "completed"
    },
    "tags": []
   },
   "outputs": [],
   "source": [
    "from sklearn.metrics import accuracy_score,precision_score, recall_score,f1_score\n"
   ]
  },
  {
   "cell_type": "code",
   "execution_count": 24,
   "id": "ba118aaa",
   "metadata": {
    "execution": {
     "iopub.execute_input": "2024-08-29T08:11:57.658547Z",
     "iopub.status.busy": "2024-08-29T08:11:57.658125Z",
     "iopub.status.idle": "2024-08-29T08:11:57.671755Z",
     "shell.execute_reply": "2024-08-29T08:11:57.670519Z"
    },
    "papermill": {
     "duration": 0.030923,
     "end_time": "2024-08-29T08:11:57.674246",
     "exception": false,
     "start_time": "2024-08-29T08:11:57.643323",
     "status": "completed"
    },
    "tags": []
   },
   "outputs": [
    {
     "name": "stdout",
     "output_type": "stream",
     "text": [
      "Accuracy: 0.4774774774774775\n",
      "Precision: 0.20363382250174702\n",
      "Recall: 0.24\n",
      "F1 Score: 0.2105952380952381\n"
     ]
    }
   ],
   "source": [
    "accuracy = accuracy_score(y_test, y_pred)\n",
    "print(f\"Accuracy: {accuracy}\")\n",
    "precision = precision_score(y_test, y_pred, average='macro')\n",
    "recall = recall_score(y_test, y_pred, average='macro')\n",
    "f1 = f1_score(y_test, y_pred, average='macro')\n",
    "\n",
    "print(\"Precision:\", precision)\n",
    "print(\"Recall:\", recall)\n",
    "print(\"F1 Score:\", f1)"
   ]
  },
  {
   "cell_type": "code",
   "execution_count": 25,
   "id": "6723cb7d",
   "metadata": {
    "execution": {
     "iopub.execute_input": "2024-08-29T08:11:57.705816Z",
     "iopub.status.busy": "2024-08-29T08:11:57.705379Z",
     "iopub.status.idle": "2024-08-29T08:11:57.722220Z",
     "shell.execute_reply": "2024-08-29T08:11:57.720896Z"
    },
    "papermill": {
     "duration": 0.034263,
     "end_time": "2024-08-29T08:11:57.724701",
     "exception": false,
     "start_time": "2024-08-29T08:11:57.690438",
     "status": "completed"
    },
    "tags": []
   },
   "outputs": [
    {
     "name": "stdout",
     "output_type": "stream",
     "text": [
      "[[52  0  1  0  0]\n",
      " [ 0  0  1  0  0]\n",
      " [ 0 26  1  0  0]\n",
      " [ 0 28  1  0  0]\n",
      " [ 0  0  1  0  0]]\n",
      "              precision    recall  f1-score   support\n",
      "\n",
      "           0       1.00      0.98      0.99        53\n",
      "           1       0.00      0.00      0.00         1\n",
      "           2       0.20      0.04      0.06        27\n",
      "           3       0.00      0.00      0.00        29\n",
      "           4       0.00      0.00      0.00         1\n",
      "\n",
      "    accuracy                           0.48       111\n",
      "   macro avg       0.24      0.20      0.21       111\n",
      "weighted avg       0.53      0.48      0.49       111\n",
      "\n"
     ]
    }
   ],
   "source": [
    "from sklearn.metrics import classification_report,confusion_matrix\n",
    "report = classification_report(y_pred, y_test)\n",
    "print(confusion_matrix(y_pred,y_test))\n",
    "\n",
    "print(report)"
   ]
  },
  {
   "cell_type": "markdown",
   "id": "50d30d39",
   "metadata": {
    "papermill": {
     "duration": 0.015647,
     "end_time": "2024-08-29T08:11:57.754585",
     "exception": false,
     "start_time": "2024-08-29T08:11:57.738938",
     "status": "completed"
    },
    "tags": []
   },
   "source": [
    "## Hyperparameter tunning using gridsearch CV"
   ]
  },
  {
   "cell_type": "code",
   "execution_count": 26,
   "id": "1c0b4dfd",
   "metadata": {
    "execution": {
     "iopub.execute_input": "2024-08-29T08:11:57.786170Z",
     "iopub.status.busy": "2024-08-29T08:11:57.785737Z",
     "iopub.status.idle": "2024-08-29T08:11:57.791870Z",
     "shell.execute_reply": "2024-08-29T08:11:57.790536Z"
    },
    "papermill": {
     "duration": 0.026061,
     "end_time": "2024-08-29T08:11:57.794627",
     "exception": false,
     "start_time": "2024-08-29T08:11:57.768566",
     "status": "completed"
    },
    "tags": []
   },
   "outputs": [],
   "source": [
    "from sklearn.model_selection import GridSearchCV,RandomizedSearchCV\n"
   ]
  },
  {
   "cell_type": "code",
   "execution_count": 27,
   "id": "d1aa91f9",
   "metadata": {
    "execution": {
     "iopub.execute_input": "2024-08-29T08:11:57.824320Z",
     "iopub.status.busy": "2024-08-29T08:11:57.823902Z",
     "iopub.status.idle": "2024-08-29T08:11:57.829723Z",
     "shell.execute_reply": "2024-08-29T08:11:57.828334Z"
    },
    "papermill": {
     "duration": 0.024074,
     "end_time": "2024-08-29T08:11:57.832920",
     "exception": false,
     "start_time": "2024-08-29T08:11:57.808846",
     "status": "completed"
    },
    "tags": []
   },
   "outputs": [],
   "source": [
    "class_weight = [{0:w,1:y} for w in [1,10,50,100] for y in [1,10,50,100]]"
   ]
  },
  {
   "cell_type": "code",
   "execution_count": 28,
   "id": "f6a9991d",
   "metadata": {
    "execution": {
     "iopub.execute_input": "2024-08-29T08:11:57.864686Z",
     "iopub.status.busy": "2024-08-29T08:11:57.864221Z",
     "iopub.status.idle": "2024-08-29T08:12:12.846141Z",
     "shell.execute_reply": "2024-08-29T08:12:12.844669Z"
    },
    "papermill": {
     "duration": 15.000357,
     "end_time": "2024-08-29T08:12:12.848839",
     "exception": false,
     "start_time": "2024-08-29T08:11:57.848482",
     "status": "completed"
    },
    "tags": []
   },
   "outputs": [
    {
     "name": "stdout",
     "output_type": "stream",
     "text": [
      "Best parameters: {'C': 0.01, 'class_weight': {0: 1, 1: 1}, 'solver': 'newton-cg'}\n"
     ]
    }
   ],
   "source": [
    "from sklearn.model_selection import GridSearchCV\n",
    "\n",
    "# Define the parameter grid\n",
    "param_grid = {\n",
    "    'C': [0.01, 0.1, 1, 10, 100],  \n",
    "    'solver': ['newton-cg', 'lbfgs', 'liblinear'],\n",
    "    'class_weight': [{0:w,1:y} for w in [1,10,50,100] for y in [1,10,50,100]]\n",
    "}\n",
    "\n",
    "# Initialize the GridSearchCV\n",
    "grid_search = GridSearchCV(estimator=LogisticRegression(multi_class='multinomial', max_iter=1000),\n",
    "                           param_grid=param_grid ,cv=5, scoring='accuracy')\n",
    "\n",
    "# Fit the grid search\n",
    "grid_search.fit(X, y)\n",
    "\n",
    "# Best parameters\n",
    "print(\"Best parameters:\", grid_search.best_params_)\n"
   ]
  },
  {
   "cell_type": "code",
   "execution_count": 29,
   "id": "d7dc6a1d",
   "metadata": {
    "execution": {
     "iopub.execute_input": "2024-08-29T08:12:12.879704Z",
     "iopub.status.busy": "2024-08-29T08:12:12.879042Z",
     "iopub.status.idle": "2024-08-29T08:12:12.887707Z",
     "shell.execute_reply": "2024-08-29T08:12:12.886534Z"
    },
    "papermill": {
     "duration": 0.027303,
     "end_time": "2024-08-29T08:12:12.890339",
     "exception": false,
     "start_time": "2024-08-29T08:12:12.863036",
     "status": "completed"
    },
    "tags": []
   },
   "outputs": [],
   "source": [
    "y_pred  = grid_search.predict(X_test)"
   ]
  },
  {
   "cell_type": "code",
   "execution_count": 30,
   "id": "5acc4337",
   "metadata": {
    "execution": {
     "iopub.execute_input": "2024-08-29T08:12:12.921548Z",
     "iopub.status.busy": "2024-08-29T08:12:12.921041Z",
     "iopub.status.idle": "2024-08-29T08:12:12.928340Z",
     "shell.execute_reply": "2024-08-29T08:12:12.927073Z"
    },
    "papermill": {
     "duration": 0.025865,
     "end_time": "2024-08-29T08:12:12.931268",
     "exception": false,
     "start_time": "2024-08-29T08:12:12.905403",
     "status": "completed"
    },
    "tags": []
   },
   "outputs": [
    {
     "name": "stdout",
     "output_type": "stream",
     "text": [
      "Accuracy: 0.46846846846846846\n"
     ]
    }
   ],
   "source": [
    "accuracy = accuracy_score(y_test, y_pred)\n",
    "print(\"Accuracy:\", accuracy)"
   ]
  },
  {
   "cell_type": "code",
   "execution_count": 31,
   "id": "1184d60e",
   "metadata": {
    "execution": {
     "iopub.execute_input": "2024-08-29T08:12:12.961044Z",
     "iopub.status.busy": "2024-08-29T08:12:12.960650Z",
     "iopub.status.idle": "2024-08-29T08:12:12.976405Z",
     "shell.execute_reply": "2024-08-29T08:12:12.975125Z"
    },
    "papermill": {
     "duration": 0.033385,
     "end_time": "2024-08-29T08:12:12.979031",
     "exception": false,
     "start_time": "2024-08-29T08:12:12.945646",
     "status": "completed"
    },
    "tags": []
   },
   "outputs": [
    {
     "name": "stdout",
     "output_type": "stream",
     "text": [
      "[[51  0  1  0  0]\n",
      " [ 0  0  1  0  0]\n",
      " [ 1 27  1  0  0]\n",
      " [ 0 27  1  0  0]\n",
      " [ 0  0  1  0  0]]\n",
      "              precision    recall  f1-score   support\n",
      "\n",
      "           0       0.98      0.98      0.98        52\n",
      "           1       0.00      0.00      0.00         1\n",
      "           2       0.20      0.03      0.06        29\n",
      "           3       0.00      0.00      0.00        28\n",
      "           4       0.00      0.00      0.00         1\n",
      "\n",
      "    accuracy                           0.47       111\n",
      "   macro avg       0.24      0.20      0.21       111\n",
      "weighted avg       0.51      0.47      0.47       111\n",
      "\n"
     ]
    }
   ],
   "source": [
    "from sklearn.metrics import classification_report,confusion_matrix\n",
    "report = classification_report(y_pred, y_test)\n",
    "print(confusion_matrix(y_pred,y_test))\n",
    "\n",
    "print(report)"
   ]
  },
  {
   "cell_type": "markdown",
   "id": "8b26966a",
   "metadata": {
    "papermill": {
     "duration": 0.013683,
     "end_time": "2024-08-29T08:12:13.006674",
     "exception": false,
     "start_time": "2024-08-29T08:12:12.992991",
     "status": "completed"
    },
    "tags": []
   },
   "source": [
    "## Decision Tree"
   ]
  },
  {
   "cell_type": "code",
   "execution_count": 32,
   "id": "a8318561",
   "metadata": {
    "execution": {
     "iopub.execute_input": "2024-08-29T08:12:13.036695Z",
     "iopub.status.busy": "2024-08-29T08:12:13.036239Z",
     "iopub.status.idle": "2024-08-29T08:12:13.138077Z",
     "shell.execute_reply": "2024-08-29T08:12:13.136841Z"
    },
    "papermill": {
     "duration": 0.120007,
     "end_time": "2024-08-29T08:12:13.140931",
     "exception": false,
     "start_time": "2024-08-29T08:12:13.020924",
     "status": "completed"
    },
    "tags": []
   },
   "outputs": [],
   "source": [
    "from sklearn.tree import DecisionTreeRegressor"
   ]
  },
  {
   "cell_type": "code",
   "execution_count": 33,
   "id": "3cc5ed9f",
   "metadata": {
    "execution": {
     "iopub.execute_input": "2024-08-29T08:12:13.171077Z",
     "iopub.status.busy": "2024-08-29T08:12:13.170035Z",
     "iopub.status.idle": "2024-08-29T08:12:13.182504Z",
     "shell.execute_reply": "2024-08-29T08:12:13.181344Z"
    },
    "papermill": {
     "duration": 0.02997,
     "end_time": "2024-08-29T08:12:13.184914",
     "exception": false,
     "start_time": "2024-08-29T08:12:13.154944",
     "status": "completed"
    },
    "tags": []
   },
   "outputs": [
    {
     "data": {
      "text/html": [
       "<style>#sk-container-id-2 {color: black;background-color: white;}#sk-container-id-2 pre{padding: 0;}#sk-container-id-2 div.sk-toggleable {background-color: white;}#sk-container-id-2 label.sk-toggleable__label {cursor: pointer;display: block;width: 100%;margin-bottom: 0;padding: 0.3em;box-sizing: border-box;text-align: center;}#sk-container-id-2 label.sk-toggleable__label-arrow:before {content: \"▸\";float: left;margin-right: 0.25em;color: #696969;}#sk-container-id-2 label.sk-toggleable__label-arrow:hover:before {color: black;}#sk-container-id-2 div.sk-estimator:hover label.sk-toggleable__label-arrow:before {color: black;}#sk-container-id-2 div.sk-toggleable__content {max-height: 0;max-width: 0;overflow: hidden;text-align: left;background-color: #f0f8ff;}#sk-container-id-2 div.sk-toggleable__content pre {margin: 0.2em;color: black;border-radius: 0.25em;background-color: #f0f8ff;}#sk-container-id-2 input.sk-toggleable__control:checked~div.sk-toggleable__content {max-height: 200px;max-width: 100%;overflow: auto;}#sk-container-id-2 input.sk-toggleable__control:checked~label.sk-toggleable__label-arrow:before {content: \"▾\";}#sk-container-id-2 div.sk-estimator input.sk-toggleable__control:checked~label.sk-toggleable__label {background-color: #d4ebff;}#sk-container-id-2 div.sk-label input.sk-toggleable__control:checked~label.sk-toggleable__label {background-color: #d4ebff;}#sk-container-id-2 input.sk-hidden--visually {border: 0;clip: rect(1px 1px 1px 1px);clip: rect(1px, 1px, 1px, 1px);height: 1px;margin: -1px;overflow: hidden;padding: 0;position: absolute;width: 1px;}#sk-container-id-2 div.sk-estimator {font-family: monospace;background-color: #f0f8ff;border: 1px dotted black;border-radius: 0.25em;box-sizing: border-box;margin-bottom: 0.5em;}#sk-container-id-2 div.sk-estimator:hover {background-color: #d4ebff;}#sk-container-id-2 div.sk-parallel-item::after {content: \"\";width: 100%;border-bottom: 1px solid gray;flex-grow: 1;}#sk-container-id-2 div.sk-label:hover label.sk-toggleable__label {background-color: #d4ebff;}#sk-container-id-2 div.sk-serial::before {content: \"\";position: absolute;border-left: 1px solid gray;box-sizing: border-box;top: 0;bottom: 0;left: 50%;z-index: 0;}#sk-container-id-2 div.sk-serial {display: flex;flex-direction: column;align-items: center;background-color: white;padding-right: 0.2em;padding-left: 0.2em;position: relative;}#sk-container-id-2 div.sk-item {position: relative;z-index: 1;}#sk-container-id-2 div.sk-parallel {display: flex;align-items: stretch;justify-content: center;background-color: white;position: relative;}#sk-container-id-2 div.sk-item::before, #sk-container-id-2 div.sk-parallel-item::before {content: \"\";position: absolute;border-left: 1px solid gray;box-sizing: border-box;top: 0;bottom: 0;left: 50%;z-index: -1;}#sk-container-id-2 div.sk-parallel-item {display: flex;flex-direction: column;z-index: 1;position: relative;background-color: white;}#sk-container-id-2 div.sk-parallel-item:first-child::after {align-self: flex-end;width: 50%;}#sk-container-id-2 div.sk-parallel-item:last-child::after {align-self: flex-start;width: 50%;}#sk-container-id-2 div.sk-parallel-item:only-child::after {width: 0;}#sk-container-id-2 div.sk-dashed-wrapped {border: 1px dashed gray;margin: 0 0.4em 0.5em 0.4em;box-sizing: border-box;padding-bottom: 0.4em;background-color: white;}#sk-container-id-2 div.sk-label label {font-family: monospace;font-weight: bold;display: inline-block;line-height: 1.2em;}#sk-container-id-2 div.sk-label-container {text-align: center;}#sk-container-id-2 div.sk-container {/* jupyter's `normalize.less` sets `[hidden] { display: none; }` but bootstrap.min.css set `[hidden] { display: none !important; }` so we also need the `!important` here to be able to override the default hidden behavior on the sphinx rendered scikit-learn.org. See: https://github.com/scikit-learn/scikit-learn/issues/21755 */display: inline-block !important;position: relative;}#sk-container-id-2 div.sk-text-repr-fallback {display: none;}</style><div id=\"sk-container-id-2\" class=\"sk-top-container\"><div class=\"sk-text-repr-fallback\"><pre>DecisionTreeRegressor(max_depth=3)</pre><b>In a Jupyter environment, please rerun this cell to show the HTML representation or trust the notebook. <br />On GitHub, the HTML representation is unable to render, please try loading this page with nbviewer.org.</b></div><div class=\"sk-container\" hidden><div class=\"sk-item\"><div class=\"sk-estimator sk-toggleable\"><input class=\"sk-toggleable__control sk-hidden--visually\" id=\"sk-estimator-id-2\" type=\"checkbox\" checked><label for=\"sk-estimator-id-2\" class=\"sk-toggleable__label sk-toggleable__label-arrow\">DecisionTreeRegressor</label><div class=\"sk-toggleable__content\"><pre>DecisionTreeRegressor(max_depth=3)</pre></div></div></div></div></div>"
      ],
      "text/plain": [
       "DecisionTreeRegressor(max_depth=3)"
      ]
     },
     "execution_count": 33,
     "metadata": {},
     "output_type": "execute_result"
    }
   ],
   "source": [
    "dt = DecisionTreeRegressor(max_depth= 3)\n",
    "dt.fit(X,y)\n"
   ]
  },
  {
   "cell_type": "code",
   "execution_count": 34,
   "id": "1f4a310f",
   "metadata": {
    "execution": {
     "iopub.execute_input": "2024-08-29T08:12:13.273434Z",
     "iopub.status.busy": "2024-08-29T08:12:13.272992Z",
     "iopub.status.idle": "2024-08-29T08:12:13.965877Z",
     "shell.execute_reply": "2024-08-29T08:12:13.964710Z"
    },
    "papermill": {
     "duration": 0.769858,
     "end_time": "2024-08-29T08:12:13.968865",
     "exception": false,
     "start_time": "2024-08-29T08:12:13.199007",
     "status": "completed"
    },
    "tags": []
   },
   "outputs": [
    {
     "data": {
      "text/plain": [
       "[Text(0.5, 0.875, 'x[3] <= -1.542\\nsquared_error = 1.64\\nsamples = 183\\nvalue = 1.874'),\n",
       " Text(0.3, 0.625, 'x[1] <= 3.533\\nsquared_error = 0.316\\nsamples = 56\\nvalue = 3.429'),\n",
       " Text(0.2, 0.375, 'x[5] <= 1.409\\nsquared_error = 0.062\\nsamples = 30\\nvalue = 2.933'),\n",
       " Text(0.1, 0.125, 'squared_error = 0.0\\nsamples = 28\\nvalue = 3.0'),\n",
       " Text(0.3, 0.125, 'squared_error = 0.0\\nsamples = 2\\nvalue = 2.0'),\n",
       " Text(0.4, 0.375, 'squared_error = 0.0\\nsamples = 26\\nvalue = 4.0'),\n",
       " Text(0.7, 0.625, 'x[0] <= -4.264\\nsquared_error = 0.689\\nsamples = 127\\nvalue = 1.189'),\n",
       " Text(0.6, 0.375, 'squared_error = 0.0\\nsamples = 25\\nvalue = 0.0'),\n",
       " Text(0.8, 0.375, 'x[3] <= 1.112\\nsquared_error = 0.426\\nsamples = 102\\nvalue = 1.48'),\n",
       " Text(0.7, 0.125, 'squared_error = 0.219\\nsamples = 38\\nvalue = 2.211'),\n",
       " Text(0.9, 0.125, 'squared_error = 0.045\\nsamples = 64\\nvalue = 1.047')]"
      ]
     },
     "execution_count": 34,
     "metadata": {},
     "output_type": "execute_result"
    },
    {
     "data": {
      "image/png": "[encoded data removed]",
      "text/plain": [
       "<Figure size 1000x1500 with 1 Axes>"
      ]
     },
     "metadata": {},
     "output_type": "display_data"
    }
   ],
   "source": [
    "#Visualizing\n",
    "from sklearn import tree\n",
    "plt.figure(figsize=(10,15))\n",
    "tree.plot_tree(dt,filled=True)"
   ]
  },
  {
   "cell_type": "code",
   "execution_count": 35,
   "id": "be0268e4",
   "metadata": {
    "execution": {
     "iopub.execute_input": "2024-08-29T08:12:14.005043Z",
     "iopub.status.busy": "2024-08-29T08:12:14.004610Z",
     "iopub.status.idle": "2024-08-29T08:12:14.012124Z",
     "shell.execute_reply": "2024-08-29T08:12:14.010939Z"
    },
    "papermill": {
     "duration": 0.028411,
     "end_time": "2024-08-29T08:12:14.014526",
     "exception": false,
     "start_time": "2024-08-29T08:12:13.986115",
     "status": "completed"
    },
    "tags": []
   },
   "outputs": [],
   "source": [
    "y_pred = dt.predict(X_test)"
   ]
  },
  {
   "cell_type": "code",
   "execution_count": 36,
   "id": "e3b2f8d1",
   "metadata": {
    "execution": {
     "iopub.execute_input": "2024-08-29T08:12:14.049881Z",
     "iopub.status.busy": "2024-08-29T08:12:14.049409Z",
     "iopub.status.idle": "2024-08-29T08:12:14.057369Z",
     "shell.execute_reply": "2024-08-29T08:12:14.056000Z"
    },
    "papermill": {
     "duration": 0.029196,
     "end_time": "2024-08-29T08:12:14.059929",
     "exception": false,
     "start_time": "2024-08-29T08:12:14.030733",
     "status": "completed"
    },
    "tags": []
   },
   "outputs": [
    {
     "data": {
      "text/plain": [
       "array([2, 2, 2, 2, 2, 1, 1, 1, 1, 1, 1, 1, 1, 1, 1, 1, 1, 1, 1, 1, 1, 1,\n",
       "       1, 1, 1, 1, 1, 1, 1, 1, 1, 1, 1, 1, 1, 1, 1, 1, 1, 1, 1, 1, 1, 1,\n",
       "       1, 1, 1, 1, 1, 1, 1, 1, 1, 1, 1, 1, 1, 1, 1, 0, 0, 0, 0, 0, 0, 0,\n",
       "       0, 0, 0, 0, 0, 0, 0, 0, 0, 0, 0, 0, 0, 0, 0, 0, 0, 0, 0, 0, 0, 0,\n",
       "       0, 0, 0, 0, 0, 0, 0, 0, 0, 0, 0, 0, 0, 0, 0, 0, 0, 0, 0, 0, 0, 0,\n",
       "       0])"
      ]
     },
     "execution_count": 36,
     "metadata": {},
     "output_type": "execute_result"
    }
   ],
   "source": [
    "y_test"
   ]
  },
  {
   "cell_type": "code",
   "execution_count": 37,
   "id": "bdfc4473",
   "metadata": {
    "execution": {
     "iopub.execute_input": "2024-08-29T08:12:14.095054Z",
     "iopub.status.busy": "2024-08-29T08:12:14.094625Z",
     "iopub.status.idle": "2024-08-29T08:12:14.103607Z",
     "shell.execute_reply": "2024-08-29T08:12:14.102409Z"
    },
    "papermill": {
     "duration": 0.02945,
     "end_time": "2024-08-29T08:12:14.105997",
     "exception": false,
     "start_time": "2024-08-29T08:12:14.076547",
     "status": "completed"
    },
    "tags": []
   },
   "outputs": [
    {
     "data": {
      "text/plain": [
       "array([4.        , 3.        , 1.046875  , 0.        , 1.046875  ,\n",
       "       3.        , 3.        , 2.21052632, 3.        , 2.21052632,\n",
       "       3.        , 2.21052632, 2.21052632, 3.        , 3.        ,\n",
       "       3.        , 2.21052632, 3.        , 3.        , 2.21052632,\n",
       "       2.21052632, 2.21052632, 2.21052632, 2.        , 2.21052632,\n",
       "       2.        , 2.21052632, 2.21052632, 3.        , 2.21052632,\n",
       "       2.21052632, 2.21052632, 2.21052632, 3.        , 2.21052632,\n",
       "       2.21052632, 3.        , 2.21052632, 3.        , 3.        ,\n",
       "       2.21052632, 2.21052632, 2.        , 2.        , 3.        ,\n",
       "       2.21052632, 2.21052632, 2.21052632, 3.        , 2.21052632,\n",
       "       2.21052632, 2.21052632, 2.21052632, 3.        , 2.21052632,\n",
       "       3.        , 3.        , 3.        , 2.21052632, 0.        ,\n",
       "       0.        , 0.        , 0.        , 0.        , 0.        ,\n",
       "       0.        , 0.        , 0.        , 0.        , 0.        ,\n",
       "       0.        , 0.        , 0.        , 3.        , 0.        ,\n",
       "       0.        , 0.        , 0.        , 0.        , 2.        ,\n",
       "       0.        , 0.        , 0.        , 0.        , 0.        ,\n",
       "       3.        , 0.        , 0.        , 0.        , 0.        ,\n",
       "       0.        , 0.        , 0.        , 0.        , 0.        ,\n",
       "       0.        , 0.        , 0.        , 0.        , 0.        ,\n",
       "       0.        , 0.        , 0.        , 0.        , 0.        ,\n",
       "       0.        , 0.        , 0.        , 0.        , 3.        ,\n",
       "       0.        ])"
      ]
     },
     "execution_count": 37,
     "metadata": {},
     "output_type": "execute_result"
    }
   ],
   "source": [
    "y_pred"
   ]
  },
  {
   "cell_type": "code",
   "execution_count": 38,
   "id": "a9a6e80b",
   "metadata": {
    "execution": {
     "iopub.execute_input": "2024-08-29T08:12:14.142185Z",
     "iopub.status.busy": "2024-08-29T08:12:14.141739Z",
     "iopub.status.idle": "2024-08-29T08:12:14.153773Z",
     "shell.execute_reply": "2024-08-29T08:12:14.152526Z"
    },
    "papermill": {
     "duration": 0.032965,
     "end_time": "2024-08-29T08:12:14.156128",
     "exception": false,
     "start_time": "2024-08-29T08:12:14.123163",
     "status": "completed"
    },
    "tags": []
   },
   "outputs": [
    {
     "data": {
      "text/html": [
       "<div>\n",
       "<style scoped>\n",
       "    .dataframe tbody tr th:only-of-type {\n",
       "        vertical-align: middle;\n",
       "    }\n",
       "\n",
       "    .dataframe tbody tr th {\n",
       "        vertical-align: top;\n",
       "    }\n",
       "\n",
       "    .dataframe thead th {\n",
       "        text-align: right;\n",
       "    }\n",
       "</style>\n",
       "<table border=\"1\" class=\"dataframe\">\n",
       "  <thead>\n",
       "    <tr style=\"text-align: right;\">\n",
       "      <th></th>\n",
       "      <th>0</th>\n",
       "    </tr>\n",
       "  </thead>\n",
       "  <tbody>\n",
       "    <tr>\n",
       "      <th>2</th>\n",
       "      <td>4.000000</td>\n",
       "    </tr>\n",
       "    <tr>\n",
       "      <th>2</th>\n",
       "      <td>3.000000</td>\n",
       "    </tr>\n",
       "    <tr>\n",
       "      <th>2</th>\n",
       "      <td>1.046875</td>\n",
       "    </tr>\n",
       "    <tr>\n",
       "      <th>2</th>\n",
       "      <td>0.000000</td>\n",
       "    </tr>\n",
       "    <tr>\n",
       "      <th>2</th>\n",
       "      <td>1.046875</td>\n",
       "    </tr>\n",
       "    <tr>\n",
       "      <th>...</th>\n",
       "      <td>...</td>\n",
       "    </tr>\n",
       "    <tr>\n",
       "      <th>0</th>\n",
       "      <td>0.000000</td>\n",
       "    </tr>\n",
       "    <tr>\n",
       "      <th>0</th>\n",
       "      <td>0.000000</td>\n",
       "    </tr>\n",
       "    <tr>\n",
       "      <th>0</th>\n",
       "      <td>0.000000</td>\n",
       "    </tr>\n",
       "    <tr>\n",
       "      <th>0</th>\n",
       "      <td>3.000000</td>\n",
       "    </tr>\n",
       "    <tr>\n",
       "      <th>0</th>\n",
       "      <td>0.000000</td>\n",
       "    </tr>\n",
       "  </tbody>\n",
       "</table>\n",
       "<p>111 rows × 1 columns</p>\n",
       "</div>"
      ],
      "text/plain": [
       "           0\n",
       "2   4.000000\n",
       "2   3.000000\n",
       "2   1.046875\n",
       "2   0.000000\n",
       "2   1.046875\n",
       "..       ...\n",
       "0   0.000000\n",
       "0   0.000000\n",
       "0   0.000000\n",
       "0   3.000000\n",
       "0   0.000000\n",
       "\n",
       "[111 rows x 1 columns]"
      ]
     },
     "execution_count": 38,
     "metadata": {},
     "output_type": "execute_result"
    }
   ],
   "source": [
    "pred = pd.DataFrame(y_pred , y_test)\n",
    "pred"
   ]
  },
  {
   "cell_type": "code",
   "execution_count": 39,
   "id": "2c399c54",
   "metadata": {
    "execution": {
     "iopub.execute_input": "2024-08-29T08:12:14.192829Z",
     "iopub.status.busy": "2024-08-29T08:12:14.192244Z",
     "iopub.status.idle": "2024-08-29T08:12:14.198014Z",
     "shell.execute_reply": "2024-08-29T08:12:14.196739Z"
    },
    "papermill": {
     "duration": 0.027075,
     "end_time": "2024-08-29T08:12:14.200360",
     "exception": false,
     "start_time": "2024-08-29T08:12:14.173285",
     "status": "completed"
    },
    "tags": []
   },
   "outputs": [],
   "source": [
    "from sklearn.metrics import mean_squared_error as mse"
   ]
  },
  {
   "cell_type": "code",
   "execution_count": 40,
   "id": "10efd6f7",
   "metadata": {
    "execution": {
     "iopub.execute_input": "2024-08-29T08:12:14.235826Z",
     "iopub.status.busy": "2024-08-29T08:12:14.235388Z",
     "iopub.status.idle": "2024-08-29T08:12:14.242158Z",
     "shell.execute_reply": "2024-08-29T08:12:14.241136Z"
    },
    "papermill": {
     "duration": 0.027357,
     "end_time": "2024-08-29T08:12:14.244560",
     "exception": false,
     "start_time": "2024-08-29T08:12:14.217203",
     "status": "completed"
    },
    "tags": []
   },
   "outputs": [
    {
     "name": "stdout",
     "output_type": "stream",
     "text": [
      "MSE is: 1.5295325528631993\n"
     ]
    }
   ],
   "source": [
    "print('MSE is:', mse(y_test,y_pred))"
   ]
  },
  {
   "cell_type": "code",
   "execution_count": 41,
   "id": "8758d16a",
   "metadata": {
    "execution": {
     "iopub.execute_input": "2024-08-29T08:12:14.284146Z",
     "iopub.status.busy": "2024-08-29T08:12:14.283700Z",
     "iopub.status.idle": "2024-08-29T08:12:14.291683Z",
     "shell.execute_reply": "2024-08-29T08:12:14.290211Z"
    },
    "papermill": {
     "duration": 0.031892,
     "end_time": "2024-08-29T08:12:14.294853",
     "exception": false,
     "start_time": "2024-08-29T08:12:14.262961",
     "status": "completed"
    },
    "tags": []
   },
   "outputs": [],
   "source": [
    "y_query = dt.predict([[2.517683,5.46428 ,9.067873,-4.965928,-0.741937,0.039785,0.573279,-0.216918,2.454823,-0.671274]])"
   ]
  },
  {
   "cell_type": "code",
   "execution_count": 42,
   "id": "60fe83ba",
   "metadata": {
    "execution": {
     "iopub.execute_input": "2024-08-29T08:12:14.332427Z",
     "iopub.status.busy": "2024-08-29T08:12:14.332017Z",
     "iopub.status.idle": "2024-08-29T08:12:14.339639Z",
     "shell.execute_reply": "2024-08-29T08:12:14.338469Z"
    },
    "papermill": {
     "duration": 0.029821,
     "end_time": "2024-08-29T08:12:14.342212",
     "exception": false,
     "start_time": "2024-08-29T08:12:14.312391",
     "status": "completed"
    },
    "tags": []
   },
   "outputs": [
    {
     "data": {
      "text/plain": [
       "array([4.])"
      ]
     },
     "execution_count": 42,
     "metadata": {},
     "output_type": "execute_result"
    }
   ],
   "source": [
    "y_query"
   ]
  },
  {
   "cell_type": "code",
   "execution_count": 43,
   "id": "965590de",
   "metadata": {
    "execution": {
     "iopub.execute_input": "2024-08-29T08:12:14.378036Z",
     "iopub.status.busy": "2024-08-29T08:12:14.377488Z",
     "iopub.status.idle": "2024-08-29T08:12:14.385432Z",
     "shell.execute_reply": "2024-08-29T08:12:14.384292Z"
    },
    "papermill": {
     "duration": 0.02837,
     "end_time": "2024-08-29T08:12:14.387967",
     "exception": false,
     "start_time": "2024-08-29T08:12:14.359597",
     "status": "completed"
    },
    "tags": []
   },
   "outputs": [
    {
     "data": {
      "text/plain": [
       "array([2, 2, 2, 2, 2, 1, 1, 1, 1, 1, 1, 1, 1, 1, 1, 1, 1, 1, 1, 1, 1, 1,\n",
       "       1, 1, 1, 1, 1, 1, 1, 1, 1, 1, 1, 1, 1, 1, 1, 1, 1, 1, 1, 1, 1, 1,\n",
       "       1, 1, 1, 1, 1, 1, 1, 1, 1, 1, 1, 1, 1, 1, 1, 0, 0, 0, 0, 0, 0, 0,\n",
       "       0, 0, 0, 0, 0, 0, 0, 0, 0, 0, 0, 0, 0, 0, 0, 0, 0, 0, 0, 0, 0, 0,\n",
       "       0, 0, 0, 0, 0, 0, 0, 0, 0, 0, 0, 0, 0, 0, 0, 0, 0, 0, 0, 0, 0, 0,\n",
       "       0])"
      ]
     },
     "execution_count": 43,
     "metadata": {},
     "output_type": "execute_result"
    }
   ],
   "source": [
    "y_test"
   ]
  },
  {
   "cell_type": "code",
   "execution_count": 44,
   "id": "634a07f2",
   "metadata": {
    "execution": {
     "iopub.execute_input": "2024-08-29T08:12:14.424374Z",
     "iopub.status.busy": "2024-08-29T08:12:14.423988Z",
     "iopub.status.idle": "2024-08-29T08:12:14.429710Z",
     "shell.execute_reply": "2024-08-29T08:12:14.428550Z"
    },
    "papermill": {
     "duration": 0.026752,
     "end_time": "2024-08-29T08:12:14.432008",
     "exception": false,
     "start_time": "2024-08-29T08:12:14.405256",
     "status": "completed"
    },
    "tags": []
   },
   "outputs": [],
   "source": [
    "param = {\n",
    "    'criterion' : ['squared_error','friedman_mse','absolute_error'],\n",
    "    'splitter':['best','random'],\n",
    "    'max_depth':[1,2,3,4,5],\n",
    "    'max_features':['auto','sqrt','log2']\n",
    "}"
   ]
  },
  {
   "cell_type": "code",
   "execution_count": 45,
   "id": "60724f56",
   "metadata": {
    "execution": {
     "iopub.execute_input": "2024-08-29T08:12:14.469635Z",
     "iopub.status.busy": "2024-08-29T08:12:14.468555Z",
     "iopub.status.idle": "2024-08-29T08:12:14.473902Z",
     "shell.execute_reply": "2024-08-29T08:12:14.472794Z"
    },
    "papermill": {
     "duration": 0.026963,
     "end_time": "2024-08-29T08:12:14.476257",
     "exception": false,
     "start_time": "2024-08-29T08:12:14.449294",
     "status": "completed"
    },
    "tags": []
   },
   "outputs": [],
   "source": [
    "regressor = DecisionTreeRegressor()"
   ]
  },
  {
   "cell_type": "code",
   "execution_count": 46,
   "id": "47014c80",
   "metadata": {
    "execution": {
     "iopub.execute_input": "2024-08-29T08:12:14.514470Z",
     "iopub.status.busy": "2024-08-29T08:12:14.513428Z",
     "iopub.status.idle": "2024-08-29T08:12:14.519104Z",
     "shell.execute_reply": "2024-08-29T08:12:14.517749Z"
    },
    "papermill": {
     "duration": 0.027174,
     "end_time": "2024-08-29T08:12:14.521521",
     "exception": false,
     "start_time": "2024-08-29T08:12:14.494347",
     "status": "completed"
    },
    "tags": []
   },
   "outputs": [],
   "source": [
    "grid = GridSearchCV(regressor,param_grid = param, cv=5 , scoring='neg_mean_squared_error')"
   ]
  },
  {
   "cell_type": "code",
   "execution_count": 47,
   "id": "274f5247",
   "metadata": {
    "execution": {
     "iopub.execute_input": "2024-08-29T08:12:14.556980Z",
     "iopub.status.busy": "2024-08-29T08:12:14.556543Z",
     "iopub.status.idle": "2024-08-29T08:12:16.598881Z",
     "shell.execute_reply": "2024-08-29T08:12:16.597783Z"
    },
    "papermill": {
     "duration": 2.063113,
     "end_time": "2024-08-29T08:12:16.601742",
     "exception": false,
     "start_time": "2024-08-29T08:12:14.538629",
     "status": "completed"
    },
    "tags": []
   },
   "outputs": [
    {
     "data": {
      "text/html": [
       "<style>#sk-container-id-3 {color: black;background-color: white;}#sk-container-id-3 pre{padding: 0;}#sk-container-id-3 div.sk-toggleable {background-color: white;}#sk-container-id-3 label.sk-toggleable__label {cursor: pointer;display: block;width: 100%;margin-bottom: 0;padding: 0.3em;box-sizing: border-box;text-align: center;}#sk-container-id-3 label.sk-toggleable__label-arrow:before {content: \"▸\";float: left;margin-right: 0.25em;color: #696969;}#sk-container-id-3 label.sk-toggleable__label-arrow:hover:before {color: black;}#sk-container-id-3 div.sk-estimator:hover label.sk-toggleable__label-arrow:before {color: black;}#sk-container-id-3 div.sk-toggleable__content {max-height: 0;max-width: 0;overflow: hidden;text-align: left;background-color: #f0f8ff;}#sk-container-id-3 div.sk-toggleable__content pre {margin: 0.2em;color: black;border-radius: 0.25em;background-color: #f0f8ff;}#sk-container-id-3 input.sk-toggleable__control:checked~div.sk-toggleable__content {max-height: 200px;max-width: 100%;overflow: auto;}#sk-container-id-3 input.sk-toggleable__control:checked~label.sk-toggleable__label-arrow:before {content: \"▾\";}#sk-container-id-3 div.sk-estimator input.sk-toggleable__control:checked~label.sk-toggleable__label {background-color: #d4ebff;}#sk-container-id-3 div.sk-label input.sk-toggleable__control:checked~label.sk-toggleable__label {background-color: #d4ebff;}#sk-container-id-3 input.sk-hidden--visually {border: 0;clip: rect(1px 1px 1px 1px);clip: rect(1px, 1px, 1px, 1px);height: 1px;margin: -1px;overflow: hidden;padding: 0;position: absolute;width: 1px;}#sk-container-id-3 div.sk-estimator {font-family: monospace;background-color: #f0f8ff;border: 1px dotted black;border-radius: 0.25em;box-sizing: border-box;margin-bottom: 0.5em;}#sk-container-id-3 div.sk-estimator:hover {background-color: #d4ebff;}#sk-container-id-3 div.sk-parallel-item::after {content: \"\";width: 100%;border-bottom: 1px solid gray;flex-grow: 1;}#sk-container-id-3 div.sk-label:hover label.sk-toggleable__label {background-color: #d4ebff;}#sk-container-id-3 div.sk-serial::before {content: \"\";position: absolute;border-left: 1px solid gray;box-sizing: border-box;top: 0;bottom: 0;left: 50%;z-index: 0;}#sk-container-id-3 div.sk-serial {display: flex;flex-direction: column;align-items: center;background-color: white;padding-right: 0.2em;padding-left: 0.2em;position: relative;}#sk-container-id-3 div.sk-item {position: relative;z-index: 1;}#sk-container-id-3 div.sk-parallel {display: flex;align-items: stretch;justify-content: center;background-color: white;position: relative;}#sk-container-id-3 div.sk-item::before, #sk-container-id-3 div.sk-parallel-item::before {content: \"\";position: absolute;border-left: 1px solid gray;box-sizing: border-box;top: 0;bottom: 0;left: 50%;z-index: -1;}#sk-container-id-3 div.sk-parallel-item {display: flex;flex-direction: column;z-index: 1;position: relative;background-color: white;}#sk-container-id-3 div.sk-parallel-item:first-child::after {align-self: flex-end;width: 50%;}#sk-container-id-3 div.sk-parallel-item:last-child::after {align-self: flex-start;width: 50%;}#sk-container-id-3 div.sk-parallel-item:only-child::after {width: 0;}#sk-container-id-3 div.sk-dashed-wrapped {border: 1px dashed gray;margin: 0 0.4em 0.5em 0.4em;box-sizing: border-box;padding-bottom: 0.4em;background-color: white;}#sk-container-id-3 div.sk-label label {font-family: monospace;font-weight: bold;display: inline-block;line-height: 1.2em;}#sk-container-id-3 div.sk-label-container {text-align: center;}#sk-container-id-3 div.sk-container {/* jupyter's `normalize.less` sets `[hidden] { display: none; }` but bootstrap.min.css set `[hidden] { display: none !important; }` so we also need the `!important` here to be able to override the default hidden behavior on the sphinx rendered scikit-learn.org. See: https://github.com/scikit-learn/scikit-learn/issues/21755 */display: inline-block !important;position: relative;}#sk-container-id-3 div.sk-text-repr-fallback {display: none;}</style><div id=\"sk-container-id-3\" class=\"sk-top-container\"><div class=\"sk-text-repr-fallback\"><pre>GridSearchCV(cv=5, estimator=DecisionTreeRegressor(),\n",
       "             param_grid={&#x27;criterion&#x27;: [&#x27;squared_error&#x27;, &#x27;friedman_mse&#x27;,\n",
       "                                       &#x27;absolute_error&#x27;],\n",
       "                         &#x27;max_depth&#x27;: [1, 2, 3, 4, 5],\n",
       "                         &#x27;max_features&#x27;: [&#x27;auto&#x27;, &#x27;sqrt&#x27;, &#x27;log2&#x27;],\n",
       "                         &#x27;splitter&#x27;: [&#x27;best&#x27;, &#x27;random&#x27;]},\n",
       "             scoring=&#x27;neg_mean_squared_error&#x27;)</pre><b>In a Jupyter environment, please rerun this cell to show the HTML representation or trust the notebook. <br />On GitHub, the HTML representation is unable to render, please try loading this page with nbviewer.org.</b></div><div class=\"sk-container\" hidden><div class=\"sk-item sk-dashed-wrapped\"><div class=\"sk-label-container\"><div class=\"sk-label sk-toggleable\"><input class=\"sk-toggleable__control sk-hidden--visually\" id=\"sk-estimator-id-3\" type=\"checkbox\" ><label for=\"sk-estimator-id-3\" class=\"sk-toggleable__label sk-toggleable__label-arrow\">GridSearchCV</label><div class=\"sk-toggleable__content\"><pre>GridSearchCV(cv=5, estimator=DecisionTreeRegressor(),\n",
       "             param_grid={&#x27;criterion&#x27;: [&#x27;squared_error&#x27;, &#x27;friedman_mse&#x27;,\n",
       "                                       &#x27;absolute_error&#x27;],\n",
       "                         &#x27;max_depth&#x27;: [1, 2, 3, 4, 5],\n",
       "                         &#x27;max_features&#x27;: [&#x27;auto&#x27;, &#x27;sqrt&#x27;, &#x27;log2&#x27;],\n",
       "                         &#x27;splitter&#x27;: [&#x27;best&#x27;, &#x27;random&#x27;]},\n",
       "             scoring=&#x27;neg_mean_squared_error&#x27;)</pre></div></div></div><div class=\"sk-parallel\"><div class=\"sk-parallel-item\"><div class=\"sk-item\"><div class=\"sk-label-container\"><div class=\"sk-label sk-toggleable\"><input class=\"sk-toggleable__control sk-hidden--visually\" id=\"sk-estimator-id-4\" type=\"checkbox\" ><label for=\"sk-estimator-id-4\" class=\"sk-toggleable__label sk-toggleable__label-arrow\">estimator: DecisionTreeRegressor</label><div class=\"sk-toggleable__content\"><pre>DecisionTreeRegressor()</pre></div></div></div><div class=\"sk-serial\"><div class=\"sk-item\"><div class=\"sk-estimator sk-toggleable\"><input class=\"sk-toggleable__control sk-hidden--visually\" id=\"sk-estimator-id-5\" type=\"checkbox\" ><label for=\"sk-estimator-id-5\" class=\"sk-toggleable__label sk-toggleable__label-arrow\">DecisionTreeRegressor</label><div class=\"sk-toggleable__content\"><pre>DecisionTreeRegressor()</pre></div></div></div></div></div></div></div></div></div></div>"
      ],
      "text/plain": [
       "GridSearchCV(cv=5, estimator=DecisionTreeRegressor(),\n",
       "             param_grid={'criterion': ['squared_error', 'friedman_mse',\n",
       "                                       'absolute_error'],\n",
       "                         'max_depth': [1, 2, 3, 4, 5],\n",
       "                         'max_features': ['auto', 'sqrt', 'log2'],\n",
       "                         'splitter': ['best', 'random']},\n",
       "             scoring='neg_mean_squared_error')"
      ]
     },
     "execution_count": 47,
     "metadata": {},
     "output_type": "execute_result"
    }
   ],
   "source": [
    "grid.fit(X,y)"
   ]
  },
  {
   "cell_type": "code",
   "execution_count": 48,
   "id": "a1469ece",
   "metadata": {
    "execution": {
     "iopub.execute_input": "2024-08-29T08:12:16.643416Z",
     "iopub.status.busy": "2024-08-29T08:12:16.643009Z",
     "iopub.status.idle": "2024-08-29T08:12:16.650902Z",
     "shell.execute_reply": "2024-08-29T08:12:16.649739Z"
    },
    "papermill": {
     "duration": 0.029131,
     "end_time": "2024-08-29T08:12:16.653148",
     "exception": false,
     "start_time": "2024-08-29T08:12:16.624017",
     "status": "completed"
    },
    "tags": []
   },
   "outputs": [
    {
     "data": {
      "text/plain": [
       "{'criterion': 'squared_error',\n",
       " 'max_depth': 5,\n",
       " 'max_features': 'log2',\n",
       " 'splitter': 'best'}"
      ]
     },
     "execution_count": 48,
     "metadata": {},
     "output_type": "execute_result"
    }
   ],
   "source": [
    "grid.best_params_"
   ]
  },
  {
   "cell_type": "code",
   "execution_count": 49,
   "id": "5dfb8181",
   "metadata": {
    "execution": {
     "iopub.execute_input": "2024-08-29T08:12:16.690982Z",
     "iopub.status.busy": "2024-08-29T08:12:16.690564Z",
     "iopub.status.idle": "2024-08-29T08:12:16.697804Z",
     "shell.execute_reply": "2024-08-29T08:12:16.696501Z"
    },
    "papermill": {
     "duration": 0.029356,
     "end_time": "2024-08-29T08:12:16.700211",
     "exception": false,
     "start_time": "2024-08-29T08:12:16.670855",
     "status": "completed"
    },
    "tags": []
   },
   "outputs": [],
   "source": [
    "y_pred1 = grid.predict(X_test)"
   ]
  },
  {
   "cell_type": "code",
   "execution_count": 50,
   "id": "f9a8aa02",
   "metadata": {
    "execution": {
     "iopub.execute_input": "2024-08-29T08:12:16.738190Z",
     "iopub.status.busy": "2024-08-29T08:12:16.737773Z",
     "iopub.status.idle": "2024-08-29T08:12:16.742859Z",
     "shell.execute_reply": "2024-08-29T08:12:16.741685Z"
    },
    "papermill": {
     "duration": 0.027434,
     "end_time": "2024-08-29T08:12:16.745434",
     "exception": false,
     "start_time": "2024-08-29T08:12:16.718000",
     "status": "completed"
    },
    "tags": []
   },
   "outputs": [],
   "source": [
    "from sklearn.metrics import mean_squared_error,r2_score, mean_absolute_error"
   ]
  },
  {
   "cell_type": "code",
   "execution_count": 51,
   "id": "8e1acea8",
   "metadata": {
    "execution": {
     "iopub.execute_input": "2024-08-29T08:12:16.785113Z",
     "iopub.status.busy": "2024-08-29T08:12:16.784276Z",
     "iopub.status.idle": "2024-08-29T08:12:16.792569Z",
     "shell.execute_reply": "2024-08-29T08:12:16.791253Z"
    },
    "papermill": {
     "duration": 0.031346,
     "end_time": "2024-08-29T08:12:16.795771",
     "exception": false,
     "start_time": "2024-08-29T08:12:16.764425",
     "status": "completed"
    },
    "tags": []
   },
   "outputs": [
    {
     "name": "stdout",
     "output_type": "stream",
     "text": [
      "r2-score is: -5.220574257465707\n",
      "MSE-score is: 2.079078385865089\n",
      "MAE-score is: 1.0903271692745378\n"
     ]
    }
   ],
   "source": [
    "print(f\"r2-score is:\", r2_score(y_test,y_pred1))\n",
    "print(f\"MSE-score is:\", mean_squared_error(y_test,y_pred1))\n",
    "print(f\"MAE-score is:\", mean_absolute_error(y_test,y_pred1))"
   ]
  },
  {
   "cell_type": "code",
   "execution_count": 52,
   "id": "3d7eade2",
   "metadata": {
    "execution": {
     "iopub.execute_input": "2024-08-29T08:12:16.833316Z",
     "iopub.status.busy": "2024-08-29T08:12:16.832819Z",
     "iopub.status.idle": "2024-08-29T08:12:16.839677Z",
     "shell.execute_reply": "2024-08-29T08:12:16.838366Z"
    },
    "papermill": {
     "duration": 0.028466,
     "end_time": "2024-08-29T08:12:16.842342",
     "exception": false,
     "start_time": "2024-08-29T08:12:16.813876",
     "status": "completed"
    },
    "tags": []
   },
   "outputs": [],
   "source": [
    "decision = DecisionTreeRegressor(criterion= 'squared_error', max_depth= 5,max_features= 'auto',splitter= 'random')"
   ]
  },
  {
   "cell_type": "code",
   "execution_count": 53,
   "id": "8b694ee6",
   "metadata": {
    "execution": {
     "iopub.execute_input": "2024-08-29T08:12:16.880061Z",
     "iopub.status.busy": "2024-08-29T08:12:16.879325Z",
     "iopub.status.idle": "2024-08-29T08:12:16.893327Z",
     "shell.execute_reply": "2024-08-29T08:12:16.892154Z"
    },
    "papermill": {
     "duration": 0.035814,
     "end_time": "2024-08-29T08:12:16.895779",
     "exception": false,
     "start_time": "2024-08-29T08:12:16.859965",
     "status": "completed"
    },
    "tags": []
   },
   "outputs": [
    {
     "data": {
      "text/html": [
       "<style>#sk-container-id-4 {color: black;background-color: white;}#sk-container-id-4 pre{padding: 0;}#sk-container-id-4 div.sk-toggleable {background-color: white;}#sk-container-id-4 label.sk-toggleable__label {cursor: pointer;display: block;width: 100%;margin-bottom: 0;padding: 0.3em;box-sizing: border-box;text-align: center;}#sk-container-id-4 label.sk-toggleable__label-arrow:before {content: \"▸\";float: left;margin-right: 0.25em;color: #696969;}#sk-container-id-4 label.sk-toggleable__label-arrow:hover:before {color: black;}#sk-container-id-4 div.sk-estimator:hover label.sk-toggleable__label-arrow:before {color: black;}#sk-container-id-4 div.sk-toggleable__content {max-height: 0;max-width: 0;overflow: hidden;text-align: left;background-color: #f0f8ff;}#sk-container-id-4 div.sk-toggleable__content pre {margin: 0.2em;color: black;border-radius: 0.25em;background-color: #f0f8ff;}#sk-container-id-4 input.sk-toggleable__control:checked~div.sk-toggleable__content {max-height: 200px;max-width: 100%;overflow: auto;}#sk-container-id-4 input.sk-toggleable__control:checked~label.sk-toggleable__label-arrow:before {content: \"▾\";}#sk-container-id-4 div.sk-estimator input.sk-toggleable__control:checked~label.sk-toggleable__label {background-color: #d4ebff;}#sk-container-id-4 div.sk-label input.sk-toggleable__control:checked~label.sk-toggleable__label {background-color: #d4ebff;}#sk-container-id-4 input.sk-hidden--visually {border: 0;clip: rect(1px 1px 1px 1px);clip: rect(1px, 1px, 1px, 1px);height: 1px;margin: -1px;overflow: hidden;padding: 0;position: absolute;width: 1px;}#sk-container-id-4 div.sk-estimator {font-family: monospace;background-color: #f0f8ff;border: 1px dotted black;border-radius: 0.25em;box-sizing: border-box;margin-bottom: 0.5em;}#sk-container-id-4 div.sk-estimator:hover {background-color: #d4ebff;}#sk-container-id-4 div.sk-parallel-item::after {content: \"\";width: 100%;border-bottom: 1px solid gray;flex-grow: 1;}#sk-container-id-4 div.sk-label:hover label.sk-toggleable__label {background-color: #d4ebff;}#sk-container-id-4 div.sk-serial::before {content: \"\";position: absolute;border-left: 1px solid gray;box-sizing: border-box;top: 0;bottom: 0;left: 50%;z-index: 0;}#sk-container-id-4 div.sk-serial {display: flex;flex-direction: column;align-items: center;background-color: white;padding-right: 0.2em;padding-left: 0.2em;position: relative;}#sk-container-id-4 div.sk-item {position: relative;z-index: 1;}#sk-container-id-4 div.sk-parallel {display: flex;align-items: stretch;justify-content: center;background-color: white;position: relative;}#sk-container-id-4 div.sk-item::before, #sk-container-id-4 div.sk-parallel-item::before {content: \"\";position: absolute;border-left: 1px solid gray;box-sizing: border-box;top: 0;bottom: 0;left: 50%;z-index: -1;}#sk-container-id-4 div.sk-parallel-item {display: flex;flex-direction: column;z-index: 1;position: relative;background-color: white;}#sk-container-id-4 div.sk-parallel-item:first-child::after {align-self: flex-end;width: 50%;}#sk-container-id-4 div.sk-parallel-item:last-child::after {align-self: flex-start;width: 50%;}#sk-container-id-4 div.sk-parallel-item:only-child::after {width: 0;}#sk-container-id-4 div.sk-dashed-wrapped {border: 1px dashed gray;margin: 0 0.4em 0.5em 0.4em;box-sizing: border-box;padding-bottom: 0.4em;background-color: white;}#sk-container-id-4 div.sk-label label {font-family: monospace;font-weight: bold;display: inline-block;line-height: 1.2em;}#sk-container-id-4 div.sk-label-container {text-align: center;}#sk-container-id-4 div.sk-container {/* jupyter's `normalize.less` sets `[hidden] { display: none; }` but bootstrap.min.css set `[hidden] { display: none !important; }` so we also need the `!important` here to be able to override the default hidden behavior on the sphinx rendered scikit-learn.org. See: https://github.com/scikit-learn/scikit-learn/issues/21755 */display: inline-block !important;position: relative;}#sk-container-id-4 div.sk-text-repr-fallback {display: none;}</style><div id=\"sk-container-id-4\" class=\"sk-top-container\"><div class=\"sk-text-repr-fallback\"><pre>DecisionTreeRegressor(max_depth=5, max_features=&#x27;auto&#x27;, splitter=&#x27;random&#x27;)</pre><b>In a Jupyter environment, please rerun this cell to show the HTML representation or trust the notebook. <br />On GitHub, the HTML representation is unable to render, please try loading this page with nbviewer.org.</b></div><div class=\"sk-container\" hidden><div class=\"sk-item\"><div class=\"sk-estimator sk-toggleable\"><input class=\"sk-toggleable__control sk-hidden--visually\" id=\"sk-estimator-id-6\" type=\"checkbox\" checked><label for=\"sk-estimator-id-6\" class=\"sk-toggleable__label sk-toggleable__label-arrow\">DecisionTreeRegressor</label><div class=\"sk-toggleable__content\"><pre>DecisionTreeRegressor(max_depth=5, max_features=&#x27;auto&#x27;, splitter=&#x27;random&#x27;)</pre></div></div></div></div></div>"
      ],
      "text/plain": [
       "DecisionTreeRegressor(max_depth=5, max_features='auto', splitter='random')"
      ]
     },
     "execution_count": 53,
     "metadata": {},
     "output_type": "execute_result"
    }
   ],
   "source": [
    "decision.fit(X,y)"
   ]
  },
  {
   "cell_type": "code",
   "execution_count": 54,
   "id": "bdd87813",
   "metadata": {
    "execution": {
     "iopub.execute_input": "2024-08-29T08:12:16.935678Z",
     "iopub.status.busy": "2024-08-29T08:12:16.935233Z",
     "iopub.status.idle": "2024-08-29T08:12:16.945925Z",
     "shell.execute_reply": "2024-08-29T08:12:16.944285Z"
    },
    "papermill": {
     "duration": 0.034579,
     "end_time": "2024-08-29T08:12:16.948459",
     "exception": false,
     "start_time": "2024-08-29T08:12:16.913880",
     "status": "completed"
    },
    "tags": []
   },
   "outputs": [
    {
     "name": "stdout",
     "output_type": "stream",
     "text": [
      "r2-score is: -2.09980573093735\n",
      "MSE-score is: 1.0360360360360361\n",
      "MAE-score is: 0.6936936936936937\n"
     ]
    }
   ],
   "source": [
    "new_pred = decision.predict(X_test)\n",
    "print(f\"r2-score is:\", r2_score(y_test,new_pred))\n",
    "print(f\"MSE-score is:\", mean_squared_error(y_test,new_pred))\n",
    "print(f\"MAE-score is:\", mean_absolute_error(y_test,new_pred))"
   ]
  },
  {
   "cell_type": "code",
   "execution_count": null,
   "id": "8cde0c8f",
   "metadata": {
    "papermill": {
     "duration": 0.017928,
     "end_time": "2024-08-29T08:12:16.985845",
     "exception": false,
     "start_time": "2024-08-29T08:12:16.967917",
     "status": "completed"
    },
    "tags": []
   },
   "outputs": [],
   "source": []
  }
 ],
 "metadata": {
  "kaggle": {
   "accelerator": "none",
   "dataSources": [
    {
     "datasetId": 3366318,
     "sourceId": 5853582,
     "sourceType": "datasetVersion"
    }
   ],
   "dockerImageVersionId": 30761,
   "isGpuEnabled": false,
   "isInternetEnabled": true,
   "language": "python",
   "sourceType": "notebook"
  },
  "kernelspec": {
   "display_name": "Python 3",
   "language": "python",
   "name": "python3"
  },
  "language_info": {
   "codemirror_mode": {
    "name": "ipython",
    "version": 3
   },
   "file_extension": ".py",
   "mimetype": "text/x-python",
   "name": "python",
   "nbconvert_exporter": "python",
   "pygments_lexer": "ipython3",
   "version": "3.10.14"
  },
  "papermill": {
   "default_parameters": {},
   "duration": 26.639638,
   "end_time": "2024-08-29T08:12:17.725301",
   "environment_variables": {},
   "exception": null,
   "input_path": "__notebook__.ipynb",
   "output_path": "__notebook__.ipynb",
   "parameters": {},
   "start_time": "2024-08-29T08:11:51.085663",
   "version": "2.6.0"
  }
 },
 "nbformat": 4,
 "nbformat_minor": 5
}
