{
 "cells": [
  {
   "cell_type": "code",
   "execution_count": 1,
   "id": "c1940f13",
   "metadata": {
    "_cell_guid": "b1076dfc-b9ad-4769-8c92-a6c4dae69d19",
    "_uuid": "8f2839f25d086af736a60e9eeb907d3b93b6e0e5",
    "execution": {
     "iopub.execute_input": "2024-08-29T07:40:57.704213Z",
     "iopub.status.busy": "2024-08-29T07:40:57.703662Z",
     "iopub.status.idle": "2024-08-29T07:40:58.253634Z",
     "shell.execute_reply": "2024-08-29T07:40:58.251985Z"
    },
    "papermill": {
     "duration": 0.570519,
     "end_time": "2024-08-29T07:40:58.256423",
     "exception": false,
     "start_time": "2024-08-29T07:40:57.685904",
     "status": "completed"
    },
    "tags": []
   },
   "outputs": [
    {
     "name": "stdout",
     "output_type": "stream",
     "text": [
      "/kaggle/input/human-genetic-data/genetic_data_train.csv\n",
      "/kaggle/input/human-genetic-data/genetic_data_test.csv\n"
     ]
    }
   ],
   "source": [
    "# This Python 3 environment comes with many helpful analytics libraries installed\n",
    "# It is defined by the kaggle/python Docker image: https://github.com/kaggle/docker-python\n",
    "# For example, here's several helpful packages to load\n",
    "\n",
    "import numpy as np # linear algebra\n",
    "import pandas as pd # data processing, CSV file I/O (e.g. pd.read_csv)\n",
    "\n",
    "# Input data files are available in the read-only \"../input/\" directory\n",
    "# For example, running this (by clicking run or pressing Shift+Enter) will list all files under the input directory\n",
    "\n",
    "import os\n",
    "for dirname, _, filenames in os.walk('/kaggle/input'):\n",
    "    for filename in filenames:\n",
    "        print(os.path.join(dirname, filename))\n",
    "\n",
    "# You can write up to 20GB to the current directory (/kaggle/working/) that gets preserved as output when you create a version using \"Save & Run All\" \n",
    "# You can also write temporary files to /kaggle/temp/, but they won't be saved outside of the current session"
   ]
  },
  {
   "cell_type": "code",
   "execution_count": 2,
   "id": "9bcd6384",
   "metadata": {
    "execution": {
     "iopub.execute_input": "2024-08-29T07:40:58.290155Z",
     "iopub.status.busy": "2024-08-29T07:40:58.288836Z",
     "iopub.status.idle": "2024-08-29T07:41:00.381954Z",
     "shell.execute_reply": "2024-08-29T07:41:00.380551Z"
    },
    "papermill": {
     "duration": 2.113767,
     "end_time": "2024-08-29T07:41:00.385460",
     "exception": false,
     "start_time": "2024-08-29T07:40:58.271693",
     "status": "completed"
    },
    "tags": []
   },
   "outputs": [],
   "source": [
    "import pandas as pd\n",
    "import numpy as np\n",
    "import seaborn as sns\n",
    "import matplotlib.pyplot as plt\n",
    "import warnings\n",
    "\n",
    "# Suppress all warnings\n",
    "warnings.filterwarnings('ignore')\n"
   ]
  },
  {
   "cell_type": "code",
   "execution_count": 3,
   "id": "ba1f6a6b",
   "metadata": {
    "execution": {
     "iopub.execute_input": "2024-08-29T07:41:00.417770Z",
     "iopub.status.busy": "2024-08-29T07:41:00.417049Z",
     "iopub.status.idle": "2024-08-29T07:41:00.443416Z",
     "shell.execute_reply": "2024-08-29T07:41:00.441803Z"
    },
    "papermill": {
     "duration": 0.04624,
     "end_time": "2024-08-29T07:41:00.446664",
     "exception": false,
     "start_time": "2024-08-29T07:41:00.400424",
     "status": "completed"
    },
    "tags": []
   },
   "outputs": [],
   "source": [
    "df = pd.read_csv(\"/kaggle/input/human-genetic-data/genetic_data_train.csv\")"
   ]
  },
  {
   "cell_type": "code",
   "execution_count": 4,
   "id": "a3633f35",
   "metadata": {
    "execution": {
     "iopub.execute_input": "2024-08-29T07:41:00.480726Z",
     "iopub.status.busy": "2024-08-29T07:41:00.480266Z",
     "iopub.status.idle": "2024-08-29T07:41:00.491482Z",
     "shell.execute_reply": "2024-08-29T07:41:00.489845Z"
    },
    "papermill": {
     "duration": 0.031805,
     "end_time": "2024-08-29T07:41:00.494381",
     "exception": false,
     "start_time": "2024-08-29T07:41:00.462576",
     "status": "completed"
    },
    "tags": []
   },
   "outputs": [
    {
     "data": {
      "text/plain": [
       "(183, 11)"
      ]
     },
     "execution_count": 4,
     "metadata": {},
     "output_type": "execute_result"
    }
   ],
   "source": [
    "df.shape"
   ]
  },
  {
   "cell_type": "code",
   "execution_count": 5,
   "id": "0a3f7972",
   "metadata": {
    "execution": {
     "iopub.execute_input": "2024-08-29T07:41:00.528005Z",
     "iopub.status.busy": "2024-08-29T07:41:00.527478Z",
     "iopub.status.idle": "2024-08-29T07:41:00.575615Z",
     "shell.execute_reply": "2024-08-29T07:41:00.574164Z"
    },
    "papermill": {
     "duration": 0.068711,
     "end_time": "2024-08-29T07:41:00.578950",
     "exception": false,
     "start_time": "2024-08-29T07:41:00.510239",
     "status": "completed"
    },
    "tags": []
   },
   "outputs": [
    {
     "name": "stdout",
     "output_type": "stream",
     "text": [
      "<class 'pandas.core.frame.DataFrame'>\n",
      "RangeIndex: 183 entries, 0 to 182\n",
      "Data columns (total 11 columns):\n",
      " #   Column    Non-Null Count  Dtype  \n",
      "---  ------    --------------  -----  \n",
      " 0   PC1       183 non-null    float64\n",
      " 1   PC2       183 non-null    float64\n",
      " 2   PC3       183 non-null    float64\n",
      " 3   PC4       183 non-null    float64\n",
      " 4   PC5       183 non-null    float64\n",
      " 5   PC6       183 non-null    float64\n",
      " 6   PC7       183 non-null    float64\n",
      " 7   PC8       183 non-null    float64\n",
      " 8   PC9       183 non-null    float64\n",
      " 9   PC10      183 non-null    float64\n",
      " 10  Ancestry  183 non-null    object \n",
      "dtypes: float64(10), object(1)\n",
      "memory usage: 15.9+ KB\n"
     ]
    }
   ],
   "source": [
    "df.info()"
   ]
  },
  {
   "cell_type": "code",
   "execution_count": 6,
   "id": "de516892",
   "metadata": {
    "execution": {
     "iopub.execute_input": "2024-08-29T07:41:00.612091Z",
     "iopub.status.busy": "2024-08-29T07:41:00.611592Z",
     "iopub.status.idle": "2024-08-29T07:41:00.622760Z",
     "shell.execute_reply": "2024-08-29T07:41:00.621438Z"
    },
    "papermill": {
     "duration": 0.03166,
     "end_time": "2024-08-29T07:41:00.625644",
     "exception": false,
     "start_time": "2024-08-29T07:41:00.593984",
     "status": "completed"
    },
    "tags": []
   },
   "outputs": [
    {
     "data": {
      "text/plain": [
       "PC1         0\n",
       "PC2         0\n",
       "PC3         0\n",
       "PC4         0\n",
       "PC5         0\n",
       "PC6         0\n",
       "PC7         0\n",
       "PC8         0\n",
       "PC9         0\n",
       "PC10        0\n",
       "Ancestry    0\n",
       "dtype: int64"
      ]
     },
     "execution_count": 6,
     "metadata": {},
     "output_type": "execute_result"
    }
   ],
   "source": [
    "df.isnull().sum()"
   ]
  },
  {
   "cell_type": "code",
   "execution_count": 7,
   "id": "fd23ffdc",
   "metadata": {
    "execution": {
     "iopub.execute_input": "2024-08-29T07:41:00.658111Z",
     "iopub.status.busy": "2024-08-29T07:41:00.657660Z",
     "iopub.status.idle": "2024-08-29T07:41:00.669545Z",
     "shell.execute_reply": "2024-08-29T07:41:00.668095Z"
    },
    "papermill": {
     "duration": 0.031631,
     "end_time": "2024-08-29T07:41:00.672343",
     "exception": false,
     "start_time": "2024-08-29T07:41:00.640712",
     "status": "completed"
    },
    "tags": []
   },
   "outputs": [
    {
     "data": {
      "text/plain": [
       "0"
      ]
     },
     "execution_count": 7,
     "metadata": {},
     "output_type": "execute_result"
    }
   ],
   "source": [
    "df.duplicated().sum()"
   ]
  },
  {
   "cell_type": "code",
   "execution_count": 8,
   "id": "037861f9",
   "metadata": {
    "execution": {
     "iopub.execute_input": "2024-08-29T07:41:00.706771Z",
     "iopub.status.busy": "2024-08-29T07:41:00.706301Z",
     "iopub.status.idle": "2024-08-29T07:41:00.715448Z",
     "shell.execute_reply": "2024-08-29T07:41:00.713975Z"
    },
    "papermill": {
     "duration": 0.030807,
     "end_time": "2024-08-29T07:41:00.718366",
     "exception": false,
     "start_time": "2024-08-29T07:41:00.687559",
     "status": "completed"
    },
    "tags": []
   },
   "outputs": [
    {
     "data": {
      "text/plain": [
       "array(['African', 'European', 'EastAsian', 'Oceanian', 'NativeAmerican'],\n",
       "      dtype=object)"
      ]
     },
     "execution_count": 8,
     "metadata": {},
     "output_type": "execute_result"
    }
   ],
   "source": [
    "df['Ancestry'].unique()"
   ]
  },
  {
   "cell_type": "code",
   "execution_count": 9,
   "id": "d37d835e",
   "metadata": {
    "execution": {
     "iopub.execute_input": "2024-08-29T07:41:00.751648Z",
     "iopub.status.busy": "2024-08-29T07:41:00.751215Z",
     "iopub.status.idle": "2024-08-29T07:41:00.947843Z",
     "shell.execute_reply": "2024-08-29T07:41:00.946484Z"
    },
    "papermill": {
     "duration": 0.217001,
     "end_time": "2024-08-29T07:41:00.951391",
     "exception": false,
     "start_time": "2024-08-29T07:41:00.734390",
     "status": "completed"
    },
    "tags": []
   },
   "outputs": [],
   "source": [
    "from sklearn.preprocessing import LabelEncoder\n",
    "le = LabelEncoder()"
   ]
  },
  {
   "cell_type": "code",
   "execution_count": 10,
   "id": "2be011f8",
   "metadata": {
    "execution": {
     "iopub.execute_input": "2024-08-29T07:41:00.984847Z",
     "iopub.status.busy": "2024-08-29T07:41:00.984374Z",
     "iopub.status.idle": "2024-08-29T07:41:00.991389Z",
     "shell.execute_reply": "2024-08-29T07:41:00.990100Z"
    },
    "papermill": {
     "duration": 0.026737,
     "end_time": "2024-08-29T07:41:00.993987",
     "exception": false,
     "start_time": "2024-08-29T07:41:00.967250",
     "status": "completed"
    },
    "tags": []
   },
   "outputs": [],
   "source": [
    "df['Ancestry'] =  le.fit_transform(df['Ancestry'])"
   ]
  },
  {
   "cell_type": "code",
   "execution_count": 11,
   "id": "287fedfa",
   "metadata": {
    "execution": {
     "iopub.execute_input": "2024-08-29T07:41:01.028340Z",
     "iopub.status.busy": "2024-08-29T07:41:01.027238Z",
     "iopub.status.idle": "2024-08-29T07:41:01.038806Z",
     "shell.execute_reply": "2024-08-29T07:41:01.037306Z"
    },
    "papermill": {
     "duration": 0.031924,
     "end_time": "2024-08-29T07:41:01.042044",
     "exception": false,
     "start_time": "2024-08-29T07:41:01.010120",
     "status": "completed"
    },
    "tags": []
   },
   "outputs": [
    {
     "data": {
      "text/plain": [
       "array([0, 2, 1, 4, 3])"
      ]
     },
     "execution_count": 11,
     "metadata": {},
     "output_type": "execute_result"
    }
   ],
   "source": [
    "df['Ancestry'].unique()"
   ]
  },
  {
   "cell_type": "code",
   "execution_count": 12,
   "id": "87b4eeab",
   "metadata": {
    "execution": {
     "iopub.execute_input": "2024-08-29T07:41:01.074814Z",
     "iopub.status.busy": "2024-08-29T07:41:01.074402Z",
     "iopub.status.idle": "2024-08-29T07:41:01.083648Z",
     "shell.execute_reply": "2024-08-29T07:41:01.082138Z"
    },
    "papermill": {
     "duration": 0.029198,
     "end_time": "2024-08-29T07:41:01.086864",
     "exception": false,
     "start_time": "2024-08-29T07:41:01.057666",
     "status": "completed"
    },
    "tags": []
   },
   "outputs": [],
   "source": [
    "X = df.drop(columns=['Ancestry'])  \n",
    "y = df['Ancestry']"
   ]
  },
  {
   "cell_type": "code",
   "execution_count": 13,
   "id": "e8af761e",
   "metadata": {
    "execution": {
     "iopub.execute_input": "2024-08-29T07:41:01.120687Z",
     "iopub.status.busy": "2024-08-29T07:41:01.120273Z",
     "iopub.status.idle": "2024-08-29T07:41:01.128737Z",
     "shell.execute_reply": "2024-08-29T07:41:01.127388Z"
    },
    "papermill": {
     "duration": 0.029279,
     "end_time": "2024-08-29T07:41:01.132041",
     "exception": false,
     "start_time": "2024-08-29T07:41:01.102762",
     "status": "completed"
    },
    "tags": []
   },
   "outputs": [
    {
     "data": {
      "text/plain": [
       "((183, 10), (183,))"
      ]
     },
     "execution_count": 13,
     "metadata": {},
     "output_type": "execute_result"
    }
   ],
   "source": [
    "X.shape , y.shape"
   ]
  },
  {
   "cell_type": "code",
   "execution_count": 14,
   "id": "defaaabe",
   "metadata": {
    "execution": {
     "iopub.execute_input": "2024-08-29T07:41:01.166848Z",
     "iopub.status.busy": "2024-08-29T07:41:01.166331Z",
     "iopub.status.idle": "2024-08-29T07:41:01.416637Z",
     "shell.execute_reply": "2024-08-29T07:41:01.415105Z"
    },
    "papermill": {
     "duration": 0.270815,
     "end_time": "2024-08-29T07:41:01.419812",
     "exception": false,
     "start_time": "2024-08-29T07:41:01.148997",
     "status": "completed"
    },
    "tags": []
   },
   "outputs": [],
   "source": [
    "from sklearn.linear_model import LogisticRegression\n",
    "lr = LogisticRegression(multi_class = 'ovr')"
   ]
  },
  {
   "cell_type": "code",
   "execution_count": 15,
   "id": "d1501095",
   "metadata": {
    "execution": {
     "iopub.execute_input": "2024-08-29T07:41:01.453907Z",
     "iopub.status.busy": "2024-08-29T07:41:01.453358Z",
     "iopub.status.idle": "2024-08-29T07:41:01.508007Z",
     "shell.execute_reply": "2024-08-29T07:41:01.506359Z"
    },
    "papermill": {
     "duration": 0.075863,
     "end_time": "2024-08-29T07:41:01.511409",
     "exception": false,
     "start_time": "2024-08-29T07:41:01.435546",
     "status": "completed"
    },
    "tags": []
   },
   "outputs": [
    {
     "data": {
      "text/html": [
       "<style>#sk-container-id-1 {color: black;background-color: white;}#sk-container-id-1 pre{padding: 0;}#sk-container-id-1 div.sk-toggleable {background-color: white;}#sk-container-id-1 label.sk-toggleable__label {cursor: pointer;display: block;width: 100%;margin-bottom: 0;padding: 0.3em;box-sizing: border-box;text-align: center;}#sk-container-id-1 label.sk-toggleable__label-arrow:before {content: \"▸\";float: left;margin-right: 0.25em;color: #696969;}#sk-container-id-1 label.sk-toggleable__label-arrow:hover:before {color: black;}#sk-container-id-1 div.sk-estimator:hover label.sk-toggleable__label-arrow:before {color: black;}#sk-container-id-1 div.sk-toggleable__content {max-height: 0;max-width: 0;overflow: hidden;text-align: left;background-color: #f0f8ff;}#sk-container-id-1 div.sk-toggleable__content pre {margin: 0.2em;color: black;border-radius: 0.25em;background-color: #f0f8ff;}#sk-container-id-1 input.sk-toggleable__control:checked~div.sk-toggleable__content {max-height: 200px;max-width: 100%;overflow: auto;}#sk-container-id-1 input.sk-toggleable__control:checked~label.sk-toggleable__label-arrow:before {content: \"▾\";}#sk-container-id-1 div.sk-estimator input.sk-toggleable__control:checked~label.sk-toggleable__label {background-color: #d4ebff;}#sk-container-id-1 div.sk-label input.sk-toggleable__control:checked~label.sk-toggleable__label {background-color: #d4ebff;}#sk-container-id-1 input.sk-hidden--visually {border: 0;clip: rect(1px 1px 1px 1px);clip: rect(1px, 1px, 1px, 1px);height: 1px;margin: -1px;overflow: hidden;padding: 0;position: absolute;width: 1px;}#sk-container-id-1 div.sk-estimator {font-family: monospace;background-color: #f0f8ff;border: 1px dotted black;border-radius: 0.25em;box-sizing: border-box;margin-bottom: 0.5em;}#sk-container-id-1 div.sk-estimator:hover {background-color: #d4ebff;}#sk-container-id-1 div.sk-parallel-item::after {content: \"\";width: 100%;border-bottom: 1px solid gray;flex-grow: 1;}#sk-container-id-1 div.sk-label:hover label.sk-toggleable__label {background-color: #d4ebff;}#sk-container-id-1 div.sk-serial::before {content: \"\";position: absolute;border-left: 1px solid gray;box-sizing: border-box;top: 0;bottom: 0;left: 50%;z-index: 0;}#sk-container-id-1 div.sk-serial {display: flex;flex-direction: column;align-items: center;background-color: white;padding-right: 0.2em;padding-left: 0.2em;position: relative;}#sk-container-id-1 div.sk-item {position: relative;z-index: 1;}#sk-container-id-1 div.sk-parallel {display: flex;align-items: stretch;justify-content: center;background-color: white;position: relative;}#sk-container-id-1 div.sk-item::before, #sk-container-id-1 div.sk-parallel-item::before {content: \"\";position: absolute;border-left: 1px solid gray;box-sizing: border-box;top: 0;bottom: 0;left: 50%;z-index: -1;}#sk-container-id-1 div.sk-parallel-item {display: flex;flex-direction: column;z-index: 1;position: relative;background-color: white;}#sk-container-id-1 div.sk-parallel-item:first-child::after {align-self: flex-end;width: 50%;}#sk-container-id-1 div.sk-parallel-item:last-child::after {align-self: flex-start;width: 50%;}#sk-container-id-1 div.sk-parallel-item:only-child::after {width: 0;}#sk-container-id-1 div.sk-dashed-wrapped {border: 1px dashed gray;margin: 0 0.4em 0.5em 0.4em;box-sizing: border-box;padding-bottom: 0.4em;background-color: white;}#sk-container-id-1 div.sk-label label {font-family: monospace;font-weight: bold;display: inline-block;line-height: 1.2em;}#sk-container-id-1 div.sk-label-container {text-align: center;}#sk-container-id-1 div.sk-container {/* jupyter's `normalize.less` sets `[hidden] { display: none; }` but bootstrap.min.css set `[hidden] { display: none !important; }` so we also need the `!important` here to be able to override the default hidden behavior on the sphinx rendered scikit-learn.org. See: https://github.com/scikit-learn/scikit-learn/issues/21755 */display: inline-block !important;position: relative;}#sk-container-id-1 div.sk-text-repr-fallback {display: none;}</style><div id=\"sk-container-id-1\" class=\"sk-top-container\"><div class=\"sk-text-repr-fallback\"><pre>LogisticRegression(multi_class=&#x27;ovr&#x27;)</pre><b>In a Jupyter environment, please rerun this cell to show the HTML representation or trust the notebook. <br />On GitHub, the HTML representation is unable to render, please try loading this page with nbviewer.org.</b></div><div class=\"sk-container\" hidden><div class=\"sk-item\"><div class=\"sk-estimator sk-toggleable\"><input class=\"sk-toggleable__control sk-hidden--visually\" id=\"sk-estimator-id-1\" type=\"checkbox\" checked><label for=\"sk-estimator-id-1\" class=\"sk-toggleable__label sk-toggleable__label-arrow\">LogisticRegression</label><div class=\"sk-toggleable__content\"><pre>LogisticRegression(multi_class=&#x27;ovr&#x27;)</pre></div></div></div></div></div>"
      ],
      "text/plain": [
       "LogisticRegression(multi_class='ovr')"
      ]
     },
     "execution_count": 15,
     "metadata": {},
     "output_type": "execute_result"
    }
   ],
   "source": [
    "lr.fit(X,y)"
   ]
  },
  {
   "cell_type": "code",
   "execution_count": 16,
   "id": "8d03d508",
   "metadata": {
    "execution": {
     "iopub.execute_input": "2024-08-29T07:41:01.548917Z",
     "iopub.status.busy": "2024-08-29T07:41:01.548363Z",
     "iopub.status.idle": "2024-08-29T07:41:01.565800Z",
     "shell.execute_reply": "2024-08-29T07:41:01.563986Z"
    },
    "papermill": {
     "duration": 0.040434,
     "end_time": "2024-08-29T07:41:01.569029",
     "exception": false,
     "start_time": "2024-08-29T07:41:01.528595",
     "status": "completed"
    },
    "tags": []
   },
   "outputs": [],
   "source": [
    "test = pd.read_csv('/kaggle/input/human-genetic-data/genetic_data_test.csv')"
   ]
  },
  {
   "cell_type": "code",
   "execution_count": 17,
   "id": "1d315b00",
   "metadata": {
    "execution": {
     "iopub.execute_input": "2024-08-29T07:41:01.607172Z",
     "iopub.status.busy": "2024-08-29T07:41:01.606124Z",
     "iopub.status.idle": "2024-08-29T07:41:01.616087Z",
     "shell.execute_reply": "2024-08-29T07:41:01.614799Z"
    },
    "papermill": {
     "duration": 0.031817,
     "end_time": "2024-08-29T07:41:01.618836",
     "exception": false,
     "start_time": "2024-08-29T07:41:01.587019",
     "status": "completed"
    },
    "tags": []
   },
   "outputs": [
    {
     "data": {
      "text/plain": [
       "(111, 11)"
      ]
     },
     "execution_count": 17,
     "metadata": {},
     "output_type": "execute_result"
    }
   ],
   "source": [
    "test.shape"
   ]
  },
  {
   "cell_type": "code",
   "execution_count": 18,
   "id": "acc2c9c1",
   "metadata": {
    "execution": {
     "iopub.execute_input": "2024-08-29T07:41:01.654398Z",
     "iopub.status.busy": "2024-08-29T07:41:01.653021Z",
     "iopub.status.idle": "2024-08-29T07:41:01.688851Z",
     "shell.execute_reply": "2024-08-29T07:41:01.687435Z"
    },
    "papermill": {
     "duration": 0.057286,
     "end_time": "2024-08-29T07:41:01.691910",
     "exception": false,
     "start_time": "2024-08-29T07:41:01.634624",
     "status": "completed"
    },
    "tags": []
   },
   "outputs": [
    {
     "data": {
      "text/html": [
       "<div>\n",
       "<style scoped>\n",
       "    .dataframe tbody tr th:only-of-type {\n",
       "        vertical-align: middle;\n",
       "    }\n",
       "\n",
       "    .dataframe tbody tr th {\n",
       "        vertical-align: top;\n",
       "    }\n",
       "\n",
       "    .dataframe thead th {\n",
       "        text-align: right;\n",
       "    }\n",
       "</style>\n",
       "<table border=\"1\" class=\"dataframe\">\n",
       "  <thead>\n",
       "    <tr style=\"text-align: right;\">\n",
       "      <th></th>\n",
       "      <th>PC1</th>\n",
       "      <th>PC2</th>\n",
       "      <th>PC3</th>\n",
       "      <th>PC4</th>\n",
       "      <th>PC5</th>\n",
       "      <th>PC6</th>\n",
       "      <th>PC7</th>\n",
       "      <th>PC8</th>\n",
       "      <th>PC9</th>\n",
       "      <th>PC10</th>\n",
       "      <th>Ancestry</th>\n",
       "    </tr>\n",
       "  </thead>\n",
       "  <tbody>\n",
       "    <tr>\n",
       "      <th>0</th>\n",
       "      <td>2.517683</td>\n",
       "      <td>5.464283</td>\n",
       "      <td>9.067873</td>\n",
       "      <td>-4.965928</td>\n",
       "      <td>-0.741937</td>\n",
       "      <td>0.039785</td>\n",
       "      <td>0.573279</td>\n",
       "      <td>-0.216918</td>\n",
       "      <td>2.454823</td>\n",
       "      <td>-0.671274</td>\n",
       "      <td>Unknown</td>\n",
       "    </tr>\n",
       "    <tr>\n",
       "      <th>1</th>\n",
       "      <td>6.077012</td>\n",
       "      <td>1.032867</td>\n",
       "      <td>-5.795883</td>\n",
       "      <td>-3.490064</td>\n",
       "      <td>-0.600204</td>\n",
       "      <td>-0.120803</td>\n",
       "      <td>1.243767</td>\n",
       "      <td>1.821390</td>\n",
       "      <td>-1.173053</td>\n",
       "      <td>2.442467</td>\n",
       "      <td>Unknown</td>\n",
       "    </tr>\n",
       "    <tr>\n",
       "      <th>2</th>\n",
       "      <td>1.016945</td>\n",
       "      <td>-2.913299</td>\n",
       "      <td>0.907702</td>\n",
       "      <td>1.233580</td>\n",
       "      <td>-1.983452</td>\n",
       "      <td>1.605964</td>\n",
       "      <td>2.674998</td>\n",
       "      <td>-0.732921</td>\n",
       "      <td>-2.157438</td>\n",
       "      <td>-0.671274</td>\n",
       "      <td>Unknown</td>\n",
       "    </tr>\n",
       "    <tr>\n",
       "      <th>3</th>\n",
       "      <td>-10.860926</td>\n",
       "      <td>2.545077</td>\n",
       "      <td>0.023950</td>\n",
       "      <td>-1.474450</td>\n",
       "      <td>0.372286</td>\n",
       "      <td>-2.609954</td>\n",
       "      <td>-2.794092</td>\n",
       "      <td>1.264747</td>\n",
       "      <td>-3.974644</td>\n",
       "      <td>-0.671274</td>\n",
       "      <td>Unknown</td>\n",
       "    </tr>\n",
       "    <tr>\n",
       "      <th>4</th>\n",
       "      <td>4.790262</td>\n",
       "      <td>3.621650</td>\n",
       "      <td>-1.442221</td>\n",
       "      <td>5.459907</td>\n",
       "      <td>-0.864235</td>\n",
       "      <td>-2.591185</td>\n",
       "      <td>-0.062762</td>\n",
       "      <td>0.515344</td>\n",
       "      <td>0.228729</td>\n",
       "      <td>-0.671274</td>\n",
       "      <td>Unknown</td>\n",
       "    </tr>\n",
       "    <tr>\n",
       "      <th>...</th>\n",
       "      <td>...</td>\n",
       "      <td>...</td>\n",
       "      <td>...</td>\n",
       "      <td>...</td>\n",
       "      <td>...</td>\n",
       "      <td>...</td>\n",
       "      <td>...</td>\n",
       "      <td>...</td>\n",
       "      <td>...</td>\n",
       "      <td>...</td>\n",
       "      <td>...</td>\n",
       "    </tr>\n",
       "    <tr>\n",
       "      <th>106</th>\n",
       "      <td>-11.030349</td>\n",
       "      <td>1.712786</td>\n",
       "      <td>-1.392893</td>\n",
       "      <td>-0.163989</td>\n",
       "      <td>3.623641</td>\n",
       "      <td>-0.263645</td>\n",
       "      <td>-3.337796</td>\n",
       "      <td>2.279226</td>\n",
       "      <td>-2.632659</td>\n",
       "      <td>-0.671274</td>\n",
       "      <td>AfricanAmerican</td>\n",
       "    </tr>\n",
       "    <tr>\n",
       "      <th>107</th>\n",
       "      <td>-7.994173</td>\n",
       "      <td>0.045333</td>\n",
       "      <td>-0.738547</td>\n",
       "      <td>0.189793</td>\n",
       "      <td>-2.545140</td>\n",
       "      <td>-0.332066</td>\n",
       "      <td>0.026289</td>\n",
       "      <td>-1.840944</td>\n",
       "      <td>-0.456438</td>\n",
       "      <td>-0.671274</td>\n",
       "      <td>AfricanAmerican</td>\n",
       "    </tr>\n",
       "    <tr>\n",
       "      <th>108</th>\n",
       "      <td>-8.874531</td>\n",
       "      <td>2.074620</td>\n",
       "      <td>-2.060999</td>\n",
       "      <td>-0.898143</td>\n",
       "      <td>-1.372896</td>\n",
       "      <td>-3.175091</td>\n",
       "      <td>2.325163</td>\n",
       "      <td>-1.256258</td>\n",
       "      <td>-0.133253</td>\n",
       "      <td>-0.671274</td>\n",
       "      <td>AfricanAmerican</td>\n",
       "    </tr>\n",
       "    <tr>\n",
       "      <th>109</th>\n",
       "      <td>-7.017063</td>\n",
       "      <td>-0.199721</td>\n",
       "      <td>-1.469538</td>\n",
       "      <td>-1.997714</td>\n",
       "      <td>1.892038</td>\n",
       "      <td>-1.880466</td>\n",
       "      <td>-3.278863</td>\n",
       "      <td>-0.336890</td>\n",
       "      <td>0.042410</td>\n",
       "      <td>-0.671274</td>\n",
       "      <td>AfricanAmerican</td>\n",
       "    </tr>\n",
       "    <tr>\n",
       "      <th>110</th>\n",
       "      <td>-5.488129</td>\n",
       "      <td>0.406477</td>\n",
       "      <td>-0.852392</td>\n",
       "      <td>2.299789</td>\n",
       "      <td>-1.219706</td>\n",
       "      <td>-0.260295</td>\n",
       "      <td>0.204571</td>\n",
       "      <td>0.262224</td>\n",
       "      <td>0.802251</td>\n",
       "      <td>-0.671274</td>\n",
       "      <td>AfricanAmerican</td>\n",
       "    </tr>\n",
       "  </tbody>\n",
       "</table>\n",
       "<p>111 rows × 11 columns</p>\n",
       "</div>"
      ],
      "text/plain": [
       "           PC1       PC2       PC3       PC4       PC5       PC6       PC7  \\\n",
       "0     2.517683  5.464283  9.067873 -4.965928 -0.741937  0.039785  0.573279   \n",
       "1     6.077012  1.032867 -5.795883 -3.490064 -0.600204 -0.120803  1.243767   \n",
       "2     1.016945 -2.913299  0.907702  1.233580 -1.983452  1.605964  2.674998   \n",
       "3   -10.860926  2.545077  0.023950 -1.474450  0.372286 -2.609954 -2.794092   \n",
       "4     4.790262  3.621650 -1.442221  5.459907 -0.864235 -2.591185 -0.062762   \n",
       "..         ...       ...       ...       ...       ...       ...       ...   \n",
       "106 -11.030349  1.712786 -1.392893 -0.163989  3.623641 -0.263645 -3.337796   \n",
       "107  -7.994173  0.045333 -0.738547  0.189793 -2.545140 -0.332066  0.026289   \n",
       "108  -8.874531  2.074620 -2.060999 -0.898143 -1.372896 -3.175091  2.325163   \n",
       "109  -7.017063 -0.199721 -1.469538 -1.997714  1.892038 -1.880466 -3.278863   \n",
       "110  -5.488129  0.406477 -0.852392  2.299789 -1.219706 -0.260295  0.204571   \n",
       "\n",
       "          PC8       PC9      PC10         Ancestry  \n",
       "0   -0.216918  2.454823 -0.671274          Unknown  \n",
       "1    1.821390 -1.173053  2.442467          Unknown  \n",
       "2   -0.732921 -2.157438 -0.671274          Unknown  \n",
       "3    1.264747 -3.974644 -0.671274          Unknown  \n",
       "4    0.515344  0.228729 -0.671274          Unknown  \n",
       "..        ...       ...       ...              ...  \n",
       "106  2.279226 -2.632659 -0.671274  AfricanAmerican  \n",
       "107 -1.840944 -0.456438 -0.671274  AfricanAmerican  \n",
       "108 -1.256258 -0.133253 -0.671274  AfricanAmerican  \n",
       "109 -0.336890  0.042410 -0.671274  AfricanAmerican  \n",
       "110  0.262224  0.802251 -0.671274  AfricanAmerican  \n",
       "\n",
       "[111 rows x 11 columns]"
      ]
     },
     "execution_count": 18,
     "metadata": {},
     "output_type": "execute_result"
    }
   ],
   "source": [
    "test"
   ]
  },
  {
   "cell_type": "code",
   "execution_count": 19,
   "id": "79673b94",
   "metadata": {
    "execution": {
     "iopub.execute_input": "2024-08-29T07:41:01.729760Z",
     "iopub.status.busy": "2024-08-29T07:41:01.729201Z",
     "iopub.status.idle": "2024-08-29T07:41:01.737685Z",
     "shell.execute_reply": "2024-08-29T07:41:01.735968Z"
    },
    "papermill": {
     "duration": 0.02947,
     "end_time": "2024-08-29T07:41:01.740756",
     "exception": false,
     "start_time": "2024-08-29T07:41:01.711286",
     "status": "completed"
    },
    "tags": []
   },
   "outputs": [],
   "source": [
    "X_test = test.drop(columns=['Ancestry'])\n",
    "y_test = test['Ancestry']"
   ]
  },
  {
   "cell_type": "code",
   "execution_count": 20,
   "id": "1e274e90",
   "metadata": {
    "execution": {
     "iopub.execute_input": "2024-08-29T07:41:01.777694Z",
     "iopub.status.busy": "2024-08-29T07:41:01.776433Z",
     "iopub.status.idle": "2024-08-29T07:41:01.783762Z",
     "shell.execute_reply": "2024-08-29T07:41:01.782114Z"
    },
    "papermill": {
     "duration": 0.029691,
     "end_time": "2024-08-29T07:41:01.786682",
     "exception": false,
     "start_time": "2024-08-29T07:41:01.756991",
     "status": "completed"
    },
    "tags": []
   },
   "outputs": [],
   "source": [
    "y_test= le.fit_transform(y_test)"
   ]
  },
  {
   "cell_type": "code",
   "execution_count": 21,
   "id": "284aab0c",
   "metadata": {
    "execution": {
     "iopub.execute_input": "2024-08-29T07:41:01.824642Z",
     "iopub.status.busy": "2024-08-29T07:41:01.823166Z",
     "iopub.status.idle": "2024-08-29T07:41:01.832359Z",
     "shell.execute_reply": "2024-08-29T07:41:01.830758Z"
    },
    "papermill": {
     "duration": 0.030431,
     "end_time": "2024-08-29T07:41:01.835121",
     "exception": false,
     "start_time": "2024-08-29T07:41:01.804690",
     "status": "completed"
    },
    "tags": []
   },
   "outputs": [
    {
     "data": {
      "text/plain": [
       "array([2, 2, 2, 2, 2, 1, 1, 1, 1, 1, 1, 1, 1, 1, 1, 1, 1, 1, 1, 1, 1, 1,\n",
       "       1, 1, 1, 1, 1, 1, 1, 1, 1, 1, 1, 1, 1, 1, 1, 1, 1, 1, 1, 1, 1, 1,\n",
       "       1, 1, 1, 1, 1, 1, 1, 1, 1, 1, 1, 1, 1, 1, 1, 0, 0, 0, 0, 0, 0, 0,\n",
       "       0, 0, 0, 0, 0, 0, 0, 0, 0, 0, 0, 0, 0, 0, 0, 0, 0, 0, 0, 0, 0, 0,\n",
       "       0, 0, 0, 0, 0, 0, 0, 0, 0, 0, 0, 0, 0, 0, 0, 0, 0, 0, 0, 0, 0, 0,\n",
       "       0])"
      ]
     },
     "execution_count": 21,
     "metadata": {},
     "output_type": "execute_result"
    }
   ],
   "source": [
    "y_test"
   ]
  },
  {
   "cell_type": "code",
   "execution_count": 22,
   "id": "f812b3fa",
   "metadata": {
    "execution": {
     "iopub.execute_input": "2024-08-29T07:41:01.871598Z",
     "iopub.status.busy": "2024-08-29T07:41:01.871056Z",
     "iopub.status.idle": "2024-08-29T07:41:01.881937Z",
     "shell.execute_reply": "2024-08-29T07:41:01.880378Z"
    },
    "papermill": {
     "duration": 0.033564,
     "end_time": "2024-08-29T07:41:01.885557",
     "exception": false,
     "start_time": "2024-08-29T07:41:01.851993",
     "status": "completed"
    },
    "tags": []
   },
   "outputs": [],
   "source": [
    "y_pred = lr.predict(X_test)"
   ]
  },
  {
   "cell_type": "code",
   "execution_count": 23,
   "id": "4a648de5",
   "metadata": {
    "execution": {
     "iopub.execute_input": "2024-08-29T07:41:01.923124Z",
     "iopub.status.busy": "2024-08-29T07:41:01.922619Z",
     "iopub.status.idle": "2024-08-29T07:41:01.928849Z",
     "shell.execute_reply": "2024-08-29T07:41:01.927519Z"
    },
    "papermill": {
     "duration": 0.029014,
     "end_time": "2024-08-29T07:41:01.931649",
     "exception": false,
     "start_time": "2024-08-29T07:41:01.902635",
     "status": "completed"
    },
    "tags": []
   },
   "outputs": [],
   "source": [
    "from sklearn.metrics import accuracy_score,precision_score, recall_score,f1_score\n"
   ]
  },
  {
   "cell_type": "code",
   "execution_count": 24,
   "id": "62ba3657",
   "metadata": {
    "execution": {
     "iopub.execute_input": "2024-08-29T07:41:01.967743Z",
     "iopub.status.busy": "2024-08-29T07:41:01.967246Z",
     "iopub.status.idle": "2024-08-29T07:41:01.986638Z",
     "shell.execute_reply": "2024-08-29T07:41:01.984763Z"
    },
    "papermill": {
     "duration": 0.041251,
     "end_time": "2024-08-29T07:41:01.989933",
     "exception": false,
     "start_time": "2024-08-29T07:41:01.948682",
     "status": "completed"
    },
    "tags": []
   },
   "outputs": [
    {
     "name": "stdout",
     "output_type": "stream",
     "text": [
      "Accuracy: 0.4774774774774775\n",
      "Precision: 0.20363382250174702\n",
      "Recall: 0.24\n",
      "F1 Score: 0.2105952380952381\n"
     ]
    }
   ],
   "source": [
    "accuracy = accuracy_score(y_test, y_pred)\n",
    "print(f\"Accuracy: {accuracy}\")\n",
    "precision = precision_score(y_test, y_pred, average='macro')\n",
    "recall = recall_score(y_test, y_pred, average='macro')\n",
    "f1 = f1_score(y_test, y_pred, average='macro')\n",
    "\n",
    "print(\"Precision:\", precision)\n",
    "print(\"Recall:\", recall)\n",
    "print(\"F1 Score:\", f1)"
   ]
  },
  {
   "cell_type": "code",
   "execution_count": 25,
   "id": "c4811ba8",
   "metadata": {
    "execution": {
     "iopub.execute_input": "2024-08-29T07:41:02.026409Z",
     "iopub.status.busy": "2024-08-29T07:41:02.025927Z",
     "iopub.status.idle": "2024-08-29T07:41:02.046909Z",
     "shell.execute_reply": "2024-08-29T07:41:02.045410Z"
    },
    "papermill": {
     "duration": 0.042892,
     "end_time": "2024-08-29T07:41:02.050241",
     "exception": false,
     "start_time": "2024-08-29T07:41:02.007349",
     "status": "completed"
    },
    "tags": []
   },
   "outputs": [
    {
     "name": "stdout",
     "output_type": "stream",
     "text": [
      "[[52  0  1  0  0]\n",
      " [ 0  0  1  0  0]\n",
      " [ 0 26  1  0  0]\n",
      " [ 0 28  1  0  0]\n",
      " [ 0  0  1  0  0]]\n",
      "              precision    recall  f1-score   support\n",
      "\n",
      "           0       1.00      0.98      0.99        53\n",
      "           1       0.00      0.00      0.00         1\n",
      "           2       0.20      0.04      0.06        27\n",
      "           3       0.00      0.00      0.00        29\n",
      "           4       0.00      0.00      0.00         1\n",
      "\n",
      "    accuracy                           0.48       111\n",
      "   macro avg       0.24      0.20      0.21       111\n",
      "weighted avg       0.53      0.48      0.49       111\n",
      "\n"
     ]
    }
   ],
   "source": [
    "from sklearn.metrics import classification_report,confusion_matrix\n",
    "report = classification_report(y_pred, y_test)\n",
    "print(confusion_matrix(y_pred,y_test))\n",
    "\n",
    "print(report)"
   ]
  },
  {
   "cell_type": "markdown",
   "id": "1011c2b1",
   "metadata": {
    "papermill": {
     "duration": 0.017371,
     "end_time": "2024-08-29T07:41:02.084994",
     "exception": false,
     "start_time": "2024-08-29T07:41:02.067623",
     "status": "completed"
    },
    "tags": []
   },
   "source": [
    "## Hyperparameter tunning using gridsearch CV"
   ]
  },
  {
   "cell_type": "code",
   "execution_count": 26,
   "id": "c1b9980b",
   "metadata": {
    "execution": {
     "iopub.execute_input": "2024-08-29T07:41:02.123304Z",
     "iopub.status.busy": "2024-08-29T07:41:02.122294Z",
     "iopub.status.idle": "2024-08-29T07:41:02.128991Z",
     "shell.execute_reply": "2024-08-29T07:41:02.127220Z"
    },
    "papermill": {
     "duration": 0.029523,
     "end_time": "2024-08-29T07:41:02.132233",
     "exception": false,
     "start_time": "2024-08-29T07:41:02.102710",
     "status": "completed"
    },
    "tags": []
   },
   "outputs": [],
   "source": [
    "from sklearn.model_selection import GridSearchCV,RandomizedSearchCV\n"
   ]
  },
  {
   "cell_type": "code",
   "execution_count": 27,
   "id": "4df5c01e",
   "metadata": {
    "execution": {
     "iopub.execute_input": "2024-08-29T07:41:02.168737Z",
     "iopub.status.busy": "2024-08-29T07:41:02.168183Z",
     "iopub.status.idle": "2024-08-29T07:41:02.175464Z",
     "shell.execute_reply": "2024-08-29T07:41:02.174103Z"
    },
    "papermill": {
     "duration": 0.029244,
     "end_time": "2024-08-29T07:41:02.178258",
     "exception": false,
     "start_time": "2024-08-29T07:41:02.149014",
     "status": "completed"
    },
    "tags": []
   },
   "outputs": [],
   "source": [
    "class_weight = [{0:w,1:y} for w in [1,10,50,100] for y in [1,10,50,100]]"
   ]
  },
  {
   "cell_type": "code",
   "execution_count": 28,
   "id": "63553c7a",
   "metadata": {
    "execution": {
     "iopub.execute_input": "2024-08-29T07:41:02.215487Z",
     "iopub.status.busy": "2024-08-29T07:41:02.214046Z",
     "iopub.status.idle": "2024-08-29T07:41:20.849595Z",
     "shell.execute_reply": "2024-08-29T07:41:20.847981Z"
    },
    "papermill": {
     "duration": 18.657602,
     "end_time": "2024-08-29T07:41:20.852938",
     "exception": false,
     "start_time": "2024-08-29T07:41:02.195336",
     "status": "completed"
    },
    "tags": []
   },
   "outputs": [
    {
     "name": "stdout",
     "output_type": "stream",
     "text": [
      "Best parameters: {'C': 0.01, 'class_weight': {0: 1, 1: 1}, 'solver': 'newton-cg'}\n"
     ]
    }
   ],
   "source": [
    "from sklearn.model_selection import GridSearchCV\n",
    "\n",
    "# Define the parameter grid\n",
    "param_grid = {\n",
    "    'C': [0.01, 0.1, 1, 10, 100],  \n",
    "    'solver': ['newton-cg', 'lbfgs', 'liblinear'],\n",
    "    'class_weight': [{0:w,1:y} for w in [1,10,50,100] for y in [1,10,50,100]]\n",
    "}\n",
    "\n",
    "# Initialize the GridSearchCV\n",
    "grid_search = GridSearchCV(estimator=LogisticRegression(multi_class='multinomial', max_iter=1000),\n",
    "                           param_grid=param_grid ,cv=5, scoring='accuracy')\n",
    "\n",
    "# Fit the grid search\n",
    "grid_search.fit(X, y)\n",
    "\n",
    "# Best parameters\n",
    "print(\"Best parameters:\", grid_search.best_params_)\n"
   ]
  },
  {
   "cell_type": "code",
   "execution_count": 29,
   "id": "9aece74d",
   "metadata": {
    "execution": {
     "iopub.execute_input": "2024-08-29T07:41:20.889693Z",
     "iopub.status.busy": "2024-08-29T07:41:20.889187Z",
     "iopub.status.idle": "2024-08-29T07:41:20.897635Z",
     "shell.execute_reply": "2024-08-29T07:41:20.896132Z"
    },
    "papermill": {
     "duration": 0.029872,
     "end_time": "2024-08-29T07:41:20.900338",
     "exception": false,
     "start_time": "2024-08-29T07:41:20.870466",
     "status": "completed"
    },
    "tags": []
   },
   "outputs": [],
   "source": [
    "y_pred  = grid_search.predict(X_test)"
   ]
  },
  {
   "cell_type": "code",
   "execution_count": 30,
   "id": "12eff5a6",
   "metadata": {
    "execution": {
     "iopub.execute_input": "2024-08-29T07:41:20.936881Z",
     "iopub.status.busy": "2024-08-29T07:41:20.936427Z",
     "iopub.status.idle": "2024-08-29T07:41:20.945372Z",
     "shell.execute_reply": "2024-08-29T07:41:20.943695Z"
    },
    "papermill": {
     "duration": 0.030667,
     "end_time": "2024-08-29T07:41:20.948047",
     "exception": false,
     "start_time": "2024-08-29T07:41:20.917380",
     "status": "completed"
    },
    "tags": []
   },
   "outputs": [
    {
     "name": "stdout",
     "output_type": "stream",
     "text": [
      "Accuracy: 0.46846846846846846\n"
     ]
    }
   ],
   "source": [
    "accuracy = accuracy_score(y_test, y_pred)\n",
    "print(\"Accuracy:\", accuracy)"
   ]
  },
  {
   "cell_type": "code",
   "execution_count": 31,
   "id": "176fa5ab",
   "metadata": {
    "execution": {
     "iopub.execute_input": "2024-08-29T07:41:20.985328Z",
     "iopub.status.busy": "2024-08-29T07:41:20.984142Z",
     "iopub.status.idle": "2024-08-29T07:41:21.002291Z",
     "shell.execute_reply": "2024-08-29T07:41:21.001040Z"
    },
    "papermill": {
     "duration": 0.040009,
     "end_time": "2024-08-29T07:41:21.005275",
     "exception": false,
     "start_time": "2024-08-29T07:41:20.965266",
     "status": "completed"
    },
    "tags": []
   },
   "outputs": [
    {
     "name": "stdout",
     "output_type": "stream",
     "text": [
      "[[51  0  1  0  0]\n",
      " [ 0  0  1  0  0]\n",
      " [ 1 27  1  0  0]\n",
      " [ 0 27  1  0  0]\n",
      " [ 0  0  1  0  0]]\n",
      "              precision    recall  f1-score   support\n",
      "\n",
      "           0       0.98      0.98      0.98        52\n",
      "           1       0.00      0.00      0.00         1\n",
      "           2       0.20      0.03      0.06        29\n",
      "           3       0.00      0.00      0.00        28\n",
      "           4       0.00      0.00      0.00         1\n",
      "\n",
      "    accuracy                           0.47       111\n",
      "   macro avg       0.24      0.20      0.21       111\n",
      "weighted avg       0.51      0.47      0.47       111\n",
      "\n"
     ]
    }
   ],
   "source": [
    "from sklearn.metrics import classification_report,confusion_matrix\n",
    "report = classification_report(y_pred, y_test)\n",
    "print(confusion_matrix(y_pred,y_test))\n",
    "\n",
    "print(report)"
   ]
  },
  {
   "cell_type": "markdown",
   "id": "18020767",
   "metadata": {
    "papermill": {
     "duration": 0.016707,
     "end_time": "2024-08-29T07:41:21.039645",
     "exception": false,
     "start_time": "2024-08-29T07:41:21.022938",
     "status": "completed"
    },
    "tags": []
   },
   "source": [
    "## Decision Tree"
   ]
  },
  {
   "cell_type": "code",
   "execution_count": 32,
   "id": "7165df47",
   "metadata": {
    "execution": {
     "iopub.execute_input": "2024-08-29T07:41:21.075872Z",
     "iopub.status.busy": "2024-08-29T07:41:21.075416Z",
     "iopub.status.idle": "2024-08-29T07:41:21.188267Z",
     "shell.execute_reply": "2024-08-29T07:41:21.186960Z"
    },
    "papermill": {
     "duration": 0.134848,
     "end_time": "2024-08-29T07:41:21.191618",
     "exception": false,
     "start_time": "2024-08-29T07:41:21.056770",
     "status": "completed"
    },
    "tags": []
   },
   "outputs": [],
   "source": [
    "from sklearn.tree import DecisionTreeRegressor"
   ]
  },
  {
   "cell_type": "code",
   "execution_count": 33,
   "id": "d5dd5025",
   "metadata": {
    "execution": {
     "iopub.execute_input": "2024-08-29T07:41:21.228170Z",
     "iopub.status.busy": "2024-08-29T07:41:21.227657Z",
     "iopub.status.idle": "2024-08-29T07:41:21.243058Z",
     "shell.execute_reply": "2024-08-29T07:41:21.241760Z"
    },
    "papermill": {
     "duration": 0.037114,
     "end_time": "2024-08-29T07:41:21.245953",
     "exception": false,
     "start_time": "2024-08-29T07:41:21.208839",
     "status": "completed"
    },
    "tags": []
   },
   "outputs": [
    {
     "data": {
      "text/html": [
       "<style>#sk-container-id-2 {color: black;background-color: white;}#sk-container-id-2 pre{padding: 0;}#sk-container-id-2 div.sk-toggleable {background-color: white;}#sk-container-id-2 label.sk-toggleable__label {cursor: pointer;display: block;width: 100%;margin-bottom: 0;padding: 0.3em;box-sizing: border-box;text-align: center;}#sk-container-id-2 label.sk-toggleable__label-arrow:before {content: \"▸\";float: left;margin-right: 0.25em;color: #696969;}#sk-container-id-2 label.sk-toggleable__label-arrow:hover:before {color: black;}#sk-container-id-2 div.sk-estimator:hover label.sk-toggleable__label-arrow:before {color: black;}#sk-container-id-2 div.sk-toggleable__content {max-height: 0;max-width: 0;overflow: hidden;text-align: left;background-color: #f0f8ff;}#sk-container-id-2 div.sk-toggleable__content pre {margin: 0.2em;color: black;border-radius: 0.25em;background-color: #f0f8ff;}#sk-container-id-2 input.sk-toggleable__control:checked~div.sk-toggleable__content {max-height: 200px;max-width: 100%;overflow: auto;}#sk-container-id-2 input.sk-toggleable__control:checked~label.sk-toggleable__label-arrow:before {content: \"▾\";}#sk-container-id-2 div.sk-estimator input.sk-toggleable__control:checked~label.sk-toggleable__label {background-color: #d4ebff;}#sk-container-id-2 div.sk-label input.sk-toggleable__control:checked~label.sk-toggleable__label {background-color: #d4ebff;}#sk-container-id-2 input.sk-hidden--visually {border: 0;clip: rect(1px 1px 1px 1px);clip: rect(1px, 1px, 1px, 1px);height: 1px;margin: -1px;overflow: hidden;padding: 0;position: absolute;width: 1px;}#sk-container-id-2 div.sk-estimator {font-family: monospace;background-color: #f0f8ff;border: 1px dotted black;border-radius: 0.25em;box-sizing: border-box;margin-bottom: 0.5em;}#sk-container-id-2 div.sk-estimator:hover {background-color: #d4ebff;}#sk-container-id-2 div.sk-parallel-item::after {content: \"\";width: 100%;border-bottom: 1px solid gray;flex-grow: 1;}#sk-container-id-2 div.sk-label:hover label.sk-toggleable__label {background-color: #d4ebff;}#sk-container-id-2 div.sk-serial::before {content: \"\";position: absolute;border-left: 1px solid gray;box-sizing: border-box;top: 0;bottom: 0;left: 50%;z-index: 0;}#sk-container-id-2 div.sk-serial {display: flex;flex-direction: column;align-items: center;background-color: white;padding-right: 0.2em;padding-left: 0.2em;position: relative;}#sk-container-id-2 div.sk-item {position: relative;z-index: 1;}#sk-container-id-2 div.sk-parallel {display: flex;align-items: stretch;justify-content: center;background-color: white;position: relative;}#sk-container-id-2 div.sk-item::before, #sk-container-id-2 div.sk-parallel-item::before {content: \"\";position: absolute;border-left: 1px solid gray;box-sizing: border-box;top: 0;bottom: 0;left: 50%;z-index: -1;}#sk-container-id-2 div.sk-parallel-item {display: flex;flex-direction: column;z-index: 1;position: relative;background-color: white;}#sk-container-id-2 div.sk-parallel-item:first-child::after {align-self: flex-end;width: 50%;}#sk-container-id-2 div.sk-parallel-item:last-child::after {align-self: flex-start;width: 50%;}#sk-container-id-2 div.sk-parallel-item:only-child::after {width: 0;}#sk-container-id-2 div.sk-dashed-wrapped {border: 1px dashed gray;margin: 0 0.4em 0.5em 0.4em;box-sizing: border-box;padding-bottom: 0.4em;background-color: white;}#sk-container-id-2 div.sk-label label {font-family: monospace;font-weight: bold;display: inline-block;line-height: 1.2em;}#sk-container-id-2 div.sk-label-container {text-align: center;}#sk-container-id-2 div.sk-container {/* jupyter's `normalize.less` sets `[hidden] { display: none; }` but bootstrap.min.css set `[hidden] { display: none !important; }` so we also need the `!important` here to be able to override the default hidden behavior on the sphinx rendered scikit-learn.org. See: https://github.com/scikit-learn/scikit-learn/issues/21755 */display: inline-block !important;position: relative;}#sk-container-id-2 div.sk-text-repr-fallback {display: none;}</style><div id=\"sk-container-id-2\" class=\"sk-top-container\"><div class=\"sk-text-repr-fallback\"><pre>DecisionTreeRegressor(max_depth=3)</pre><b>In a Jupyter environment, please rerun this cell to show the HTML representation or trust the notebook. <br />On GitHub, the HTML representation is unable to render, please try loading this page with nbviewer.org.</b></div><div class=\"sk-container\" hidden><div class=\"sk-item\"><div class=\"sk-estimator sk-toggleable\"><input class=\"sk-toggleable__control sk-hidden--visually\" id=\"sk-estimator-id-2\" type=\"checkbox\" checked><label for=\"sk-estimator-id-2\" class=\"sk-toggleable__label sk-toggleable__label-arrow\">DecisionTreeRegressor</label><div class=\"sk-toggleable__content\"><pre>DecisionTreeRegressor(max_depth=3)</pre></div></div></div></div></div>"
      ],
      "text/plain": [
       "DecisionTreeRegressor(max_depth=3)"
      ]
     },
     "execution_count": 33,
     "metadata": {},
     "output_type": "execute_result"
    }
   ],
   "source": [
    "dt = DecisionTreeRegressor(max_depth= 3)\n",
    "dt.fit(X,y)\n"
   ]
  },
  {
   "cell_type": "code",
   "execution_count": 34,
   "id": "ab7ad9f2",
   "metadata": {
    "execution": {
     "iopub.execute_input": "2024-08-29T07:41:21.370417Z",
     "iopub.status.busy": "2024-08-29T07:41:21.369973Z",
     "iopub.status.idle": "2024-08-29T07:41:22.192201Z",
     "shell.execute_reply": "2024-08-29T07:41:22.190863Z"
    },
    "papermill": {
     "duration": 0.931667,
     "end_time": "2024-08-29T07:41:22.195531",
     "exception": false,
     "start_time": "2024-08-29T07:41:21.263864",
     "status": "completed"
    },
    "tags": []
   },
   "outputs": [
    {
     "data": {
      "text/plain": [
       "[Text(0.5, 0.875, 'x[3] <= -1.542\\nsquared_error = 1.64\\nsamples = 183\\nvalue = 1.874'),\n",
       " Text(0.3, 0.625, 'x[2] <= 3.465\\nsquared_error = 0.316\\nsamples = 56\\nvalue = 3.429'),\n",
       " Text(0.2, 0.375, 'x[0] <= 2.195\\nsquared_error = 0.062\\nsamples = 30\\nvalue = 2.933'),\n",
       " Text(0.1, 0.125, 'squared_error = 0.0\\nsamples = 2\\nvalue = 2.0'),\n",
       " Text(0.3, 0.125, 'squared_error = 0.0\\nsamples = 28\\nvalue = 3.0'),\n",
       " Text(0.4, 0.375, 'squared_error = 0.0\\nsamples = 26\\nvalue = 4.0'),\n",
       " Text(0.7, 0.625, 'x[0] <= -4.264\\nsquared_error = 0.689\\nsamples = 127\\nvalue = 1.189'),\n",
       " Text(0.6, 0.375, 'squared_error = 0.0\\nsamples = 25\\nvalue = 0.0'),\n",
       " Text(0.8, 0.375, 'x[3] <= 1.112\\nsquared_error = 0.426\\nsamples = 102\\nvalue = 1.48'),\n",
       " Text(0.7, 0.125, 'squared_error = 0.219\\nsamples = 38\\nvalue = 2.211'),\n",
       " Text(0.9, 0.125, 'squared_error = 0.045\\nsamples = 64\\nvalue = 1.047')]"
      ]
     },
     "execution_count": 34,
     "metadata": {},
     "output_type": "execute_result"
    },
    {
     "data": {
      "image/png": "[encoded data removed]",
      "text/plain": [
       "<Figure size 1000x1500 with 1 Axes>"
      ]
     },
     "metadata": {},
     "output_type": "display_data"
    }
   ],
   "source": [
    "#Visualizing\n",
    "from sklearn import tree\n",
    "plt.figure(figsize=(10,15))\n",
    "tree.plot_tree(dt,filled=True)"
   ]
  },
  {
   "cell_type": "code",
   "execution_count": 35,
   "id": "04f5b6dc",
   "metadata": {
    "execution": {
     "iopub.execute_input": "2024-08-29T07:41:22.238087Z",
     "iopub.status.busy": "2024-08-29T07:41:22.237529Z",
     "iopub.status.idle": "2024-08-29T07:41:22.246156Z",
     "shell.execute_reply": "2024-08-29T07:41:22.244901Z"
    },
    "papermill": {
     "duration": 0.03258,
     "end_time": "2024-08-29T07:41:22.248889",
     "exception": false,
     "start_time": "2024-08-29T07:41:22.216309",
     "status": "completed"
    },
    "tags": []
   },
   "outputs": [],
   "source": [
    "y_pred = dt.predict(X_test)"
   ]
  },
  {
   "cell_type": "code",
   "execution_count": 36,
   "id": "cdd332ca",
   "metadata": {
    "execution": {
     "iopub.execute_input": "2024-08-29T07:41:22.290803Z",
     "iopub.status.busy": "2024-08-29T07:41:22.290310Z",
     "iopub.status.idle": "2024-08-29T07:41:22.299758Z",
     "shell.execute_reply": "2024-08-29T07:41:22.298442Z"
    },
    "papermill": {
     "duration": 0.033601,
     "end_time": "2024-08-29T07:41:22.302551",
     "exception": false,
     "start_time": "2024-08-29T07:41:22.268950",
     "status": "completed"
    },
    "tags": []
   },
   "outputs": [
    {
     "data": {
      "text/plain": [
       "array([2, 2, 2, 2, 2, 1, 1, 1, 1, 1, 1, 1, 1, 1, 1, 1, 1, 1, 1, 1, 1, 1,\n",
       "       1, 1, 1, 1, 1, 1, 1, 1, 1, 1, 1, 1, 1, 1, 1, 1, 1, 1, 1, 1, 1, 1,\n",
       "       1, 1, 1, 1, 1, 1, 1, 1, 1, 1, 1, 1, 1, 1, 1, 0, 0, 0, 0, 0, 0, 0,\n",
       "       0, 0, 0, 0, 0, 0, 0, 0, 0, 0, 0, 0, 0, 0, 0, 0, 0, 0, 0, 0, 0, 0,\n",
       "       0, 0, 0, 0, 0, 0, 0, 0, 0, 0, 0, 0, 0, 0, 0, 0, 0, 0, 0, 0, 0, 0,\n",
       "       0])"
      ]
     },
     "execution_count": 36,
     "metadata": {},
     "output_type": "execute_result"
    }
   ],
   "source": [
    "y_test"
   ]
  },
  {
   "cell_type": "code",
   "execution_count": 37,
   "id": "5bbb6aa6",
   "metadata": {
    "execution": {
     "iopub.execute_input": "2024-08-29T07:41:22.345636Z",
     "iopub.status.busy": "2024-08-29T07:41:22.343822Z",
     "iopub.status.idle": "2024-08-29T07:41:22.354712Z",
     "shell.execute_reply": "2024-08-29T07:41:22.353389Z"
    },
    "papermill": {
     "duration": 0.035454,
     "end_time": "2024-08-29T07:41:22.357367",
     "exception": false,
     "start_time": "2024-08-29T07:41:22.321913",
     "status": "completed"
    },
    "tags": []
   },
   "outputs": [
    {
     "data": {
      "text/plain": [
       "array([4.        , 3.        , 1.046875  , 0.        , 1.046875  ,\n",
       "       3.        , 3.        , 2.21052632, 3.        , 2.21052632,\n",
       "       3.        , 2.21052632, 2.21052632, 3.        , 3.        ,\n",
       "       3.        , 2.21052632, 2.        , 3.        , 2.21052632,\n",
       "       2.21052632, 2.21052632, 2.21052632, 3.        , 2.21052632,\n",
       "       3.        , 2.21052632, 2.21052632, 3.        , 2.21052632,\n",
       "       2.21052632, 2.21052632, 2.21052632, 3.        , 2.21052632,\n",
       "       2.21052632, 3.        , 2.21052632, 3.        , 3.        ,\n",
       "       2.21052632, 2.21052632, 3.        , 2.        , 3.        ,\n",
       "       2.21052632, 2.21052632, 2.21052632, 3.        , 2.21052632,\n",
       "       2.21052632, 2.21052632, 2.21052632, 3.        , 2.21052632,\n",
       "       3.        , 3.        , 3.        , 2.21052632, 0.        ,\n",
       "       0.        , 0.        , 0.        , 0.        , 0.        ,\n",
       "       0.        , 0.        , 0.        , 0.        , 0.        ,\n",
       "       0.        , 0.        , 0.        , 2.        , 0.        ,\n",
       "       0.        , 0.        , 0.        , 0.        , 2.        ,\n",
       "       0.        , 0.        , 0.        , 0.        , 0.        ,\n",
       "       2.        , 0.        , 0.        , 0.        , 0.        ,\n",
       "       0.        , 0.        , 0.        , 0.        , 0.        ,\n",
       "       0.        , 0.        , 0.        , 0.        , 0.        ,\n",
       "       0.        , 0.        , 0.        , 0.        , 0.        ,\n",
       "       0.        , 0.        , 0.        , 0.        , 2.        ,\n",
       "       0.        ])"
      ]
     },
     "execution_count": 37,
     "metadata": {},
     "output_type": "execute_result"
    }
   ],
   "source": [
    "y_pred"
   ]
  },
  {
   "cell_type": "code",
   "execution_count": 38,
   "id": "9d599aa8",
   "metadata": {
    "execution": {
     "iopub.execute_input": "2024-08-29T07:41:22.398860Z",
     "iopub.status.busy": "2024-08-29T07:41:22.398328Z",
     "iopub.status.idle": "2024-08-29T07:41:22.411953Z",
     "shell.execute_reply": "2024-08-29T07:41:22.410658Z"
    },
    "papermill": {
     "duration": 0.037609,
     "end_time": "2024-08-29T07:41:22.414349",
     "exception": false,
     "start_time": "2024-08-29T07:41:22.376740",
     "status": "completed"
    },
    "tags": []
   },
   "outputs": [
    {
     "data": {
      "text/html": [
       "<div>\n",
       "<style scoped>\n",
       "    .dataframe tbody tr th:only-of-type {\n",
       "        vertical-align: middle;\n",
       "    }\n",
       "\n",
       "    .dataframe tbody tr th {\n",
       "        vertical-align: top;\n",
       "    }\n",
       "\n",
       "    .dataframe thead th {\n",
       "        text-align: right;\n",
       "    }\n",
       "</style>\n",
       "<table border=\"1\" class=\"dataframe\">\n",
       "  <thead>\n",
       "    <tr style=\"text-align: right;\">\n",
       "      <th></th>\n",
       "      <th>0</th>\n",
       "    </tr>\n",
       "  </thead>\n",
       "  <tbody>\n",
       "    <tr>\n",
       "      <th>2</th>\n",
       "      <td>4.000000</td>\n",
       "    </tr>\n",
       "    <tr>\n",
       "      <th>2</th>\n",
       "      <td>3.000000</td>\n",
       "    </tr>\n",
       "    <tr>\n",
       "      <th>2</th>\n",
       "      <td>1.046875</td>\n",
       "    </tr>\n",
       "    <tr>\n",
       "      <th>2</th>\n",
       "      <td>0.000000</td>\n",
       "    </tr>\n",
       "    <tr>\n",
       "      <th>2</th>\n",
       "      <td>1.046875</td>\n",
       "    </tr>\n",
       "    <tr>\n",
       "      <th>...</th>\n",
       "      <td>...</td>\n",
       "    </tr>\n",
       "    <tr>\n",
       "      <th>0</th>\n",
       "      <td>0.000000</td>\n",
       "    </tr>\n",
       "    <tr>\n",
       "      <th>0</th>\n",
       "      <td>0.000000</td>\n",
       "    </tr>\n",
       "    <tr>\n",
       "      <th>0</th>\n",
       "      <td>0.000000</td>\n",
       "    </tr>\n",
       "    <tr>\n",
       "      <th>0</th>\n",
       "      <td>2.000000</td>\n",
       "    </tr>\n",
       "    <tr>\n",
       "      <th>0</th>\n",
       "      <td>0.000000</td>\n",
       "    </tr>\n",
       "  </tbody>\n",
       "</table>\n",
       "<p>111 rows × 1 columns</p>\n",
       "</div>"
      ],
      "text/plain": [
       "           0\n",
       "2   4.000000\n",
       "2   3.000000\n",
       "2   1.046875\n",
       "2   0.000000\n",
       "2   1.046875\n",
       "..       ...\n",
       "0   0.000000\n",
       "0   0.000000\n",
       "0   0.000000\n",
       "0   2.000000\n",
       "0   0.000000\n",
       "\n",
       "[111 rows x 1 columns]"
      ]
     },
     "execution_count": 38,
     "metadata": {},
     "output_type": "execute_result"
    }
   ],
   "source": [
    "pred = pd.DataFrame(y_pred , y_test)\n",
    "pred"
   ]
  },
  {
   "cell_type": "code",
   "execution_count": 39,
   "id": "fa854fe1",
   "metadata": {
    "execution": {
     "iopub.execute_input": "2024-08-29T07:41:22.456333Z",
     "iopub.status.busy": "2024-08-29T07:41:22.455796Z",
     "iopub.status.idle": "2024-08-29T07:41:22.461760Z",
     "shell.execute_reply": "2024-08-29T07:41:22.460531Z"
    },
    "papermill": {
     "duration": 0.030509,
     "end_time": "2024-08-29T07:41:22.464443",
     "exception": false,
     "start_time": "2024-08-29T07:41:22.433934",
     "status": "completed"
    },
    "tags": []
   },
   "outputs": [],
   "source": [
    "from sklearn.metrics import mean_squared_error as mse"
   ]
  },
  {
   "cell_type": "code",
   "execution_count": 40,
   "id": "c6068738",
   "metadata": {
    "execution": {
     "iopub.execute_input": "2024-08-29T07:41:22.508134Z",
     "iopub.status.busy": "2024-08-29T07:41:22.507692Z",
     "iopub.status.idle": "2024-08-29T07:41:22.517548Z",
     "shell.execute_reply": "2024-08-29T07:41:22.515979Z"
    },
    "papermill": {
     "duration": 0.034947,
     "end_time": "2024-08-29T07:41:22.520657",
     "exception": false,
     "start_time": "2024-08-29T07:41:22.485710",
     "status": "completed"
    },
    "tags": []
   },
   "outputs": [
    {
     "name": "stdout",
     "output_type": "stream",
     "text": [
      "MSE is: 1.4484514717821184\n"
     ]
    }
   ],
   "source": [
    "print('MSE is:', mse(y_test,y_pred))"
   ]
  },
  {
   "cell_type": "code",
   "execution_count": 41,
   "id": "cc4dae9d",
   "metadata": {
    "execution": {
     "iopub.execute_input": "2024-08-29T07:41:22.565968Z",
     "iopub.status.busy": "2024-08-29T07:41:22.565456Z",
     "iopub.status.idle": "2024-08-29T07:41:22.573497Z",
     "shell.execute_reply": "2024-08-29T07:41:22.571933Z"
    },
    "papermill": {
     "duration": 0.034918,
     "end_time": "2024-08-29T07:41:22.576349",
     "exception": false,
     "start_time": "2024-08-29T07:41:22.541431",
     "status": "completed"
    },
    "tags": []
   },
   "outputs": [],
   "source": [
    "y_query = dt.predict([[2.517683,5.46428 ,9.067873,-4.965928,-0.741937,0.039785,0.573279,-0.216918,2.454823,-0.671274]])"
   ]
  },
  {
   "cell_type": "code",
   "execution_count": 42,
   "id": "3e3348dd",
   "metadata": {
    "execution": {
     "iopub.execute_input": "2024-08-29T07:41:22.619326Z",
     "iopub.status.busy": "2024-08-29T07:41:22.618787Z",
     "iopub.status.idle": "2024-08-29T07:41:22.627357Z",
     "shell.execute_reply": "2024-08-29T07:41:22.625992Z"
    },
    "papermill": {
     "duration": 0.033745,
     "end_time": "2024-08-29T07:41:22.630127",
     "exception": false,
     "start_time": "2024-08-29T07:41:22.596382",
     "status": "completed"
    },
    "tags": []
   },
   "outputs": [
    {
     "data": {
      "text/plain": [
       "array([4.])"
      ]
     },
     "execution_count": 42,
     "metadata": {},
     "output_type": "execute_result"
    }
   ],
   "source": [
    "y_query"
   ]
  },
  {
   "cell_type": "code",
   "execution_count": 43,
   "id": "6c756f15",
   "metadata": {
    "execution": {
     "iopub.execute_input": "2024-08-29T07:41:22.676247Z",
     "iopub.status.busy": "2024-08-29T07:41:22.675711Z",
     "iopub.status.idle": "2024-08-29T07:41:22.685335Z",
     "shell.execute_reply": "2024-08-29T07:41:22.684025Z"
    },
    "papermill": {
     "duration": 0.037243,
     "end_time": "2024-08-29T07:41:22.688044",
     "exception": false,
     "start_time": "2024-08-29T07:41:22.650801",
     "status": "completed"
    },
    "tags": []
   },
   "outputs": [
    {
     "data": {
      "text/plain": [
       "array([2, 2, 2, 2, 2, 1, 1, 1, 1, 1, 1, 1, 1, 1, 1, 1, 1, 1, 1, 1, 1, 1,\n",
       "       1, 1, 1, 1, 1, 1, 1, 1, 1, 1, 1, 1, 1, 1, 1, 1, 1, 1, 1, 1, 1, 1,\n",
       "       1, 1, 1, 1, 1, 1, 1, 1, 1, 1, 1, 1, 1, 1, 1, 0, 0, 0, 0, 0, 0, 0,\n",
       "       0, 0, 0, 0, 0, 0, 0, 0, 0, 0, 0, 0, 0, 0, 0, 0, 0, 0, 0, 0, 0, 0,\n",
       "       0, 0, 0, 0, 0, 0, 0, 0, 0, 0, 0, 0, 0, 0, 0, 0, 0, 0, 0, 0, 0, 0,\n",
       "       0])"
      ]
     },
     "execution_count": 43,
     "metadata": {},
     "output_type": "execute_result"
    }
   ],
   "source": [
    "y_test"
   ]
  },
  {
   "cell_type": "code",
   "execution_count": null,
   "id": "31bd5790",
   "metadata": {
    "papermill": {
     "duration": 0.020667,
     "end_time": "2024-08-29T07:41:22.728903",
     "exception": false,
     "start_time": "2024-08-29T07:41:22.708236",
     "status": "completed"
    },
    "tags": []
   },
   "outputs": [],
   "source": []
  }
 ],
 "metadata": {
  "kaggle": {
   "accelerator": "none",
   "dataSources": [
    {
     "datasetId": 3366318,
     "sourceId": 5853582,
     "sourceType": "datasetVersion"
    }
   ],
   "dockerImageVersionId": 30761,
   "isGpuEnabled": false,
   "isInternetEnabled": true,
   "language": "python",
   "sourceType": "notebook"
  },
  "kernelspec": {
   "display_name": "Python 3",
   "language": "python",
   "name": "python3"
  },
  "language_info": {
   "codemirror_mode": {
    "name": "ipython",
    "version": 3
   },
   "file_extension": ".py",
   "mimetype": "text/x-python",
   "name": "python",
   "nbconvert_exporter": "python",
   "pygments_lexer": "ipython3",
   "version": "3.10.14"
  },
  "papermill": {
   "default_parameters": {},
   "duration": 29.460144,
   "end_time": "2024-08-29T07:41:23.775896",
   "environment_variables": {},
   "exception": null,
   "input_path": "__notebook__.ipynb",
   "output_path": "__notebook__.ipynb",
   "parameters": {},
   "start_time": "2024-08-29T07:40:54.315752",
   "version": "2.6.0"
  }
 },
 "nbformat": 4,
 "nbformat_minor": 5
}
