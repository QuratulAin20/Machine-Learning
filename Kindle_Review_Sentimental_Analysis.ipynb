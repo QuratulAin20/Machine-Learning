{
  "metadata": {
    "kernelspec": {
      "language": "python",
      "display_name": "Python 3",
      "name": "python3"
    },
    "language_info": {
      "name": "python",
      "version": "3.10.14",
      "mimetype": "text/x-python",
      "codemirror_mode": {
        "name": "ipython",
        "version": 3
      },
      "pygments_lexer": "ipython3",
      "nbconvert_exporter": "python",
      "file_extension": ".py"
    },
    "kaggle": {
      "accelerator": "none",
      "dataSources": [
        {
          "sourceId": 2583418,
          "sourceType": "datasetVersion",
          "datasetId": 1569305
        }
      ],
      "dockerImageVersionId": 30775,
      "isInternetEnabled": true,
      "language": "python",
      "sourceType": "notebook",
      "isGpuEnabled": false
    },
    "colab": {
      "name": "Kindle-Review-Sentimental-Analysis",
      "provenance": [],
      "include_colab_link": true
    }
  },
  "nbformat_minor": 0,
  "nbformat": 4,
  "cells": [
    {
      "cell_type": "markdown",
      "metadata": {
        "id": "view-in-github",
        "colab_type": "text"
      },
      "source": [
        "<a href=\"https://colab.research.google.com/github/QuratulAin20/Machine-Learning/blob/main/Kindle_Review_Sentimental_Analysis.ipynb\" target=\"_parent\"><img src=\"https://colab.research.google.com/assets/colab-badge.svg\" alt=\"Open In Colab\"/></a>"
      ]
    },
    {
      "source": [
        "\n",
        "# IMPORTANT: RUN THIS CELL IN ORDER TO IMPORT YOUR KAGGLE DATA SOURCES\n",
        "# TO THE CORRECT LOCATION (/kaggle/input) IN YOUR NOTEBOOK,\n",
        "# THEN FEEL FREE TO DELETE THIS CELL.\n",
        "# NOTE: THIS NOTEBOOK ENVIRONMENT DIFFERS FROM KAGGLE'S PYTHON\n",
        "# ENVIRONMENT SO THERE MAY BE MISSING LIBRARIES USED BY YOUR\n",
        "# NOTEBOOK.\n",
        "\n",
        "import os\n",
        "import sys\n",
        "from tempfile import NamedTemporaryFile\n",
        "from urllib.request import urlopen\n",
        "from urllib.parse import unquote, urlparse\n",
        "from urllib.error import HTTPError\n",
        "from zipfile import ZipFile\n",
        "import tarfile\n",
        "import shutil\n",
        "\n",
        "CHUNK_SIZE = 40960\n",
        "DATA_SOURCE_MAPPING = 'amazon-kindle-book-review-for-sentiment-analysis:https%3A%2F%2Fstorage.googleapis.com%2Fkaggle-data-sets%2F1569305%2F2583418%2Fbundle%2Farchive.zip%3FX-Goog-Algorithm%3DGOOG4-RSA-SHA256%26X-Goog-Credential%3Dgcp-kaggle-com%2540kaggle-161607.iam.gserviceaccount.com%252F20240926%252Fauto%252Fstorage%252Fgoog4_request%26X-Goog-Date%3D20240926T154805Z%26X-Goog-Expires%3D259200%26X-Goog-SignedHeaders%3Dhost%26X-Goog-Signature%3D6b86d5f7639e44f4bfbb4b8eb051b65213f56254a39a91ceda0228fb5c5273eeb212710ec032145a1f0a54e66432d8d17c9b59dfbdd7383c353c3eb8078721d66d809f3f69a1daf856c8810dd194b1d799822062c2da570676c78f009628f1149749a30b8ae8b9a9e5ffdf10f1a593dc128b5205967e0b1a98d6f89856f9faf359f04772ddf4c4987cff41690eb7e56604a1ba1c7f483753d34a770225b73983df039cb6433e349ba9862a16db3d2ae2e5bec15ea684c125f336e5210829538f025b5bef8bd6f11f03ccf228e69a16d9d75132a85cb2eb939c58bef8eee4c2ea6b3cb8744239d35c40d4a330627913933138399ca17fb222ac566f8317602327'\n",
        "\n",
        "KAGGLE_INPUT_PATH='/kaggle/input'\n",
        "KAGGLE_WORKING_PATH='/kaggle/working'\n",
        "KAGGLE_SYMLINK='kaggle'\n",
        "\n",
        "!umount /kaggle/input/ 2> /dev/null\n",
        "shutil.rmtree('/kaggle/input', ignore_errors=True)\n",
        "os.makedirs(KAGGLE_INPUT_PATH, 0o777, exist_ok=True)\n",
        "os.makedirs(KAGGLE_WORKING_PATH, 0o777, exist_ok=True)\n",
        "\n",
        "try:\n",
        "  os.symlink(KAGGLE_INPUT_PATH, os.path.join(\"..\", 'input'), target_is_directory=True)\n",
        "except FileExistsError:\n",
        "  pass\n",
        "try:\n",
        "  os.symlink(KAGGLE_WORKING_PATH, os.path.join(\"..\", 'working'), target_is_directory=True)\n",
        "except FileExistsError:\n",
        "  pass\n",
        "\n",
        "for data_source_mapping in DATA_SOURCE_MAPPING.split(','):\n",
        "    directory, download_url_encoded = data_source_mapping.split(':')\n",
        "    download_url = unquote(download_url_encoded)\n",
        "    filename = urlparse(download_url).path\n",
        "    destination_path = os.path.join(KAGGLE_INPUT_PATH, directory)\n",
        "    try:\n",
        "        with urlopen(download_url) as fileres, NamedTemporaryFile() as tfile:\n",
        "            total_length = fileres.headers['content-length']\n",
        "            print(f'Downloading {directory}, {total_length} bytes compressed')\n",
        "            dl = 0\n",
        "            data = fileres.read(CHUNK_SIZE)\n",
        "            while len(data) > 0:\n",
        "                dl += len(data)\n",
        "                tfile.write(data)\n",
        "                done = int(50 * dl / int(total_length))\n",
        "                sys.stdout.write(f\"\\r[{'=' * done}{' ' * (50-done)}] {dl} bytes downloaded\")\n",
        "                sys.stdout.flush()\n",
        "                data = fileres.read(CHUNK_SIZE)\n",
        "            if filename.endswith('.zip'):\n",
        "              with ZipFile(tfile) as zfile:\n",
        "                zfile.extractall(destination_path)\n",
        "            else:\n",
        "              with tarfile.open(tfile.name) as tarfile:\n",
        "                tarfile.extractall(destination_path)\n",
        "            print(f'\\nDownloaded and uncompressed: {directory}')\n",
        "    except HTTPError as e:\n",
        "        print(f'Failed to load (likely expired) {download_url} to path {destination_path}')\n",
        "        continue\n",
        "    except OSError as e:\n",
        "        print(f'Failed to load {download_url} to path {destination_path}')\n",
        "        continue\n",
        "\n",
        "print('Data source import complete.')\n"
      ],
      "metadata": {
        "id": "OkJfoScbBKya",
        "outputId": "398a72ca-b260-4ddf-f704-3f5e0063dc35",
        "colab": {
          "base_uri": "https://localhost:8080/"
        }
      },
      "cell_type": "code",
      "outputs": [
        {
          "output_type": "stream",
          "name": "stdout",
          "text": [
            "Downloading amazon-kindle-book-review-for-sentiment-analysis, 6686485 bytes compressed\n",
            "[==================================================] 6686485 bytes downloaded\n",
            "Downloaded and uncompressed: amazon-kindle-book-review-for-sentiment-analysis\n",
            "Data source import complete.\n"
          ]
        }
      ],
      "execution_count": 1
    },
    {
      "cell_type": "code",
      "source": [
        "import pandas as pd\n",
        "import numpy as np\n",
        "import matplotlib.pyplot as plt\n",
        "import seaborn as sns\n",
        "import nltk\n",
        "import re\n",
        "from nltk.corpus import stopwords\n",
        "nltk.download('stopwords')\n",
        "from bs4 import BeautifulSoup"
      ],
      "metadata": {
        "execution": {
          "iopub.status.busy": "2024-09-26T15:40:38.84338Z",
          "iopub.execute_input": "2024-09-26T15:40:38.843782Z",
          "iopub.status.idle": "2024-09-26T15:40:43.574315Z",
          "shell.execute_reply.started": "2024-09-26T15:40:38.843744Z",
          "shell.execute_reply": "2024-09-26T15:40:43.573127Z"
        },
        "trusted": true,
        "id": "5oxBMjJdBKye",
        "outputId": "4f202ee4-e68b-4294-a48c-b9ccc5ab6299",
        "colab": {
          "base_uri": "https://localhost:8080/"
        }
      },
      "execution_count": 2,
      "outputs": [
        {
          "output_type": "stream",
          "name": "stderr",
          "text": [
            "[nltk_data] Downloading package stopwords to /root/nltk_data...\n",
            "[nltk_data]   Unzipping corpora/stopwords.zip.\n"
          ]
        }
      ]
    },
    {
      "cell_type": "code",
      "source": [
        "df = pd.read_csv(\"/kaggle/input/amazon-kindle-book-review-for-sentiment-analysis/preprocessed_kindle_review .csv\")"
      ],
      "metadata": {
        "execution": {
          "iopub.status.busy": "2024-09-26T15:42:00.98994Z",
          "iopub.execute_input": "2024-09-26T15:42:00.990412Z",
          "iopub.status.idle": "2024-09-26T15:42:01.200173Z",
          "shell.execute_reply.started": "2024-09-26T15:42:00.990356Z",
          "shell.execute_reply": "2024-09-26T15:42:01.199214Z"
        },
        "trusted": true,
        "id": "SttluZRuBKyg"
      },
      "execution_count": 3,
      "outputs": []
    },
    {
      "cell_type": "code",
      "source": [
        "df.head()"
      ],
      "metadata": {
        "execution": {
          "iopub.status.busy": "2024-09-26T15:42:02.973646Z",
          "iopub.execute_input": "2024-09-26T15:42:02.974033Z",
          "iopub.status.idle": "2024-09-26T15:42:02.997206Z",
          "shell.execute_reply.started": "2024-09-26T15:42:02.973998Z",
          "shell.execute_reply": "2024-09-26T15:42:02.99608Z"
        },
        "trusted": true,
        "id": "3fSZUzZ0BKyh",
        "outputId": "f511dc41-f107-4235-ff6e-c81470d7268b"
      },
      "execution_count": null,
      "outputs": [
        {
          "execution_count": 4,
          "output_type": "execute_result",
          "data": {
            "text/plain": "   Unnamed: 0  rating                                         reviewText  \\\n0           0       5  This book was the very first bookmobile book I...   \n1           1       1  When I read the description for this book, I c...   \n2           2       5  I just had to edit this review. This book is a...   \n3           3       5  I don't normally buy 'mystery' novels because ...   \n4           4       5  This isn't the kind of book I normally read, a...   \n\n                           summary  \n0                50 + years ago...  \n1          Boring! Boring! Boring!  \n2  Wiggleliscious/new toy ready/!!  \n3                  Very good read.  \n4                     Great Story!  ",
            "text/html": "<div>\n<style scoped>\n    .dataframe tbody tr th:only-of-type {\n        vertical-align: middle;\n    }\n\n    .dataframe tbody tr th {\n        vertical-align: top;\n    }\n\n    .dataframe thead th {\n        text-align: right;\n    }\n</style>\n<table border=\"1\" class=\"dataframe\">\n  <thead>\n    <tr style=\"text-align: right;\">\n      <th></th>\n      <th>Unnamed: 0</th>\n      <th>rating</th>\n      <th>reviewText</th>\n      <th>summary</th>\n    </tr>\n  </thead>\n  <tbody>\n    <tr>\n      <th>0</th>\n      <td>0</td>\n      <td>5</td>\n      <td>This book was the very first bookmobile book I...</td>\n      <td>50 + years ago...</td>\n    </tr>\n    <tr>\n      <th>1</th>\n      <td>1</td>\n      <td>1</td>\n      <td>When I read the description for this book, I c...</td>\n      <td>Boring! Boring! Boring!</td>\n    </tr>\n    <tr>\n      <th>2</th>\n      <td>2</td>\n      <td>5</td>\n      <td>I just had to edit this review. This book is a...</td>\n      <td>Wiggleliscious/new toy ready/!!</td>\n    </tr>\n    <tr>\n      <th>3</th>\n      <td>3</td>\n      <td>5</td>\n      <td>I don't normally buy 'mystery' novels because ...</td>\n      <td>Very good read.</td>\n    </tr>\n    <tr>\n      <th>4</th>\n      <td>4</td>\n      <td>5</td>\n      <td>This isn't the kind of book I normally read, a...</td>\n      <td>Great Story!</td>\n    </tr>\n  </tbody>\n</table>\n</div>"
          },
          "metadata": {}
        }
      ]
    },
    {
      "cell_type": "code",
      "source": [
        "df.shape"
      ],
      "metadata": {
        "execution": {
          "iopub.status.busy": "2024-09-26T12:17:34.161137Z",
          "iopub.execute_input": "2024-09-26T12:17:34.161884Z",
          "iopub.status.idle": "2024-09-26T12:17:34.171584Z",
          "shell.execute_reply.started": "2024-09-26T12:17:34.161818Z",
          "shell.execute_reply": "2024-09-26T12:17:34.170092Z"
        },
        "trusted": true,
        "id": "TEgf_cGRBKyi",
        "outputId": "feb0c7f9-eef5-4baf-ba4f-f29529f9b56c"
      },
      "execution_count": null,
      "outputs": [
        {
          "execution_count": 4,
          "output_type": "execute_result",
          "data": {
            "text/plain": "(12000, 4)"
          },
          "metadata": {}
        }
      ]
    },
    {
      "cell_type": "code",
      "source": [
        "data = df.iloc[:,1:3]"
      ],
      "metadata": {
        "execution": {
          "iopub.status.busy": "2024-09-26T15:42:06.500544Z",
          "iopub.execute_input": "2024-09-26T15:42:06.50109Z",
          "iopub.status.idle": "2024-09-26T15:42:06.514072Z",
          "shell.execute_reply.started": "2024-09-26T15:42:06.501037Z",
          "shell.execute_reply": "2024-09-26T15:42:06.512521Z"
        },
        "trusted": true,
        "id": "AXyyRaTQBKyi"
      },
      "execution_count": 4,
      "outputs": []
    },
    {
      "cell_type": "code",
      "source": [
        "data"
      ],
      "metadata": {
        "execution": {
          "iopub.status.busy": "2024-09-26T12:27:11.396892Z",
          "iopub.execute_input": "2024-09-26T12:27:11.397376Z",
          "iopub.status.idle": "2024-09-26T12:27:11.411479Z",
          "shell.execute_reply.started": "2024-09-26T12:27:11.397327Z",
          "shell.execute_reply": "2024-09-26T12:27:11.409941Z"
        },
        "trusted": true,
        "id": "cM8BhyGNBKyj",
        "outputId": "b46a8ac7-6335-44b0-8c8f-b85273d53bf9"
      },
      "execution_count": null,
      "outputs": [
        {
          "execution_count": 27,
          "output_type": "execute_result",
          "data": {
            "text/plain": "       rating                                         reviewText\n0           5  This book was the very first bookmobile book I...\n1           1  When I read the description for this book, I c...\n2           5  I just had to edit this review. This book is a...\n3           5  I don't normally buy 'mystery' novels because ...\n4           5  This isn't the kind of book I normally read, a...\n...       ...                                                ...\n11995       2  Had to read certain passages twice--typos.  Wi...\n11996       3  Not what i expected. yet a very interesting bo...\n11997       5  Dragon Knights is a world where Knights ride d...\n11998       4  Since this story is very short, it's hard to s...\n11999       4  from 1922 an amazing collection of info on sym...\n\n[12000 rows x 2 columns]",
            "text/html": "<div>\n<style scoped>\n    .dataframe tbody tr th:only-of-type {\n        vertical-align: middle;\n    }\n\n    .dataframe tbody tr th {\n        vertical-align: top;\n    }\n\n    .dataframe thead th {\n        text-align: right;\n    }\n</style>\n<table border=\"1\" class=\"dataframe\">\n  <thead>\n    <tr style=\"text-align: right;\">\n      <th></th>\n      <th>rating</th>\n      <th>reviewText</th>\n    </tr>\n  </thead>\n  <tbody>\n    <tr>\n      <th>0</th>\n      <td>5</td>\n      <td>This book was the very first bookmobile book I...</td>\n    </tr>\n    <tr>\n      <th>1</th>\n      <td>1</td>\n      <td>When I read the description for this book, I c...</td>\n    </tr>\n    <tr>\n      <th>2</th>\n      <td>5</td>\n      <td>I just had to edit this review. This book is a...</td>\n    </tr>\n    <tr>\n      <th>3</th>\n      <td>5</td>\n      <td>I don't normally buy 'mystery' novels because ...</td>\n    </tr>\n    <tr>\n      <th>4</th>\n      <td>5</td>\n      <td>This isn't the kind of book I normally read, a...</td>\n    </tr>\n    <tr>\n      <th>...</th>\n      <td>...</td>\n      <td>...</td>\n    </tr>\n    <tr>\n      <th>11995</th>\n      <td>2</td>\n      <td>Had to read certain passages twice--typos.  Wi...</td>\n    </tr>\n    <tr>\n      <th>11996</th>\n      <td>3</td>\n      <td>Not what i expected. yet a very interesting bo...</td>\n    </tr>\n    <tr>\n      <th>11997</th>\n      <td>5</td>\n      <td>Dragon Knights is a world where Knights ride d...</td>\n    </tr>\n    <tr>\n      <th>11998</th>\n      <td>4</td>\n      <td>Since this story is very short, it's hard to s...</td>\n    </tr>\n    <tr>\n      <th>11999</th>\n      <td>4</td>\n      <td>from 1922 an amazing collection of info on sym...</td>\n    </tr>\n  </tbody>\n</table>\n<p>12000 rows × 2 columns</p>\n</div>"
          },
          "metadata": {}
        }
      ]
    },
    {
      "cell_type": "code",
      "source": [
        "data.isnull().sum()"
      ],
      "metadata": {
        "execution": {
          "iopub.status.busy": "2024-09-26T12:17:34.210734Z",
          "iopub.execute_input": "2024-09-26T12:17:34.211234Z",
          "iopub.status.idle": "2024-09-26T12:17:34.231852Z",
          "shell.execute_reply.started": "2024-09-26T12:17:34.211178Z",
          "shell.execute_reply": "2024-09-26T12:17:34.230529Z"
        },
        "trusted": true,
        "id": "0poHBGFKBKyk",
        "outputId": "1138e547-a687-49d4-c3ab-bf29f177592c"
      },
      "execution_count": null,
      "outputs": [
        {
          "execution_count": 7,
          "output_type": "execute_result",
          "data": {
            "text/plain": "rating        0\nreviewText    0\ndtype: int64"
          },
          "metadata": {}
        }
      ]
    },
    {
      "cell_type": "code",
      "source": [
        "data.info()"
      ],
      "metadata": {
        "execution": {
          "iopub.status.busy": "2024-09-26T12:17:34.233842Z",
          "iopub.execute_input": "2024-09-26T12:17:34.234347Z",
          "iopub.status.idle": "2024-09-26T12:17:34.260265Z",
          "shell.execute_reply.started": "2024-09-26T12:17:34.234287Z",
          "shell.execute_reply": "2024-09-26T12:17:34.258773Z"
        },
        "trusted": true,
        "id": "7R1_GD1gBKyk",
        "outputId": "dbd6a60f-4dc3-4280-aa9d-10c5bdbc62d1"
      },
      "execution_count": null,
      "outputs": [
        {
          "name": "stdout",
          "text": "<class 'pandas.core.frame.DataFrame'>\nRangeIndex: 12000 entries, 0 to 11999\nData columns (total 2 columns):\n #   Column      Non-Null Count  Dtype \n---  ------      --------------  ----- \n 0   rating      12000 non-null  int64 \n 1   reviewText  12000 non-null  object\ndtypes: int64(1), object(1)\nmemory usage: 187.6+ KB\n",
          "output_type": "stream"
        }
      ]
    },
    {
      "cell_type": "code",
      "source": [
        "data.duplicated().sum()"
      ],
      "metadata": {
        "execution": {
          "iopub.status.busy": "2024-09-26T12:17:34.261766Z",
          "iopub.execute_input": "2024-09-26T12:17:34.262308Z",
          "iopub.status.idle": "2024-09-26T12:17:34.297906Z",
          "shell.execute_reply.started": "2024-09-26T12:17:34.26223Z",
          "shell.execute_reply": "2024-09-26T12:17:34.296354Z"
        },
        "trusted": true,
        "id": "oMKWDWlEBKyl",
        "outputId": "032daa70-9834-4521-a97d-3f13521d289f"
      },
      "execution_count": null,
      "outputs": [
        {
          "execution_count": 9,
          "output_type": "execute_result",
          "data": {
            "text/plain": "0"
          },
          "metadata": {}
        }
      ]
    },
    {
      "cell_type": "code",
      "source": [
        "data['rating'].unique()"
      ],
      "metadata": {
        "execution": {
          "iopub.status.busy": "2024-09-26T12:17:34.29974Z",
          "iopub.execute_input": "2024-09-26T12:17:34.300182Z",
          "iopub.status.idle": "2024-09-26T12:17:34.312547Z",
          "shell.execute_reply.started": "2024-09-26T12:17:34.300136Z",
          "shell.execute_reply": "2024-09-26T12:17:34.311082Z"
        },
        "trusted": true,
        "id": "lIwwl4XdBKyl",
        "outputId": "6bdd0d53-0fea-4bdf-9794-32d0ea40045c"
      },
      "execution_count": null,
      "outputs": [
        {
          "execution_count": 10,
          "output_type": "execute_result",
          "data": {
            "text/plain": "array([5, 1, 4, 3, 2])"
          },
          "metadata": {}
        }
      ]
    },
    {
      "cell_type": "code",
      "source": [
        "# checking whether the data is imbalanced\n",
        "counts = data['rating'].value_counts()"
      ],
      "metadata": {
        "execution": {
          "iopub.status.busy": "2024-09-26T15:42:13.950646Z",
          "iopub.execute_input": "2024-09-26T15:42:13.951047Z",
          "iopub.status.idle": "2024-09-26T15:42:13.963674Z",
          "shell.execute_reply.started": "2024-09-26T15:42:13.951011Z",
          "shell.execute_reply": "2024-09-26T15:42:13.962259Z"
        },
        "trusted": true,
        "id": "3S1KWg54BKyl"
      },
      "execution_count": null,
      "outputs": []
    },
    {
      "cell_type": "code",
      "source": [
        "plt.figure(figsize=(5,6))\n",
        "sns.barplot(x=counts.index , y=counts.values, palette='Set3')\n",
        "plt.title('Review Rating')\n",
        "plt.xlabel(\"Rating\")\n",
        "plt.ylabel(\"count\")\n",
        "plt.show()"
      ],
      "metadata": {
        "execution": {
          "iopub.status.busy": "2024-09-26T12:17:34.326541Z",
          "iopub.execute_input": "2024-09-26T12:17:34.327075Z",
          "iopub.status.idle": "2024-09-26T12:17:34.679514Z",
          "shell.execute_reply.started": "2024-09-26T12:17:34.327017Z",
          "shell.execute_reply": "2024-09-26T12:17:34.678115Z"
        },
        "trusted": true,
        "id": "s9XNabqiBKym",
        "outputId": "9cea592f-0ef5-43b8-946f-74d210c3e7df"
      },
      "execution_count": null,
      "outputs": [
        {
          "output_type": "display_data",
          "data": {
            "text/plain": "<Figure size 500x600 with 1 Axes>",
            "image/png": "[encoded data removed]"
          },
          "metadata": {}
        }
      ]
    },
    {
      "cell_type": "markdown",
      "source": [
        "## Preprocessing"
      ],
      "metadata": {
        "id": "pNC5jEtOBKym"
      }
    },
    {
      "cell_type": "code",
      "source": [
        "data['rating']=data['rating'].apply(lambda x:0 if x<3 else 1)"
      ],
      "metadata": {
        "execution": {
          "iopub.status.busy": "2024-09-26T15:42:20.602101Z",
          "iopub.execute_input": "2024-09-26T15:42:20.602527Z",
          "iopub.status.idle": "2024-09-26T15:42:20.614366Z",
          "shell.execute_reply.started": "2024-09-26T15:42:20.60249Z",
          "shell.execute_reply": "2024-09-26T15:42:20.613012Z"
        },
        "trusted": true,
        "id": "v0l5gGIjBKyn"
      },
      "execution_count": 5,
      "outputs": []
    },
    {
      "cell_type": "code",
      "source": [
        "data"
      ],
      "metadata": {
        "execution": {
          "iopub.status.busy": "2024-09-26T12:27:22.645356Z",
          "iopub.execute_input": "2024-09-26T12:27:22.64581Z",
          "iopub.status.idle": "2024-09-26T12:27:22.659572Z",
          "shell.execute_reply.started": "2024-09-26T12:27:22.645766Z",
          "shell.execute_reply": "2024-09-26T12:27:22.658094Z"
        },
        "trusted": true,
        "id": "19ZX0QwBBKyn",
        "outputId": "c25daf9e-cb68-48ff-d7a2-f5c84a83654c",
        "colab": {
          "base_uri": "https://localhost:8080/",
          "height": 423
        }
      },
      "execution_count": 6,
      "outputs": [
        {
          "output_type": "execute_result",
          "data": {
            "text/plain": [
              "       rating                                         reviewText\n",
              "0           1  This book was the very first bookmobile book I...\n",
              "1           0  When I read the description for this book, I c...\n",
              "2           1  I just had to edit this review. This book is a...\n",
              "3           1  I don't normally buy 'mystery' novels because ...\n",
              "4           1  This isn't the kind of book I normally read, a...\n",
              "...       ...                                                ...\n",
              "11995       0  Had to read certain passages twice--typos.  Wi...\n",
              "11996       1  Not what i expected. yet a very interesting bo...\n",
              "11997       1  Dragon Knights is a world where Knights ride d...\n",
              "11998       1  Since this story is very short, it's hard to s...\n",
              "11999       1  from 1922 an amazing collection of info on sym...\n",
              "\n",
              "[12000 rows x 2 columns]"
            ],
            "text/html": [
              "\n",
              "  <div id=\"df-c0749906-ec53-4b9e-8dec-08b8468b2d33\" class=\"colab-df-container\">\n",
              "    <div>\n",
              "<style scoped>\n",
              "    .dataframe tbody tr th:only-of-type {\n",
              "        vertical-align: middle;\n",
              "    }\n",
              "\n",
              "    .dataframe tbody tr th {\n",
              "        vertical-align: top;\n",
              "    }\n",
              "\n",
              "    .dataframe thead th {\n",
              "        text-align: right;\n",
              "    }\n",
              "</style>\n",
              "<table border=\"1\" class=\"dataframe\">\n",
              "  <thead>\n",
              "    <tr style=\"text-align: right;\">\n",
              "      <th></th>\n",
              "      <th>rating</th>\n",
              "      <th>reviewText</th>\n",
              "    </tr>\n",
              "  </thead>\n",
              "  <tbody>\n",
              "    <tr>\n",
              "      <th>0</th>\n",
              "      <td>1</td>\n",
              "      <td>This book was the very first bookmobile book I...</td>\n",
              "    </tr>\n",
              "    <tr>\n",
              "      <th>1</th>\n",
              "      <td>0</td>\n",
              "      <td>When I read the description for this book, I c...</td>\n",
              "    </tr>\n",
              "    <tr>\n",
              "      <th>2</th>\n",
              "      <td>1</td>\n",
              "      <td>I just had to edit this review. This book is a...</td>\n",
              "    </tr>\n",
              "    <tr>\n",
              "      <th>3</th>\n",
              "      <td>1</td>\n",
              "      <td>I don't normally buy 'mystery' novels because ...</td>\n",
              "    </tr>\n",
              "    <tr>\n",
              "      <th>4</th>\n",
              "      <td>1</td>\n",
              "      <td>This isn't the kind of book I normally read, a...</td>\n",
              "    </tr>\n",
              "    <tr>\n",
              "      <th>...</th>\n",
              "      <td>...</td>\n",
              "      <td>...</td>\n",
              "    </tr>\n",
              "    <tr>\n",
              "      <th>11995</th>\n",
              "      <td>0</td>\n",
              "      <td>Had to read certain passages twice--typos.  Wi...</td>\n",
              "    </tr>\n",
              "    <tr>\n",
              "      <th>11996</th>\n",
              "      <td>1</td>\n",
              "      <td>Not what i expected. yet a very interesting bo...</td>\n",
              "    </tr>\n",
              "    <tr>\n",
              "      <th>11997</th>\n",
              "      <td>1</td>\n",
              "      <td>Dragon Knights is a world where Knights ride d...</td>\n",
              "    </tr>\n",
              "    <tr>\n",
              "      <th>11998</th>\n",
              "      <td>1</td>\n",
              "      <td>Since this story is very short, it's hard to s...</td>\n",
              "    </tr>\n",
              "    <tr>\n",
              "      <th>11999</th>\n",
              "      <td>1</td>\n",
              "      <td>from 1922 an amazing collection of info on sym...</td>\n",
              "    </tr>\n",
              "  </tbody>\n",
              "</table>\n",
              "<p>12000 rows × 2 columns</p>\n",
              "</div>\n",
              "    <div class=\"colab-df-buttons\">\n",
              "\n",
              "  <div class=\"colab-df-container\">\n",
              "    <button class=\"colab-df-convert\" onclick=\"convertToInteractive('df-c0749906-ec53-4b9e-8dec-08b8468b2d33')\"\n",
              "            title=\"Convert this dataframe to an interactive table.\"\n",
              "            style=\"display:none;\">\n",
              "\n",
              "  <svg xmlns=\"http://www.w3.org/2000/svg\" height=\"24px\" viewBox=\"0 -960 960 960\">\n",
              "    <path d=\"M120-120v-720h720v720H120Zm60-500h600v-160H180v160Zm220 220h160v-160H400v160Zm0 220h160v-160H400v160ZM180-400h160v-160H180v160Zm440 0h160v-160H620v160ZM180-180h160v-160H180v160Zm440 0h160v-160H620v160Z\"/>\n",
              "  </svg>\n",
              "    </button>\n",
              "\n",
              "  <style>\n",
              "    .colab-df-container {\n",
              "      display:flex;\n",
              "      gap: 12px;\n",
              "    }\n",
              "\n",
              "    .colab-df-convert {\n",
              "      background-color: #E8F0FE;\n",
              "      border: none;\n",
              "      border-radius: 50%;\n",
              "      cursor: pointer;\n",
              "      display: none;\n",
              "      fill: #1967D2;\n",
              "      height: 32px;\n",
              "      padding: 0 0 0 0;\n",
              "      width: 32px;\n",
              "    }\n",
              "\n",
              "    .colab-df-convert:hover {\n",
              "      background-color: #E2EBFA;\n",
              "      box-shadow: 0px 1px 2px rgba(60, 64, 67, 0.3), 0px 1px 3px 1px rgba(60, 64, 67, 0.15);\n",
              "      fill: #174EA6;\n",
              "    }\n",
              "\n",
              "    .colab-df-buttons div {\n",
              "      margin-bottom: 4px;\n",
              "    }\n",
              "\n",
              "    [theme=dark] .colab-df-convert {\n",
              "      background-color: #3B4455;\n",
              "      fill: #D2E3FC;\n",
              "    }\n",
              "\n",
              "    [theme=dark] .colab-df-convert:hover {\n",
              "      background-color: #434B5C;\n",
              "      box-shadow: 0px 1px 3px 1px rgba(0, 0, 0, 0.15);\n",
              "      filter: drop-shadow(0px 1px 2px rgba(0, 0, 0, 0.3));\n",
              "      fill: #FFFFFF;\n",
              "    }\n",
              "  </style>\n",
              "\n",
              "    <script>\n",
              "      const buttonEl =\n",
              "        document.querySelector('#df-c0749906-ec53-4b9e-8dec-08b8468b2d33 button.colab-df-convert');\n",
              "      buttonEl.style.display =\n",
              "        google.colab.kernel.accessAllowed ? 'block' : 'none';\n",
              "\n",
              "      async function convertToInteractive(key) {\n",
              "        const element = document.querySelector('#df-c0749906-ec53-4b9e-8dec-08b8468b2d33');\n",
              "        const dataTable =\n",
              "          await google.colab.kernel.invokeFunction('convertToInteractive',\n",
              "                                                    [key], {});\n",
              "        if (!dataTable) return;\n",
              "\n",
              "        const docLinkHtml = 'Like what you see? Visit the ' +\n",
              "          '<a target=\"_blank\" href=https://colab.research.google.com/notebooks/data_table.ipynb>data table notebook</a>'\n",
              "          + ' to learn more about interactive tables.';\n",
              "        element.innerHTML = '';\n",
              "        dataTable['output_type'] = 'display_data';\n",
              "        await google.colab.output.renderOutput(dataTable, element);\n",
              "        const docLink = document.createElement('div');\n",
              "        docLink.innerHTML = docLinkHtml;\n",
              "        element.appendChild(docLink);\n",
              "      }\n",
              "    </script>\n",
              "  </div>\n",
              "\n",
              "\n",
              "<div id=\"df-5ceb65b5-6c81-4196-92e5-e801d8fd3834\">\n",
              "  <button class=\"colab-df-quickchart\" onclick=\"quickchart('df-5ceb65b5-6c81-4196-92e5-e801d8fd3834')\"\n",
              "            title=\"Suggest charts\"\n",
              "            style=\"display:none;\">\n",
              "\n",
              "<svg xmlns=\"http://www.w3.org/2000/svg\" height=\"24px\"viewBox=\"0 0 24 24\"\n",
              "     width=\"24px\">\n",
              "    <g>\n",
              "        <path d=\"M19 3H5c-1.1 0-2 .9-2 2v14c0 1.1.9 2 2 2h14c1.1 0 2-.9 2-2V5c0-1.1-.9-2-2-2zM9 17H7v-7h2v7zm4 0h-2V7h2v10zm4 0h-2v-4h2v4z\"/>\n",
              "    </g>\n",
              "</svg>\n",
              "  </button>\n",
              "\n",
              "<style>\n",
              "  .colab-df-quickchart {\n",
              "      --bg-color: #E8F0FE;\n",
              "      --fill-color: #1967D2;\n",
              "      --hover-bg-color: #E2EBFA;\n",
              "      --hover-fill-color: #174EA6;\n",
              "      --disabled-fill-color: #AAA;\n",
              "      --disabled-bg-color: #DDD;\n",
              "  }\n",
              "\n",
              "  [theme=dark] .colab-df-quickchart {\n",
              "      --bg-color: #3B4455;\n",
              "      --fill-color: #D2E3FC;\n",
              "      --hover-bg-color: #434B5C;\n",
              "      --hover-fill-color: #FFFFFF;\n",
              "      --disabled-bg-color: #3B4455;\n",
              "      --disabled-fill-color: #666;\n",
              "  }\n",
              "\n",
              "  .colab-df-quickchart {\n",
              "    background-color: var(--bg-color);\n",
              "    border: none;\n",
              "    border-radius: 50%;\n",
              "    cursor: pointer;\n",
              "    display: none;\n",
              "    fill: var(--fill-color);\n",
              "    height: 32px;\n",
              "    padding: 0;\n",
              "    width: 32px;\n",
              "  }\n",
              "\n",
              "  .colab-df-quickchart:hover {\n",
              "    background-color: var(--hover-bg-color);\n",
              "    box-shadow: 0 1px 2px rgba(60, 64, 67, 0.3), 0 1px 3px 1px rgba(60, 64, 67, 0.15);\n",
              "    fill: var(--button-hover-fill-color);\n",
              "  }\n",
              "\n",
              "  .colab-df-quickchart-complete:disabled,\n",
              "  .colab-df-quickchart-complete:disabled:hover {\n",
              "    background-color: var(--disabled-bg-color);\n",
              "    fill: var(--disabled-fill-color);\n",
              "    box-shadow: none;\n",
              "  }\n",
              "\n",
              "  .colab-df-spinner {\n",
              "    border: 2px solid var(--fill-color);\n",
              "    border-color: transparent;\n",
              "    border-bottom-color: var(--fill-color);\n",
              "    animation:\n",
              "      spin 1s steps(1) infinite;\n",
              "  }\n",
              "\n",
              "  @keyframes spin {\n",
              "    0% {\n",
              "      border-color: transparent;\n",
              "      border-bottom-color: var(--fill-color);\n",
              "      border-left-color: var(--fill-color);\n",
              "    }\n",
              "    20% {\n",
              "      border-color: transparent;\n",
              "      border-left-color: var(--fill-color);\n",
              "      border-top-color: var(--fill-color);\n",
              "    }\n",
              "    30% {\n",
              "      border-color: transparent;\n",
              "      border-left-color: var(--fill-color);\n",
              "      border-top-color: var(--fill-color);\n",
              "      border-right-color: var(--fill-color);\n",
              "    }\n",
              "    40% {\n",
              "      border-color: transparent;\n",
              "      border-right-color: var(--fill-color);\n",
              "      border-top-color: var(--fill-color);\n",
              "    }\n",
              "    60% {\n",
              "      border-color: transparent;\n",
              "      border-right-color: var(--fill-color);\n",
              "    }\n",
              "    80% {\n",
              "      border-color: transparent;\n",
              "      border-right-color: var(--fill-color);\n",
              "      border-bottom-color: var(--fill-color);\n",
              "    }\n",
              "    90% {\n",
              "      border-color: transparent;\n",
              "      border-bottom-color: var(--fill-color);\n",
              "    }\n",
              "  }\n",
              "</style>\n",
              "\n",
              "  <script>\n",
              "    async function quickchart(key) {\n",
              "      const quickchartButtonEl =\n",
              "        document.querySelector('#' + key + ' button');\n",
              "      quickchartButtonEl.disabled = true;  // To prevent multiple clicks.\n",
              "      quickchartButtonEl.classList.add('colab-df-spinner');\n",
              "      try {\n",
              "        const charts = await google.colab.kernel.invokeFunction(\n",
              "            'suggestCharts', [key], {});\n",
              "      } catch (error) {\n",
              "        console.error('Error during call to suggestCharts:', error);\n",
              "      }\n",
              "      quickchartButtonEl.classList.remove('colab-df-spinner');\n",
              "      quickchartButtonEl.classList.add('colab-df-quickchart-complete');\n",
              "    }\n",
              "    (() => {\n",
              "      let quickchartButtonEl =\n",
              "        document.querySelector('#df-5ceb65b5-6c81-4196-92e5-e801d8fd3834 button');\n",
              "      quickchartButtonEl.style.display =\n",
              "        google.colab.kernel.accessAllowed ? 'block' : 'none';\n",
              "    })();\n",
              "  </script>\n",
              "</div>\n",
              "\n",
              "  <div id=\"id_ff6fbf6e-e805-4efb-a0da-a9fff471ea45\">\n",
              "    <style>\n",
              "      .colab-df-generate {\n",
              "        background-color: #E8F0FE;\n",
              "        border: none;\n",
              "        border-radius: 50%;\n",
              "        cursor: pointer;\n",
              "        display: none;\n",
              "        fill: #1967D2;\n",
              "        height: 32px;\n",
              "        padding: 0 0 0 0;\n",
              "        width: 32px;\n",
              "      }\n",
              "\n",
              "      .colab-df-generate:hover {\n",
              "        background-color: #E2EBFA;\n",
              "        box-shadow: 0px 1px 2px rgba(60, 64, 67, 0.3), 0px 1px 3px 1px rgba(60, 64, 67, 0.15);\n",
              "        fill: #174EA6;\n",
              "      }\n",
              "\n",
              "      [theme=dark] .colab-df-generate {\n",
              "        background-color: #3B4455;\n",
              "        fill: #D2E3FC;\n",
              "      }\n",
              "\n",
              "      [theme=dark] .colab-df-generate:hover {\n",
              "        background-color: #434B5C;\n",
              "        box-shadow: 0px 1px 3px 1px rgba(0, 0, 0, 0.15);\n",
              "        filter: drop-shadow(0px 1px 2px rgba(0, 0, 0, 0.3));\n",
              "        fill: #FFFFFF;\n",
              "      }\n",
              "    </style>\n",
              "    <button class=\"colab-df-generate\" onclick=\"generateWithVariable('data')\"\n",
              "            title=\"Generate code using this dataframe.\"\n",
              "            style=\"display:none;\">\n",
              "\n",
              "  <svg xmlns=\"http://www.w3.org/2000/svg\" height=\"24px\"viewBox=\"0 0 24 24\"\n",
              "       width=\"24px\">\n",
              "    <path d=\"M7,19H8.4L18.45,9,17,7.55,7,17.6ZM5,21V16.75L18.45,3.32a2,2,0,0,1,2.83,0l1.4,1.43a1.91,1.91,0,0,1,.58,1.4,1.91,1.91,0,0,1-.58,1.4L9.25,21ZM18.45,9,17,7.55Zm-12,3A5.31,5.31,0,0,0,4.9,8.1,5.31,5.31,0,0,0,1,6.5,5.31,5.31,0,0,0,4.9,4.9,5.31,5.31,0,0,0,6.5,1,5.31,5.31,0,0,0,8.1,4.9,5.31,5.31,0,0,0,12,6.5,5.46,5.46,0,0,0,6.5,12Z\"/>\n",
              "  </svg>\n",
              "    </button>\n",
              "    <script>\n",
              "      (() => {\n",
              "      const buttonEl =\n",
              "        document.querySelector('#id_ff6fbf6e-e805-4efb-a0da-a9fff471ea45 button.colab-df-generate');\n",
              "      buttonEl.style.display =\n",
              "        google.colab.kernel.accessAllowed ? 'block' : 'none';\n",
              "\n",
              "      buttonEl.onclick = () => {\n",
              "        google.colab.notebook.generateWithVariable('data');\n",
              "      }\n",
              "      })();\n",
              "    </script>\n",
              "  </div>\n",
              "\n",
              "    </div>\n",
              "  </div>\n"
            ],
            "application/vnd.google.colaboratory.intrinsic+json": {
              "type": "dataframe",
              "variable_name": "data",
              "summary": "{\n  \"name\": \"data\",\n  \"rows\": 12000,\n  \"fields\": [\n    {\n      \"column\": \"rating\",\n      \"properties\": {\n        \"dtype\": \"number\",\n        \"std\": 0,\n        \"min\": 0,\n        \"max\": 1,\n        \"num_unique_values\": 2,\n        \"samples\": [\n          0,\n          1\n        ],\n        \"semantic_type\": \"\",\n        \"description\": \"\"\n      }\n    },\n    {\n      \"column\": \"reviewText\",\n      \"properties\": {\n        \"dtype\": \"string\",\n        \"num_unique_values\": 12000,\n        \"samples\": [\n          \"This book was recommended to me and I actually liked it. If you are looking for suspense this is not your book, it is more like a killing time book where you can figure out what happens next.\",\n          \"When I was a child my parents loved these stories - made into several movies - and of course, I thought they were boring and old fashioned.Well, they're still old fashioned, but in a comforting, old world way.  The stories are set in the British Isles for the most part, between WWI and WWII.  Bulldog Drummond makes a habit of saving damsel's in distress with flair and dash.  There's no bad language, course innuendo or explicit sex or violence, just interesting narrative and story lines.  Great for a quiet rainy Sunday.\"\n        ],\n        \"semantic_type\": \"\",\n        \"description\": \"\"\n      }\n    }\n  ]\n}"
            }
          },
          "metadata": {},
          "execution_count": 6
        }
      ]
    },
    {
      "cell_type": "code",
      "source": [
        "data['rating'].unique()"
      ],
      "metadata": {
        "execution": {
          "iopub.status.busy": "2024-09-26T12:17:34.725789Z",
          "iopub.execute_input": "2024-09-26T12:17:34.726276Z",
          "iopub.status.idle": "2024-09-26T12:17:34.736332Z",
          "shell.execute_reply.started": "2024-09-26T12:17:34.726201Z",
          "shell.execute_reply": "2024-09-26T12:17:34.734902Z"
        },
        "trusted": true,
        "id": "FExH-rpFBKyo",
        "outputId": "a725f14e-a582-4bb0-dd00-971ef59d6c94"
      },
      "execution_count": null,
      "outputs": [
        {
          "execution_count": 15,
          "output_type": "execute_result",
          "data": {
            "text/plain": "array([1, 0])"
          },
          "metadata": {}
        }
      ]
    },
    {
      "cell_type": "code",
      "source": [
        "counts=data['rating'].value_counts()\n",
        "plt.figure(figsize=(5,6))\n",
        "sns.barplot(x=counts.index , y=counts.values, palette='Set3')\n",
        "plt.title('Review Rating')\n",
        "plt.xlabel(\"Rating\")\n",
        "plt.ylabel(\"count\")\n",
        "plt.show()"
      ],
      "metadata": {
        "execution": {
          "iopub.status.busy": "2024-09-26T12:17:34.73817Z",
          "iopub.execute_input": "2024-09-26T12:17:34.738642Z",
          "iopub.status.idle": "2024-09-26T12:17:35.034039Z",
          "shell.execute_reply.started": "2024-09-26T12:17:34.738597Z",
          "shell.execute_reply": "2024-09-26T12:17:35.032691Z"
        },
        "trusted": true,
        "id": "52PCO9SxBKyo",
        "outputId": "9f9ff003-6fee-4f1d-c9a4-6898ee84cc7e"
      },
      "execution_count": null,
      "outputs": [
        {
          "output_type": "display_data",
          "data": {
            "text/plain": "<Figure size 500x600 with 1 Axes>",
            "image/png": "[encoded data removed]"
          },
          "metadata": {}
        }
      ]
    },
    {
      "cell_type": "code",
      "source": [
        "# lower case\n",
        "data['reviewText'] = data['reviewText'].str.lower()"
      ],
      "metadata": {
        "execution": {
          "iopub.status.busy": "2024-09-26T15:42:28.914941Z",
          "iopub.execute_input": "2024-09-26T15:42:28.91572Z",
          "iopub.status.idle": "2024-09-26T15:42:28.934148Z",
          "shell.execute_reply.started": "2024-09-26T15:42:28.915672Z",
          "shell.execute_reply": "2024-09-26T15:42:28.933017Z"
        },
        "trusted": true,
        "id": "F5Q1B6PNBKyo"
      },
      "execution_count": 7,
      "outputs": []
    },
    {
      "cell_type": "code",
      "source": [
        "#data['reviewText'] = data['reviewText'].str.lower\n",
        "# removing special character\n",
        "data['reviewText']= data['reviewText'].apply(lambda x:re.sub('[^a-z A-Z 0-9]+',\"\",x))\n",
        "\n",
        "#Removing url tags\n",
        "data['reviewText']= data['reviewText'].apply(lambda x:re.sub(r'[\\b(http|https|ftp)://?:\\\\/\\\\/(?:www\\\\.)\\\\b(?:()@:%_\\\\+.~#?&\\\\/=*)$]', '',str(x)))\n",
        "\n",
        "# Removing html tags\n",
        "data['reviewText']=data['reviewText'].apply(lambda x:BeautifulSoup(x, 'lxml').get_text())\n",
        "\n",
        "# Removing additional spaces\n",
        "data['reviewText']=data['reviewText'].apply(lambda x: \" \".join(x.split()))"
      ],
      "metadata": {
        "execution": {
          "iopub.status.busy": "2024-09-26T15:42:31.125341Z",
          "iopub.execute_input": "2024-09-26T15:42:31.125751Z",
          "iopub.status.idle": "2024-09-26T15:42:34.035371Z",
          "shell.execute_reply.started": "2024-09-26T15:42:31.125715Z",
          "shell.execute_reply": "2024-09-26T15:42:34.034319Z"
        },
        "trusted": true,
        "id": "RGiK0MERBKyp"
      },
      "execution_count": 8,
      "outputs": []
    },
    {
      "cell_type": "code",
      "source": [
        "data.head()"
      ],
      "metadata": {
        "execution": {
          "iopub.status.busy": "2024-09-26T15:42:34.299876Z",
          "iopub.execute_input": "2024-09-26T15:42:34.300603Z",
          "iopub.status.idle": "2024-09-26T15:42:34.310617Z",
          "shell.execute_reply.started": "2024-09-26T15:42:34.300549Z",
          "shell.execute_reply": "2024-09-26T15:42:34.309385Z"
        },
        "trusted": true,
        "id": "Vcrtq1FMBKyp",
        "outputId": "4f0399f1-d6f5-4b9e-8ec1-4af2c66d08bd"
      },
      "execution_count": null,
      "outputs": [
        {
          "execution_count": 10,
          "output_type": "execute_result",
          "data": {
            "text/plain": "   rating                                         reviewText\n0       1  i ook a e very ir ookmoile ook i oug en i a in...\n1       0  en i read e decriion or i ook i couldn ai o re...\n2       1  i ju ad o edi i revie i ook i an i elieve i go...\n3       1  i don normally uy myery novel ecaue i ju don l...\n4       1  i in e kind o ook i normally read aloug i ry n...",
            "text/html": "<div>\n<style scoped>\n    .dataframe tbody tr th:only-of-type {\n        vertical-align: middle;\n    }\n\n    .dataframe tbody tr th {\n        vertical-align: top;\n    }\n\n    .dataframe thead th {\n        text-align: right;\n    }\n</style>\n<table border=\"1\" class=\"dataframe\">\n  <thead>\n    <tr style=\"text-align: right;\">\n      <th></th>\n      <th>rating</th>\n      <th>reviewText</th>\n    </tr>\n  </thead>\n  <tbody>\n    <tr>\n      <th>0</th>\n      <td>1</td>\n      <td>i ook a e very ir ookmoile ook i oug en i a in...</td>\n    </tr>\n    <tr>\n      <th>1</th>\n      <td>0</td>\n      <td>en i read e decriion or i ook i couldn ai o re...</td>\n    </tr>\n    <tr>\n      <th>2</th>\n      <td>1</td>\n      <td>i ju ad o edi i revie i ook i an i elieve i go...</td>\n    </tr>\n    <tr>\n      <th>3</th>\n      <td>1</td>\n      <td>i don normally uy myery novel ecaue i ju don l...</td>\n    </tr>\n    <tr>\n      <th>4</th>\n      <td>1</td>\n      <td>i in e kind o ook i normally read aloug i ry n...</td>\n    </tr>\n  </tbody>\n</table>\n</div>"
          },
          "metadata": {}
        }
      ]
    },
    {
      "cell_type": "markdown",
      "source": [
        "# Lemmatization"
      ],
      "metadata": {
        "id": "ti42IYI8BKyp"
      }
    },
    {
      "cell_type": "code",
      "source": [
        "from nltk.stem import WordNetLemmatizer\n",
        "import nltk\n",
        "nltk.download('wordnet')"
      ],
      "metadata": {
        "execution": {
          "iopub.status.busy": "2024-09-26T15:43:04.684534Z",
          "iopub.execute_input": "2024-09-26T15:43:04.685358Z",
          "iopub.status.idle": "2024-09-26T15:43:04.750191Z",
          "shell.execute_reply.started": "2024-09-26T15:43:04.685275Z",
          "shell.execute_reply": "2024-09-26T15:43:04.749028Z"
        },
        "trusted": true,
        "id": "Dhnf1mFWBKyp",
        "outputId": "c971ddb3-3ab4-4584-ec21-8fc7237f791d",
        "colab": {
          "base_uri": "https://localhost:8080/"
        }
      },
      "execution_count": 9,
      "outputs": [
        {
          "output_type": "stream",
          "name": "stderr",
          "text": [
            "[nltk_data] Downloading package wordnet to /root/nltk_data...\n"
          ]
        },
        {
          "output_type": "execute_result",
          "data": {
            "text/plain": [
              "True"
            ]
          },
          "metadata": {},
          "execution_count": 9
        }
      ]
    },
    {
      "cell_type": "code",
      "source": [
        "lem = WordNetLemmatizer()"
      ],
      "metadata": {
        "execution": {
          "iopub.status.busy": "2024-09-26T15:43:08.580724Z",
          "iopub.execute_input": "2024-09-26T15:43:08.581119Z",
          "iopub.status.idle": "2024-09-26T15:43:08.586501Z",
          "shell.execute_reply.started": "2024-09-26T15:43:08.581083Z",
          "shell.execute_reply": "2024-09-26T15:43:08.585264Z"
        },
        "trusted": true,
        "id": "HTdBJJN-BKyp"
      },
      "execution_count": 10,
      "outputs": []
    },
    {
      "cell_type": "code",
      "source": [
        "def lem_word(text):\n",
        "    return \" \".join([lem.lemmatize(word) for word in text.split()])"
      ],
      "metadata": {
        "execution": {
          "iopub.status.busy": "2024-09-26T15:43:10.745336Z",
          "iopub.execute_input": "2024-09-26T15:43:10.745739Z",
          "iopub.status.idle": "2024-09-26T15:43:10.751538Z",
          "shell.execute_reply.started": "2024-09-26T15:43:10.745704Z",
          "shell.execute_reply": "2024-09-26T15:43:10.750176Z"
        },
        "trusted": true,
        "id": "RzanMTr9BKyp"
      },
      "execution_count": 12,
      "outputs": []
    },
    {
      "cell_type": "code",
      "source": [
        "data['reviewText'] = data['reviewText'].apply(lambda x:lem_word(x))"
      ],
      "metadata": {
        "execution": {
          "iopub.status.busy": "2024-09-26T15:43:12.991459Z",
          "iopub.execute_input": "2024-09-26T15:43:12.991897Z",
          "iopub.status.idle": "2024-09-26T15:43:13.957093Z",
          "shell.execute_reply.started": "2024-09-26T15:43:12.991857Z",
          "shell.execute_reply": "2024-09-26T15:43:13.95532Z"
        },
        "trusted": true,
        "id": "AiF4lWyVBKyq"
      },
      "execution_count": 13,
      "outputs": []
    },
    {
      "cell_type": "markdown",
      "source": [
        "# Model Training"
      ],
      "metadata": {
        "id": "7boIQD2xCAI1"
      }
    },
    {
      "cell_type": "code",
      "source": [
        "from sklearn.model_selection import train_test_split\n",
        "X_train,X_test,y_train,y_test = train_test_split(data['reviewText'],data['rating'],test_size=0.2,random_state=42)"
      ],
      "metadata": {
        "id": "ApsOetGoBKyq"
      },
      "execution_count": 14,
      "outputs": []
    },
    {
      "cell_type": "markdown",
      "source": [
        "# Vectorization"
      ],
      "metadata": {
        "id": "T3yvmltqCHhg"
      }
    },
    {
      "cell_type": "code",
      "source": [
        "from sklearn.feature_extraction.text import CountVectorizer\n",
        "bow = CountVectorizer()\n",
        "X_train_bow = bow.fit_transform(X_train).toarray()\n",
        "X_test_bow = bow.transform(X_test).toarray()\n",
        "from sklearn.feature_extraction.text import TfidfVectorizer\n",
        "tfidf = TfidfVectorizer()\n",
        "X_train_tfidf = tfidf.fit_transform(X_train).toarray()\n",
        "X_test_tfidf = tfidf.transform(X_test).toarray()"
      ],
      "metadata": {
        "id": "gqgylfOWBKyq"
      },
      "execution_count": 15,
      "outputs": []
    },
    {
      "cell_type": "code",
      "source": [
        "from sklearn.naive_bayes import MultinomialNB\n",
        "from sklearn.metrics import accuracy_score, classification_report"
      ],
      "metadata": {
        "id": "w0p0jPZcBKyq"
      },
      "execution_count": 16,
      "outputs": []
    },
    {
      "cell_type": "code",
      "source": [
        "# Train a Naive Bayes classifier\n",
        "model_bow = MultinomialNB()\n",
        "model_bow.fit(X_train_bow, y_train)\n",
        "\n",
        "# Predict on the test set\n",
        "y_pred_bow = model_bow.predict(X_test_bow)\n",
        "\n",
        "# Evaluate the model\n",
        "accuracy_bow = accuracy_score(y_test, y_pred_bow)\n",
        "report_bow = classification_report(y_test, y_pred_bow)\n",
        "\n",
        "print(\"BoW Model Accuracy:\", accuracy_bow)\n",
        "print(\"BoW Model Classification Report:\\n\", report_bow)"
      ],
      "metadata": {
        "id": "px-67fsiCQtR",
        "outputId": "252dc30b-7e12-4408-f80a-9c169fdd6ff9",
        "colab": {
          "base_uri": "https://localhost:8080/"
        }
      },
      "execution_count": 17,
      "outputs": [
        {
          "output_type": "stream",
          "name": "stdout",
          "text": [
            "BoW Model Accuracy: 0.8379166666666666\n",
            "BoW Model Classification Report:\n",
            "               precision    recall  f1-score   support\n",
            "\n",
            "           0       0.77      0.72      0.75       799\n",
            "           1       0.87      0.89      0.88      1601\n",
            "\n",
            "    accuracy                           0.84      2400\n",
            "   macro avg       0.82      0.81      0.81      2400\n",
            "weighted avg       0.84      0.84      0.84      2400\n",
            "\n"
          ]
        }
      ]
    },
    {
      "cell_type": "code",
      "source": [
        "model_tfidf = MultinomialNB()\n",
        "model_tfidf.fit(X_train_tfidf, y_train)\n",
        "\n",
        "# Predict on the test set\n",
        "y_pred_tfidf = model_tfidf.predict(X_test_tfidf)\n",
        "\n",
        "# Evaluate the model\n",
        "accuracy_tfidf = accuracy_score(y_test, y_pred_tfidf)\n",
        "report_tfidf = classification_report(y_test, y_pred_tfidf)\n",
        "\n",
        "print(\"TFIDF Model Accuracy:\", accuracy_tfidf)\n",
        "print(\"TFIDF Model Classification Report:\\n\", report_tfidf)"
      ],
      "metadata": {
        "id": "cCjUAyfsCdsn",
        "outputId": "edc98b55-4f2a-479d-b447-ab806c67098c",
        "colab": {
          "base_uri": "https://localhost:8080/"
        }
      },
      "execution_count": 19,
      "outputs": [
        {
          "output_type": "stream",
          "name": "stdout",
          "text": [
            "TFIDF Model Accuracy: 0.6804166666666667\n",
            "TFIDF Model Classification Report:\n",
            "               precision    recall  f1-score   support\n",
            "\n",
            "           0       0.94      0.04      0.08       799\n",
            "           1       0.68      1.00      0.81      1601\n",
            "\n",
            "    accuracy                           0.68      2400\n",
            "   macro avg       0.81      0.52      0.44      2400\n",
            "weighted avg       0.77      0.68      0.57      2400\n",
            "\n"
          ]
        }
      ]
    },
    {
      "cell_type": "code",
      "source": [
        "from sklearn.linear_model import LogisticRegression\n",
        "lr = LogisticRegression()\n",
        "lr.fit(X_train_tfidf, y_train)\n",
        "\n",
        "# Predict on the test set\n",
        "y_pred_lr = lr.predict(X_test_tfidf)\n",
        "\n",
        "# Evaluate the model\n",
        "accuracy_lr = accuracy_score(y_test, y_pred_lr)\n",
        "report_lr = classification_report(y_test, y_pred_lr)\n",
        "\n",
        "print(\"LR Model Accuracy:\", accuracy_lr)\n",
        "print(\"LR Model Classification Report:\\n\", report_lr)\n"
      ],
      "metadata": {
        "id": "6O9u1GbmDFB1",
        "outputId": "8dbfae24-83cb-42c9-f227-d21f6e6007e7",
        "colab": {
          "base_uri": "https://localhost:8080/"
        }
      },
      "execution_count": 21,
      "outputs": [
        {
          "output_type": "stream",
          "name": "stdout",
          "text": [
            "LR Model Accuracy: 0.8358333333333333\n",
            "LR Model Classification Report:\n",
            "               precision    recall  f1-score   support\n",
            "\n",
            "           0       0.80      0.67      0.73       799\n",
            "           1       0.85      0.92      0.88      1601\n",
            "\n",
            "    accuracy                           0.84      2400\n",
            "   macro avg       0.83      0.80      0.81      2400\n",
            "weighted avg       0.83      0.84      0.83      2400\n",
            "\n"
          ]
        }
      ]
    },
    {
      "cell_type": "code",
      "source": [
        "import nltk\n",
        "nltk.download('punkt')\n",
        "\n",
        "from gensim.models import Word2Vec\n",
        "from sklearn.ensemble import RandomForestClassifier\n"
      ],
      "metadata": {
        "id": "qkDChUVgDs-Z",
        "outputId": "1ef73a05-dd11-428e-d649-64d155e0de47",
        "colab": {
          "base_uri": "https://localhost:8080/"
        }
      },
      "execution_count": 24,
      "outputs": [
        {
          "output_type": "stream",
          "name": "stderr",
          "text": [
            "[nltk_data] Downloading package punkt to /root/nltk_data...\n",
            "[nltk_data]   Unzipping tokenizers/punkt.zip.\n"
          ]
        }
      ]
    },
    {
      "cell_type": "code",
      "source": [
        "rf =  RandomForestClassifier()\n",
        "rf.fit(X_train_tfidf, y_train)\n",
        "# Predict on the test set\n",
        "y_pred_rf = rf.predict(X_test_tfidf)\n",
        "\n",
        "# Evaluate the model\n",
        "accuracy_rf = accuracy_score(y_test, y_pred_rf)\n",
        "report_rf = classification_report(y_test, y_pred_rf)\n",
        "\n",
        "print(\"RF Model Accuracy:\", accuracy_rf)\n",
        "print(\"RF Model Classification Report:\\n\", report_rf)\n"
      ],
      "metadata": {
        "id": "qclShqqbEH2L",
        "outputId": "d78383fc-57f4-4161-b329-1a7e36588b14",
        "colab": {
          "base_uri": "https://localhost:8080/"
        }
      },
      "execution_count": 23,
      "outputs": [
        {
          "output_type": "stream",
          "name": "stdout",
          "text": [
            "RF Model Accuracy: 0.7779166666666667\n",
            "RF Model Classification Report:\n",
            "               precision    recall  f1-score   support\n",
            "\n",
            "           0       0.87      0.39      0.54       799\n",
            "           1       0.76      0.97      0.85      1601\n",
            "\n",
            "    accuracy                           0.78      2400\n",
            "   macro avg       0.81      0.68      0.70      2400\n",
            "weighted avg       0.80      0.78      0.75      2400\n",
            "\n"
          ]
        }
      ]
    },
    {
      "cell_type": "code",
      "source": [
        "tokenized_reviews = data['reviewText'].apply(nltk.word_tokenize)"
      ],
      "metadata": {
        "id": "96gvukvjEiFk"
      },
      "execution_count": 25,
      "outputs": []
    },
    {
      "cell_type": "code",
      "source": [
        "\n",
        "# Train the Word2Vec model\n",
        "word2vec_model = Word2Vec(sentences=tokenized_reviews, vector_size=100, window=5, min_count=1, workers=4)\n",
        "\n",
        "# Function to get average word vectors for a review\n",
        "def get_review_vector(review, model):\n",
        "    words = review.split()\n",
        "    word_vectors = [model.wv[word] for word in words if word in model.wv]\n",
        "    if word_vectors:\n",
        "        return np.mean(word_vectors, axis=0)\n",
        "    else:\n",
        "        return np.zeros(model.vector_size)\n",
        "\n",
        "# Convert reviews to word vectors\n",
        "X_train_w2v = np.array([get_review_vector(review, word2vec_model) for review in X_train])\n",
        "X_test_w2v = np.array([get_review_vector(review, word2vec_model) for review in X_test])\n",
        "\n",
        "# Train a Random Forest classifier\n",
        "model_w2v = RandomForestClassifier()\n",
        "model_w2v.fit(X_train_w2v, y_train)\n",
        "\n",
        "# Predict on the test set\n",
        "y_pred_w2v = model_w2v.predict(X_test_w2v)\n",
        "\n",
        "# Evaluate the model\n",
        "accuracy_w2v = accuracy_score(y_test, y_pred_w2v)\n",
        "report_w2v = classification_report(y_test, y_pred_w2v)\n",
        "\n",
        "print(\"Word2Vec Model Accuracy:\", accuracy_w2v)\n",
        "print(\"Word2Vec Model Classification Report:\\n\", report_w2v)"
      ],
      "metadata": {
        "id": "Y6K_8nGwFxI9",
        "outputId": "3020064e-1f17-4d23-c0f9-f8e53819b35e",
        "colab": {
          "base_uri": "https://localhost:8080/"
        }
      },
      "execution_count": 26,
      "outputs": [
        {
          "output_type": "stream",
          "name": "stdout",
          "text": [
            "Word2Vec Model Accuracy: 0.7616666666666667\n",
            "Word2Vec Model Classification Report:\n",
            "               precision    recall  f1-score   support\n",
            "\n",
            "           0       0.67      0.55      0.61       799\n",
            "           1       0.79      0.87      0.83      1601\n",
            "\n",
            "    accuracy                           0.76      2400\n",
            "   macro avg       0.73      0.71      0.72      2400\n",
            "weighted avg       0.75      0.76      0.75      2400\n",
            "\n"
          ]
        }
      ]
    },
    {
      "cell_type": "code",
      "source": [],
      "metadata": {
        "id": "7zn9X1vZHa8B"
      },
      "execution_count": null,
      "outputs": []
    }
  ]
}